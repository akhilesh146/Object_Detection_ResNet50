{
  "nbformat": 4,
  "nbformat_minor": 0,
  "metadata": {
    "colab": {
      "provenance": [],
      "gpuType": "T4",
      "authorship_tag": "ABX9TyPP41ze5nsURWSX+G9D4sby",
      "include_colab_link": true
    },
    "kernelspec": {
      "name": "python3",
      "display_name": "Python 3"
    },
    "language_info": {
      "name": "python"
    },
    "accelerator": "GPU"
  },
  "cells": [
    {
      "cell_type": "markdown",
      "metadata": {
        "id": "view-in-github",
        "colab_type": "text"
      },
      "source": [
        "<a href=\"https://colab.research.google.com/github/akhilesh146/Object_Detection_ResNet50/blob/main/Object_Recognition_using_ResNet50.ipynb\" target=\"_parent\"><img src=\"https://colab.research.google.com/assets/colab-badge.svg\" alt=\"Open In Colab\"/></a>"
      ]
    },
    {
      "cell_type": "code",
      "execution_count": 1,
      "metadata": {
        "colab": {
          "base_uri": "https://localhost:8080/"
        },
        "id": "6NarB03o3gae",
        "outputId": "6013f749-bfdf-4e0b-8aad-b62356deff24"
      },
      "outputs": [
        {
          "output_type": "stream",
          "name": "stdout",
          "text": [
            "Requirement already satisfied: kaggle in /usr/local/lib/python3.11/dist-packages (1.6.17)\n",
            "Requirement already satisfied: six>=1.10 in /usr/local/lib/python3.11/dist-packages (from kaggle) (1.17.0)\n",
            "Requirement already satisfied: certifi>=2023.7.22 in /usr/local/lib/python3.11/dist-packages (from kaggle) (2024.12.14)\n",
            "Requirement already satisfied: python-dateutil in /usr/local/lib/python3.11/dist-packages (from kaggle) (2.8.2)\n",
            "Requirement already satisfied: requests in /usr/local/lib/python3.11/dist-packages (from kaggle) (2.32.3)\n",
            "Requirement already satisfied: tqdm in /usr/local/lib/python3.11/dist-packages (from kaggle) (4.67.1)\n",
            "Requirement already satisfied: python-slugify in /usr/local/lib/python3.11/dist-packages (from kaggle) (8.0.4)\n",
            "Requirement already satisfied: urllib3 in /usr/local/lib/python3.11/dist-packages (from kaggle) (2.3.0)\n",
            "Requirement already satisfied: bleach in /usr/local/lib/python3.11/dist-packages (from kaggle) (6.2.0)\n",
            "Requirement already satisfied: webencodings in /usr/local/lib/python3.11/dist-packages (from bleach->kaggle) (0.5.1)\n",
            "Requirement already satisfied: text-unidecode>=1.3 in /usr/local/lib/python3.11/dist-packages (from python-slugify->kaggle) (1.3)\n",
            "Requirement already satisfied: charset-normalizer<4,>=2 in /usr/local/lib/python3.11/dist-packages (from requests->kaggle) (3.4.1)\n",
            "Requirement already satisfied: idna<4,>=2.5 in /usr/local/lib/python3.11/dist-packages (from requests->kaggle) (3.10)\n"
          ]
        }
      ],
      "source": [
        "!pip install kaggle\n"
      ]
    },
    {
      "cell_type": "code",
      "source": [
        "#configuring the path of kaggle.json file\n",
        "!mkdir -p ~/.kaggle\n",
        "!cp kaggle.json ~/.kaggle/\n",
        "!chmod 600 ~/.kaggle/kaggle.json"
      ],
      "metadata": {
        "id": "YF7qMaPC4CRl"
      },
      "execution_count": 2,
      "outputs": []
    },
    {
      "cell_type": "code",
      "source": [
        "#dataset api\n",
        "!kaggle competitions download -c cifar-10"
      ],
      "metadata": {
        "colab": {
          "base_uri": "https://localhost:8080/"
        },
        "id": "YKVCwdOP5Hq3",
        "outputId": "9d3d10fe-e5d1-4b50-8604-16fd6545ac93"
      },
      "execution_count": 4,
      "outputs": [
        {
          "output_type": "stream",
          "name": "stdout",
          "text": [
            "Downloading cifar-10.zip to /content\n",
            " 99% 711M/715M [00:06<00:00, 128MB/s]\n",
            "100% 715M/715M [00:06<00:00, 114MB/s]\n"
          ]
        }
      ]
    },
    {
      "cell_type": "code",
      "source": [
        "!ls\n"
      ],
      "metadata": {
        "colab": {
          "base_uri": "https://localhost:8080/"
        },
        "id": "fvTUHYnv5aul",
        "outputId": "b33302ce-0f08-4922-e728-13c616d42740"
      },
      "execution_count": 5,
      "outputs": [
        {
          "output_type": "stream",
          "name": "stdout",
          "text": [
            "cifar-10.zip  kaggle.json  sample_data\n"
          ]
        }
      ]
    },
    {
      "cell_type": "code",
      "source": [
        "#extracting the compressed Dataset\n",
        "from zipfile import ZipFile\n",
        "dataset = '/content/cifar-10.zip'\n",
        "\n",
        "with ZipFile(dataset, 'r') as zip:\n",
        "  zip.extractall()\n",
        "  print('The Dataset is Extracted')"
      ],
      "metadata": {
        "colab": {
          "base_uri": "https://localhost:8080/"
        },
        "id": "c2Kf1YrM5n2G",
        "outputId": "ea30dbb4-8556-4490-a901-45af18621c5b"
      },
      "execution_count": 6,
      "outputs": [
        {
          "output_type": "stream",
          "name": "stdout",
          "text": [
            "The Dataset is Extracted\n"
          ]
        }
      ]
    },
    {
      "cell_type": "code",
      "source": [
        "!ls\n"
      ],
      "metadata": {
        "colab": {
          "base_uri": "https://localhost:8080/"
        },
        "id": "i3cky0Ru6Hev",
        "outputId": "3f72686c-aa37-4c5f-eb1c-9e02f4a02a3b"
      },
      "execution_count": 7,
      "outputs": [
        {
          "output_type": "stream",
          "name": "stdout",
          "text": [
            "cifar-10.zip  kaggle.json  sample_data\tsampleSubmission.csv  test.7z  train.7z  trainLabels.csv\n"
          ]
        }
      ]
    },
    {
      "cell_type": "code",
      "source": [
        "!pip install py7zr"
      ],
      "metadata": {
        "colab": {
          "base_uri": "https://localhost:8080/"
        },
        "id": "IltQRgw36Is_",
        "outputId": "9bb9d33f-5dfc-4e69-b017-5bbbe08a4289"
      },
      "execution_count": 8,
      "outputs": [
        {
          "output_type": "stream",
          "name": "stdout",
          "text": [
            "Collecting py7zr\n",
            "  Downloading py7zr-0.22.0-py3-none-any.whl.metadata (16 kB)\n",
            "Collecting texttable (from py7zr)\n",
            "  Downloading texttable-1.7.0-py2.py3-none-any.whl.metadata (9.8 kB)\n",
            "Collecting pycryptodomex>=3.16.0 (from py7zr)\n",
            "  Downloading pycryptodomex-3.21.0-cp36-abi3-manylinux_2_17_x86_64.manylinux2014_x86_64.whl.metadata (3.4 kB)\n",
            "Collecting pyzstd>=0.15.9 (from py7zr)\n",
            "  Downloading pyzstd-0.16.2-cp311-cp311-manylinux_2_17_x86_64.manylinux2014_x86_64.whl.metadata (2.4 kB)\n",
            "Collecting pyppmd<1.2.0,>=1.1.0 (from py7zr)\n",
            "  Downloading pyppmd-1.1.1-cp311-cp311-manylinux_2_17_x86_64.manylinux2014_x86_64.whl.metadata (5.5 kB)\n",
            "Collecting pybcj<1.1.0,>=1.0.0 (from py7zr)\n",
            "  Downloading pybcj-1.0.3-cp311-cp311-manylinux_2_17_x86_64.manylinux2014_x86_64.whl.metadata (3.9 kB)\n",
            "Collecting multivolumefile>=0.2.3 (from py7zr)\n",
            "  Downloading multivolumefile-0.2.3-py3-none-any.whl.metadata (6.3 kB)\n",
            "Collecting inflate64<1.1.0,>=1.0.0 (from py7zr)\n",
            "  Downloading inflate64-1.0.1-cp311-cp311-manylinux_2_17_x86_64.manylinux2014_x86_64.whl.metadata (3.8 kB)\n",
            "Collecting brotli>=1.1.0 (from py7zr)\n",
            "  Downloading Brotli-1.1.0-cp311-cp311-manylinux_2_17_x86_64.manylinux2014_x86_64.whl.metadata (5.5 kB)\n",
            "Requirement already satisfied: psutil in /usr/local/lib/python3.11/dist-packages (from py7zr) (5.9.5)\n",
            "Downloading py7zr-0.22.0-py3-none-any.whl (67 kB)\n",
            "\u001b[2K   \u001b[90m━━━━━━━━━━━━━━━━━━━━━━━━━━━━━━━━━━━━━━━━\u001b[0m \u001b[32m67.9/67.9 kB\u001b[0m \u001b[31m4.0 MB/s\u001b[0m eta \u001b[36m0:00:00\u001b[0m\n",
            "\u001b[?25hDownloading Brotli-1.1.0-cp311-cp311-manylinux_2_17_x86_64.manylinux2014_x86_64.whl (2.9 MB)\n",
            "\u001b[2K   \u001b[90m━━━━━━━━━━━━━━━━━━━━━━━━━━━━━━━━━━━━━━━━\u001b[0m \u001b[32m2.9/2.9 MB\u001b[0m \u001b[31m51.1 MB/s\u001b[0m eta \u001b[36m0:00:00\u001b[0m\n",
            "\u001b[?25hDownloading inflate64-1.0.1-cp311-cp311-manylinux_2_17_x86_64.manylinux2014_x86_64.whl (96 kB)\n",
            "\u001b[2K   \u001b[90m━━━━━━━━━━━━━━━━━━━━━━━━━━━━━━━━━━━━━━━━\u001b[0m \u001b[32m96.2/96.2 kB\u001b[0m \u001b[31m9.6 MB/s\u001b[0m eta \u001b[36m0:00:00\u001b[0m\n",
            "\u001b[?25hDownloading multivolumefile-0.2.3-py3-none-any.whl (17 kB)\n",
            "Downloading pybcj-1.0.3-cp311-cp311-manylinux_2_17_x86_64.manylinux2014_x86_64.whl (50 kB)\n",
            "\u001b[2K   \u001b[90m━━━━━━━━━━━━━━━━━━━━━━━━━━━━━━━━━━━━━━━━\u001b[0m \u001b[32m50.6/50.6 kB\u001b[0m \u001b[31m5.0 MB/s\u001b[0m eta \u001b[36m0:00:00\u001b[0m\n",
            "\u001b[?25hDownloading pycryptodomex-3.21.0-cp36-abi3-manylinux_2_17_x86_64.manylinux2014_x86_64.whl (2.3 MB)\n",
            "\u001b[2K   \u001b[90m━━━━━━━━━━━━━━━━━━━━━━━━━━━━━━━━━━━━━━━━\u001b[0m \u001b[32m2.3/2.3 MB\u001b[0m \u001b[31m92.1 MB/s\u001b[0m eta \u001b[36m0:00:00\u001b[0m\n",
            "\u001b[?25hDownloading pyppmd-1.1.1-cp311-cp311-manylinux_2_17_x86_64.manylinux2014_x86_64.whl (141 kB)\n",
            "\u001b[2K   \u001b[90m━━━━━━━━━━━━━━━━━━━━━━━━━━━━━━━━━━━━━━━━\u001b[0m \u001b[32m141.3/141.3 kB\u001b[0m \u001b[31m12.2 MB/s\u001b[0m eta \u001b[36m0:00:00\u001b[0m\n",
            "\u001b[?25hDownloading pyzstd-0.16.2-cp311-cp311-manylinux_2_17_x86_64.manylinux2014_x86_64.whl (413 kB)\n",
            "\u001b[2K   \u001b[90m━━━━━━━━━━━━━━━━━━━━━━━━━━━━━━━━━━━━━━━━\u001b[0m \u001b[32m413.7/413.7 kB\u001b[0m \u001b[31m32.8 MB/s\u001b[0m eta \u001b[36m0:00:00\u001b[0m\n",
            "\u001b[?25hDownloading texttable-1.7.0-py2.py3-none-any.whl (10 kB)\n",
            "Installing collected packages: texttable, brotli, pyzstd, pyppmd, pycryptodomex, pybcj, multivolumefile, inflate64, py7zr\n",
            "Successfully installed brotli-1.1.0 inflate64-1.0.1 multivolumefile-0.2.3 py7zr-0.22.0 pybcj-1.0.3 pycryptodomex-3.21.0 pyppmd-1.1.1 pyzstd-0.16.2 texttable-1.7.0\n"
          ]
        }
      ]
    },
    {
      "cell_type": "code",
      "source": [
        "import py7zr\n",
        "\n",
        "archieve = py7zr.SevenZipFile('/content/train.7z', mode='r')\n",
        "archieve.extractall()\n",
        "archieve.close()"
      ],
      "metadata": {
        "id": "4vJk6BLS6Wi3"
      },
      "execution_count": 10,
      "outputs": []
    },
    {
      "cell_type": "code",
      "source": [
        "!ls"
      ],
      "metadata": {
        "colab": {
          "base_uri": "https://localhost:8080/"
        },
        "id": "vo_VFxJa6vgg",
        "outputId": "510ade52-ee52-4a9f-ed3c-4f653ede178b"
      },
      "execution_count": 11,
      "outputs": [
        {
          "output_type": "stream",
          "name": "stdout",
          "text": [
            "cifar-10.zip  sample_data\t    test.7z  train.7z\n",
            "kaggle.json   sampleSubmission.csv  train    trainLabels.csv\n"
          ]
        }
      ]
    },
    {
      "cell_type": "markdown",
      "source": [
        "Importing the Dependencies"
      ],
      "metadata": {
        "id": "3OI7zTW37NiJ"
      }
    },
    {
      "cell_type": "code",
      "source": [
        "import os\n",
        "import numpy as np\n",
        "import pandas as pd\n",
        "from PIL import Image\n",
        "import matplotlib.pyplot as plt\n",
        "import matplotlib.image as mping\n",
        "from sklearn.model_selection import train_test_split"
      ],
      "metadata": {
        "id": "u8mcS2PB7B7j"
      },
      "execution_count": 12,
      "outputs": []
    },
    {
      "cell_type": "code",
      "source": [
        "filename = os.listdir('/content/train')"
      ],
      "metadata": {
        "id": "Lx3P45rR72X_"
      },
      "execution_count": 13,
      "outputs": []
    },
    {
      "cell_type": "code",
      "source": [
        "len(filename)"
      ],
      "metadata": {
        "colab": {
          "base_uri": "https://localhost:8080/"
        },
        "id": "Rv6HV1zv78xg",
        "outputId": "5ee8659d-84f1-4178-8301-477516c35385"
      },
      "execution_count": 17,
      "outputs": [
        {
          "output_type": "execute_result",
          "data": {
            "text/plain": [
              "50000"
            ]
          },
          "metadata": {},
          "execution_count": 17
        }
      ]
    },
    {
      "cell_type": "markdown",
      "source": [
        "Labels Processing"
      ],
      "metadata": {
        "id": "ngPxzaC68Oe3"
      }
    },
    {
      "cell_type": "code",
      "source": [
        "labels_df = pd.read_csv('/content/trainLabels.csv')"
      ],
      "metadata": {
        "id": "EwCiDUyi8NvT"
      },
      "execution_count": 18,
      "outputs": []
    },
    {
      "cell_type": "code",
      "source": [
        "labels_df.head()"
      ],
      "metadata": {
        "colab": {
          "base_uri": "https://localhost:8080/",
          "height": 206
        },
        "id": "C3x7dQXj794Z",
        "outputId": "7ad027ef-6f00-4c57-8f4f-9b806ad86843"
      },
      "execution_count": 20,
      "outputs": [
        {
          "output_type": "execute_result",
          "data": {
            "text/plain": [
              "   id       label\n",
              "0   1        frog\n",
              "1   2       truck\n",
              "2   3       truck\n",
              "3   4        deer\n",
              "4   5  automobile"
            ],
            "text/html": [
              "\n",
              "  <div id=\"df-446bde62-f7e1-4a70-ba0f-9028a69de662\" class=\"colab-df-container\">\n",
              "    <div>\n",
              "<style scoped>\n",
              "    .dataframe tbody tr th:only-of-type {\n",
              "        vertical-align: middle;\n",
              "    }\n",
              "\n",
              "    .dataframe tbody tr th {\n",
              "        vertical-align: top;\n",
              "    }\n",
              "\n",
              "    .dataframe thead th {\n",
              "        text-align: right;\n",
              "    }\n",
              "</style>\n",
              "<table border=\"1\" class=\"dataframe\">\n",
              "  <thead>\n",
              "    <tr style=\"text-align: right;\">\n",
              "      <th></th>\n",
              "      <th>id</th>\n",
              "      <th>label</th>\n",
              "    </tr>\n",
              "  </thead>\n",
              "  <tbody>\n",
              "    <tr>\n",
              "      <th>0</th>\n",
              "      <td>1</td>\n",
              "      <td>frog</td>\n",
              "    </tr>\n",
              "    <tr>\n",
              "      <th>1</th>\n",
              "      <td>2</td>\n",
              "      <td>truck</td>\n",
              "    </tr>\n",
              "    <tr>\n",
              "      <th>2</th>\n",
              "      <td>3</td>\n",
              "      <td>truck</td>\n",
              "    </tr>\n",
              "    <tr>\n",
              "      <th>3</th>\n",
              "      <td>4</td>\n",
              "      <td>deer</td>\n",
              "    </tr>\n",
              "    <tr>\n",
              "      <th>4</th>\n",
              "      <td>5</td>\n",
              "      <td>automobile</td>\n",
              "    </tr>\n",
              "  </tbody>\n",
              "</table>\n",
              "</div>\n",
              "    <div class=\"colab-df-buttons\">\n",
              "\n",
              "  <div class=\"colab-df-container\">\n",
              "    <button class=\"colab-df-convert\" onclick=\"convertToInteractive('df-446bde62-f7e1-4a70-ba0f-9028a69de662')\"\n",
              "            title=\"Convert this dataframe to an interactive table.\"\n",
              "            style=\"display:none;\">\n",
              "\n",
              "  <svg xmlns=\"http://www.w3.org/2000/svg\" height=\"24px\" viewBox=\"0 -960 960 960\">\n",
              "    <path d=\"M120-120v-720h720v720H120Zm60-500h600v-160H180v160Zm220 220h160v-160H400v160Zm0 220h160v-160H400v160ZM180-400h160v-160H180v160Zm440 0h160v-160H620v160ZM180-180h160v-160H180v160Zm440 0h160v-160H620v160Z\"/>\n",
              "  </svg>\n",
              "    </button>\n",
              "\n",
              "  <style>\n",
              "    .colab-df-container {\n",
              "      display:flex;\n",
              "      gap: 12px;\n",
              "    }\n",
              "\n",
              "    .colab-df-convert {\n",
              "      background-color: #E8F0FE;\n",
              "      border: none;\n",
              "      border-radius: 50%;\n",
              "      cursor: pointer;\n",
              "      display: none;\n",
              "      fill: #1967D2;\n",
              "      height: 32px;\n",
              "      padding: 0 0 0 0;\n",
              "      width: 32px;\n",
              "    }\n",
              "\n",
              "    .colab-df-convert:hover {\n",
              "      background-color: #E2EBFA;\n",
              "      box-shadow: 0px 1px 2px rgba(60, 64, 67, 0.3), 0px 1px 3px 1px rgba(60, 64, 67, 0.15);\n",
              "      fill: #174EA6;\n",
              "    }\n",
              "\n",
              "    .colab-df-buttons div {\n",
              "      margin-bottom: 4px;\n",
              "    }\n",
              "\n",
              "    [theme=dark] .colab-df-convert {\n",
              "      background-color: #3B4455;\n",
              "      fill: #D2E3FC;\n",
              "    }\n",
              "\n",
              "    [theme=dark] .colab-df-convert:hover {\n",
              "      background-color: #434B5C;\n",
              "      box-shadow: 0px 1px 3px 1px rgba(0, 0, 0, 0.15);\n",
              "      filter: drop-shadow(0px 1px 2px rgba(0, 0, 0, 0.3));\n",
              "      fill: #FFFFFF;\n",
              "    }\n",
              "  </style>\n",
              "\n",
              "    <script>\n",
              "      const buttonEl =\n",
              "        document.querySelector('#df-446bde62-f7e1-4a70-ba0f-9028a69de662 button.colab-df-convert');\n",
              "      buttonEl.style.display =\n",
              "        google.colab.kernel.accessAllowed ? 'block' : 'none';\n",
              "\n",
              "      async function convertToInteractive(key) {\n",
              "        const element = document.querySelector('#df-446bde62-f7e1-4a70-ba0f-9028a69de662');\n",
              "        const dataTable =\n",
              "          await google.colab.kernel.invokeFunction('convertToInteractive',\n",
              "                                                    [key], {});\n",
              "        if (!dataTable) return;\n",
              "\n",
              "        const docLinkHtml = 'Like what you see? Visit the ' +\n",
              "          '<a target=\"_blank\" href=https://colab.research.google.com/notebooks/data_table.ipynb>data table notebook</a>'\n",
              "          + ' to learn more about interactive tables.';\n",
              "        element.innerHTML = '';\n",
              "        dataTable['output_type'] = 'display_data';\n",
              "        await google.colab.output.renderOutput(dataTable, element);\n",
              "        const docLink = document.createElement('div');\n",
              "        docLink.innerHTML = docLinkHtml;\n",
              "        element.appendChild(docLink);\n",
              "      }\n",
              "    </script>\n",
              "  </div>\n",
              "\n",
              "\n",
              "<div id=\"df-4430bc7e-1f47-4bde-aac7-cbc50425d8f7\">\n",
              "  <button class=\"colab-df-quickchart\" onclick=\"quickchart('df-4430bc7e-1f47-4bde-aac7-cbc50425d8f7')\"\n",
              "            title=\"Suggest charts\"\n",
              "            style=\"display:none;\">\n",
              "\n",
              "<svg xmlns=\"http://www.w3.org/2000/svg\" height=\"24px\"viewBox=\"0 0 24 24\"\n",
              "     width=\"24px\">\n",
              "    <g>\n",
              "        <path d=\"M19 3H5c-1.1 0-2 .9-2 2v14c0 1.1.9 2 2 2h14c1.1 0 2-.9 2-2V5c0-1.1-.9-2-2-2zM9 17H7v-7h2v7zm4 0h-2V7h2v10zm4 0h-2v-4h2v4z\"/>\n",
              "    </g>\n",
              "</svg>\n",
              "  </button>\n",
              "\n",
              "<style>\n",
              "  .colab-df-quickchart {\n",
              "      --bg-color: #E8F0FE;\n",
              "      --fill-color: #1967D2;\n",
              "      --hover-bg-color: #E2EBFA;\n",
              "      --hover-fill-color: #174EA6;\n",
              "      --disabled-fill-color: #AAA;\n",
              "      --disabled-bg-color: #DDD;\n",
              "  }\n",
              "\n",
              "  [theme=dark] .colab-df-quickchart {\n",
              "      --bg-color: #3B4455;\n",
              "      --fill-color: #D2E3FC;\n",
              "      --hover-bg-color: #434B5C;\n",
              "      --hover-fill-color: #FFFFFF;\n",
              "      --disabled-bg-color: #3B4455;\n",
              "      --disabled-fill-color: #666;\n",
              "  }\n",
              "\n",
              "  .colab-df-quickchart {\n",
              "    background-color: var(--bg-color);\n",
              "    border: none;\n",
              "    border-radius: 50%;\n",
              "    cursor: pointer;\n",
              "    display: none;\n",
              "    fill: var(--fill-color);\n",
              "    height: 32px;\n",
              "    padding: 0;\n",
              "    width: 32px;\n",
              "  }\n",
              "\n",
              "  .colab-df-quickchart:hover {\n",
              "    background-color: var(--hover-bg-color);\n",
              "    box-shadow: 0 1px 2px rgba(60, 64, 67, 0.3), 0 1px 3px 1px rgba(60, 64, 67, 0.15);\n",
              "    fill: var(--button-hover-fill-color);\n",
              "  }\n",
              "\n",
              "  .colab-df-quickchart-complete:disabled,\n",
              "  .colab-df-quickchart-complete:disabled:hover {\n",
              "    background-color: var(--disabled-bg-color);\n",
              "    fill: var(--disabled-fill-color);\n",
              "    box-shadow: none;\n",
              "  }\n",
              "\n",
              "  .colab-df-spinner {\n",
              "    border: 2px solid var(--fill-color);\n",
              "    border-color: transparent;\n",
              "    border-bottom-color: var(--fill-color);\n",
              "    animation:\n",
              "      spin 1s steps(1) infinite;\n",
              "  }\n",
              "\n",
              "  @keyframes spin {\n",
              "    0% {\n",
              "      border-color: transparent;\n",
              "      border-bottom-color: var(--fill-color);\n",
              "      border-left-color: var(--fill-color);\n",
              "    }\n",
              "    20% {\n",
              "      border-color: transparent;\n",
              "      border-left-color: var(--fill-color);\n",
              "      border-top-color: var(--fill-color);\n",
              "    }\n",
              "    30% {\n",
              "      border-color: transparent;\n",
              "      border-left-color: var(--fill-color);\n",
              "      border-top-color: var(--fill-color);\n",
              "      border-right-color: var(--fill-color);\n",
              "    }\n",
              "    40% {\n",
              "      border-color: transparent;\n",
              "      border-right-color: var(--fill-color);\n",
              "      border-top-color: var(--fill-color);\n",
              "    }\n",
              "    60% {\n",
              "      border-color: transparent;\n",
              "      border-right-color: var(--fill-color);\n",
              "    }\n",
              "    80% {\n",
              "      border-color: transparent;\n",
              "      border-right-color: var(--fill-color);\n",
              "      border-bottom-color: var(--fill-color);\n",
              "    }\n",
              "    90% {\n",
              "      border-color: transparent;\n",
              "      border-bottom-color: var(--fill-color);\n",
              "    }\n",
              "  }\n",
              "</style>\n",
              "\n",
              "  <script>\n",
              "    async function quickchart(key) {\n",
              "      const quickchartButtonEl =\n",
              "        document.querySelector('#' + key + ' button');\n",
              "      quickchartButtonEl.disabled = true;  // To prevent multiple clicks.\n",
              "      quickchartButtonEl.classList.add('colab-df-spinner');\n",
              "      try {\n",
              "        const charts = await google.colab.kernel.invokeFunction(\n",
              "            'suggestCharts', [key], {});\n",
              "      } catch (error) {\n",
              "        console.error('Error during call to suggestCharts:', error);\n",
              "      }\n",
              "      quickchartButtonEl.classList.remove('colab-df-spinner');\n",
              "      quickchartButtonEl.classList.add('colab-df-quickchart-complete');\n",
              "    }\n",
              "    (() => {\n",
              "      let quickchartButtonEl =\n",
              "        document.querySelector('#df-4430bc7e-1f47-4bde-aac7-cbc50425d8f7 button');\n",
              "      quickchartButtonEl.style.display =\n",
              "        google.colab.kernel.accessAllowed ? 'block' : 'none';\n",
              "    })();\n",
              "  </script>\n",
              "</div>\n",
              "\n",
              "    </div>\n",
              "  </div>\n"
            ],
            "application/vnd.google.colaboratory.intrinsic+json": {
              "type": "dataframe",
              "variable_name": "labels_df",
              "summary": "{\n  \"name\": \"labels_df\",\n  \"rows\": 50000,\n  \"fields\": [\n    {\n      \"column\": \"id\",\n      \"properties\": {\n        \"dtype\": \"number\",\n        \"std\": 14433,\n        \"min\": 1,\n        \"max\": 50000,\n        \"num_unique_values\": 50000,\n        \"samples\": [\n          33554,\n          9428,\n          200\n        ],\n        \"semantic_type\": \"\",\n        \"description\": \"\"\n      }\n    },\n    {\n      \"column\": \"label\",\n      \"properties\": {\n        \"dtype\": \"category\",\n        \"num_unique_values\": 10,\n        \"samples\": [\n          \"dog\",\n          \"truck\",\n          \"horse\"\n        ],\n        \"semantic_type\": \"\",\n        \"description\": \"\"\n      }\n    }\n  ]\n}"
            }
          },
          "metadata": {},
          "execution_count": 20
        }
      ]
    },
    {
      "cell_type": "code",
      "source": [
        "labels_df['label'].value_counts()"
      ],
      "metadata": {
        "colab": {
          "base_uri": "https://localhost:8080/",
          "height": 429
        },
        "id": "vcHi0y9M8cck",
        "outputId": "90d6dd2c-2225-4864-9e10-fd4ab172837f"
      },
      "execution_count": 21,
      "outputs": [
        {
          "output_type": "execute_result",
          "data": {
            "text/plain": [
              "label\n",
              "frog          5000\n",
              "truck         5000\n",
              "deer          5000\n",
              "automobile    5000\n",
              "bird          5000\n",
              "horse         5000\n",
              "ship          5000\n",
              "cat           5000\n",
              "dog           5000\n",
              "airplane      5000\n",
              "Name: count, dtype: int64"
            ],
            "text/html": [
              "<div>\n",
              "<style scoped>\n",
              "    .dataframe tbody tr th:only-of-type {\n",
              "        vertical-align: middle;\n",
              "    }\n",
              "\n",
              "    .dataframe tbody tr th {\n",
              "        vertical-align: top;\n",
              "    }\n",
              "\n",
              "    .dataframe thead th {\n",
              "        text-align: right;\n",
              "    }\n",
              "</style>\n",
              "<table border=\"1\" class=\"dataframe\">\n",
              "  <thead>\n",
              "    <tr style=\"text-align: right;\">\n",
              "      <th></th>\n",
              "      <th>count</th>\n",
              "    </tr>\n",
              "    <tr>\n",
              "      <th>label</th>\n",
              "      <th></th>\n",
              "    </tr>\n",
              "  </thead>\n",
              "  <tbody>\n",
              "    <tr>\n",
              "      <th>frog</th>\n",
              "      <td>5000</td>\n",
              "    </tr>\n",
              "    <tr>\n",
              "      <th>truck</th>\n",
              "      <td>5000</td>\n",
              "    </tr>\n",
              "    <tr>\n",
              "      <th>deer</th>\n",
              "      <td>5000</td>\n",
              "    </tr>\n",
              "    <tr>\n",
              "      <th>automobile</th>\n",
              "      <td>5000</td>\n",
              "    </tr>\n",
              "    <tr>\n",
              "      <th>bird</th>\n",
              "      <td>5000</td>\n",
              "    </tr>\n",
              "    <tr>\n",
              "      <th>horse</th>\n",
              "      <td>5000</td>\n",
              "    </tr>\n",
              "    <tr>\n",
              "      <th>ship</th>\n",
              "      <td>5000</td>\n",
              "    </tr>\n",
              "    <tr>\n",
              "      <th>cat</th>\n",
              "      <td>5000</td>\n",
              "    </tr>\n",
              "    <tr>\n",
              "      <th>dog</th>\n",
              "      <td>5000</td>\n",
              "    </tr>\n",
              "    <tr>\n",
              "      <th>airplane</th>\n",
              "      <td>5000</td>\n",
              "    </tr>\n",
              "  </tbody>\n",
              "</table>\n",
              "</div><br><label><b>dtype:</b> int64</label>"
            ]
          },
          "metadata": {},
          "execution_count": 21
        }
      ]
    },
    {
      "cell_type": "code",
      "source": [
        "labels_dictionary = {'airplane':0, 'automobile':1, 'bird':2, 'cat':3, 'deer':4, 'dog':5, 'frog':6, 'horse':7, 'ship':8, 'truck':9}\n",
        "\n",
        "labels = [labels_dictionary[i] for i in labels_df['label']]"
      ],
      "metadata": {
        "id": "5yhYeWk49NMd"
      },
      "execution_count": 23,
      "outputs": []
    },
    {
      "cell_type": "code",
      "source": [
        "labels[0:5]"
      ],
      "metadata": {
        "colab": {
          "base_uri": "https://localhost:8080/"
        },
        "id": "rGk8pQxO9ohu",
        "outputId": "0d705fff-9ed2-428f-c218-41df9c4bfd24"
      },
      "execution_count": 25,
      "outputs": [
        {
          "output_type": "execute_result",
          "data": {
            "text/plain": [
              "[6, 9, 9, 4, 1]"
            ]
          },
          "metadata": {},
          "execution_count": 25
        }
      ]
    },
    {
      "cell_type": "code",
      "source": [
        "#displaying the sample image\n",
        "import cv2\n",
        "from google.colab.patches import cv2_imshow\n",
        "image = cv2.imread('/content/train/7796.png')\n",
        "cv2_imshow(image)"
      ],
      "metadata": {
        "colab": {
          "base_uri": "https://localhost:8080/",
          "height": 49
        },
        "id": "ajQh_Ia_-F3Q",
        "outputId": "9f927c72-4543-4f50-f053-81b237c072da"
      },
      "execution_count": 28,
      "outputs": [
        {
          "output_type": "display_data",
          "data": {
            "text/plain": [
              "<PIL.Image.Image image mode=RGB size=32x32>"
            ],
            "image/png": "[encoded data removed]",
            "image/jpeg": "[encoded data removed]"
          },
          "metadata": {}
        }
      ]
    },
    {
      "cell_type": "code",
      "source": [
        "id_list = list(labels_df['id'])\n",
        "id_list[0:5]"
      ],
      "metadata": {
        "colab": {
          "base_uri": "https://localhost:8080/"
        },
        "id": "F094E5Ou_kmM",
        "outputId": "959994f6-42e5-4397-b34c-9f22176c6197"
      },
      "execution_count": 32,
      "outputs": [
        {
          "output_type": "execute_result",
          "data": {
            "text/plain": [
              "[1, 2, 3, 4, 5]"
            ]
          },
          "metadata": {},
          "execution_count": 32
        }
      ]
    },
    {
      "cell_type": "markdown",
      "source": [
        "Image Processing"
      ],
      "metadata": {
        "id": "SFWrOnEo_N8e"
      }
    },
    {
      "cell_type": "code",
      "source": [
        "# convert images to numpy arrays\n",
        "train_data_folder = '/content/train/'\n",
        "data = []\n",
        "\n",
        "for id in id_list:\n",
        "  image = Image.open(train_data_folder + str(id) + '.png')\n",
        "  image = np.array(image)\n",
        "  data.append(image)"
      ],
      "metadata": {
        "id": "rkOKTfqz-nie"
      },
      "execution_count": 33,
      "outputs": []
    },
    {
      "cell_type": "code",
      "source": [
        "type(data)"
      ],
      "metadata": {
        "colab": {
          "base_uri": "https://localhost:8080/"
        },
        "id": "CKCwvmdUCh0b",
        "outputId": "7afde0f2-7568-4d77-8c6c-65d97edb3453"
      },
      "execution_count": 40,
      "outputs": [
        {
          "output_type": "execute_result",
          "data": {
            "text/plain": [
              "list"
            ]
          },
          "metadata": {},
          "execution_count": 40
        }
      ]
    },
    {
      "cell_type": "code",
      "source": [
        "len(data)"
      ],
      "metadata": {
        "colab": {
          "base_uri": "https://localhost:8080/"
        },
        "id": "wMOiC3f_AtJd",
        "outputId": "52704f82-b785-443f-edc4-cf9f7edcfa37"
      },
      "execution_count": 34,
      "outputs": [
        {
          "output_type": "execute_result",
          "data": {
            "text/plain": [
              "50000"
            ]
          },
          "metadata": {},
          "execution_count": 34
        }
      ]
    },
    {
      "cell_type": "code",
      "source": [
        "type(data[0])"
      ],
      "metadata": {
        "colab": {
          "base_uri": "https://localhost:8080/"
        },
        "id": "iBikA2qcBPmw",
        "outputId": "85ce7de7-a5f8-4d1a-946e-c096a028acab"
      },
      "execution_count": 35,
      "outputs": [
        {
          "output_type": "execute_result",
          "data": {
            "text/plain": [
              "numpy.ndarray"
            ]
          },
          "metadata": {},
          "execution_count": 35
        }
      ]
    },
    {
      "cell_type": "code",
      "source": [
        "data[0].shape"
      ],
      "metadata": {
        "colab": {
          "base_uri": "https://localhost:8080/"
        },
        "id": "b79WsCHqBSjz",
        "outputId": "5d480834-e6a8-4f4c-a26d-6acdc289c40b"
      },
      "execution_count": 36,
      "outputs": [
        {
          "output_type": "execute_result",
          "data": {
            "text/plain": [
              "(32, 32, 3)"
            ]
          },
          "metadata": {},
          "execution_count": 36
        }
      ]
    },
    {
      "cell_type": "code",
      "source": [
        "# convert imageslist and labels list to numpy arrays\n",
        "\n",
        "X = np.array(data)\n",
        "Y = np.array(labels)"
      ],
      "metadata": {
        "id": "8xDlrFPXBW8e"
      },
      "execution_count": 37,
      "outputs": []
    },
    {
      "cell_type": "code",
      "source": [
        "type(X)"
      ],
      "metadata": {
        "colab": {
          "base_uri": "https://localhost:8080/"
        },
        "id": "kxhSXWNACUqN",
        "outputId": "f9d775aa-69c2-4874-a202-8db2a54952cf"
      },
      "execution_count": 39,
      "outputs": [
        {
          "output_type": "execute_result",
          "data": {
            "text/plain": [
              "numpy.ndarray"
            ]
          },
          "metadata": {},
          "execution_count": 39
        }
      ]
    },
    {
      "cell_type": "markdown",
      "source": [
        "Train Test Split"
      ],
      "metadata": {
        "id": "h5LMf9wDCtFT"
      }
    },
    {
      "cell_type": "code",
      "source": [
        "X_train, X_test, Y_train, Y_test = train_test_split(X, Y, test_size=0.2, random_state=2)"
      ],
      "metadata": {
        "id": "ON_FlnE4Csna"
      },
      "execution_count": 41,
      "outputs": []
    },
    {
      "cell_type": "code",
      "source": [
        "print(X.shape, X_train.shape, X_test.shape)"
      ],
      "metadata": {
        "colab": {
          "base_uri": "https://localhost:8080/"
        },
        "id": "h3FChVrtCXM_",
        "outputId": "fd0081cf-dfcf-4ace-e43e-42b021af048b"
      },
      "execution_count": 42,
      "outputs": [
        {
          "output_type": "stream",
          "name": "stdout",
          "text": [
            "(50000, 32, 32, 3) (40000, 32, 32, 3) (10000, 32, 32, 3)\n"
          ]
        }
      ]
    },
    {
      "cell_type": "code",
      "source": [
        "# scaling the data\n",
        "X_train_scaled = X_train / 255\n",
        "X_test_scaled = X_test / 255"
      ],
      "metadata": {
        "id": "9vRKEzGYDFF_"
      },
      "execution_count": 43,
      "outputs": []
    },
    {
      "cell_type": "code",
      "source": [
        "X_test_scaled"
      ],
      "metadata": {
        "colab": {
          "base_uri": "https://localhost:8080/"
        },
        "id": "2GsYRoX0Dgl_",
        "outputId": "3cecbeb7-fe89-43c4-d7eb-7dcb4b19a2a3"
      },
      "execution_count": 44,
      "outputs": [
        {
          "output_type": "execute_result",
          "data": {
            "text/plain": [
              "array([[[[0.99215686, 0.87843137, 0.71764706],\n",
              "         [0.99215686, 0.88235294, 0.7254902 ],\n",
              "         [0.99607843, 0.89411765, 0.73333333],\n",
              "         ...,\n",
              "         [1.        , 0.88627451, 0.72941176],\n",
              "         [0.99607843, 0.88235294, 0.7254902 ],\n",
              "         [0.99215686, 0.87843137, 0.72156863]],\n",
              "\n",
              "        [[0.97647059, 0.8745098 , 0.71764706],\n",
              "         [0.98039216, 0.87843137, 0.7254902 ],\n",
              "         [0.98431373, 0.89019608, 0.74117647],\n",
              "         ...,\n",
              "         [0.98823529, 0.8745098 , 0.71764706],\n",
              "         [0.98431373, 0.87058824, 0.71372549],\n",
              "         [0.98039216, 0.86666667, 0.71372549]],\n",
              "\n",
              "        [[0.98039216, 0.88235294, 0.72941176],\n",
              "         [0.98823529, 0.89411765, 0.74509804],\n",
              "         [0.99607843, 0.90588235, 0.76078431],\n",
              "         ...,\n",
              "         [0.99215686, 0.8745098 , 0.71372549],\n",
              "         [0.98823529, 0.8745098 , 0.71764706],\n",
              "         [0.98431373, 0.87058824, 0.71372549]],\n",
              "\n",
              "        ...,\n",
              "\n",
              "        [[0.98431373, 0.87058824, 0.71372549],\n",
              "         [0.98823529, 0.8745098 , 0.71764706],\n",
              "         [0.98823529, 0.8745098 , 0.71764706],\n",
              "         ...,\n",
              "         [0.98823529, 0.8745098 , 0.71372549],\n",
              "         [0.98823529, 0.8745098 , 0.71764706],\n",
              "         [0.98431373, 0.87058824, 0.71372549]],\n",
              "\n",
              "        [[0.98431373, 0.87058824, 0.71372549],\n",
              "         [0.98823529, 0.8745098 , 0.71764706],\n",
              "         [0.98823529, 0.8745098 , 0.71764706],\n",
              "         ...,\n",
              "         [0.98431373, 0.87843137, 0.71372549],\n",
              "         [0.98823529, 0.8745098 , 0.71764706],\n",
              "         [0.98431373, 0.87058824, 0.71372549]],\n",
              "\n",
              "        [[0.98431373, 0.87058824, 0.71372549],\n",
              "         [0.98823529, 0.8745098 , 0.71764706],\n",
              "         [0.98823529, 0.8745098 , 0.71764706],\n",
              "         ...,\n",
              "         [0.98039216, 0.87843137, 0.71372549],\n",
              "         [0.98823529, 0.8745098 , 0.71764706],\n",
              "         [0.98431373, 0.87058824, 0.71372549]]],\n",
              "\n",
              "\n",
              "       [[[0.94117647, 0.94901961, 0.96862745],\n",
              "         [0.77647059, 0.83529412, 0.84313725],\n",
              "         [0.7254902 , 0.78823529, 0.79215686],\n",
              "         ...,\n",
              "         [0.88627451, 0.88235294, 0.90196078],\n",
              "         [0.90588235, 0.90196078, 0.92156863],\n",
              "         [0.88235294, 0.87843137, 0.89803922]],\n",
              "\n",
              "        [[1.        , 0.98431373, 1.        ],\n",
              "         [0.95686275, 0.96862745, 0.98039216],\n",
              "         [0.89803922, 0.91764706, 0.92941176],\n",
              "         ...,\n",
              "         [0.84705882, 0.84313725, 0.8627451 ],\n",
              "         [0.87058824, 0.86666667, 0.88627451],\n",
              "         [0.87843137, 0.8745098 , 0.89411765]],\n",
              "\n",
              "        [[0.97647059, 0.95686275, 0.97254902],\n",
              "         [0.96862745, 0.94901961, 0.96078431],\n",
              "         [0.96862745, 0.96470588, 0.97254902],\n",
              "         ...,\n",
              "         [0.87843137, 0.8745098 , 0.89411765],\n",
              "         [0.87843137, 0.8745098 , 0.89411765],\n",
              "         [0.88627451, 0.88235294, 0.90196078]],\n",
              "\n",
              "        ...,\n",
              "\n",
              "        [[0.0745098 , 0.07058824, 0.10588235],\n",
              "         [0.0627451 , 0.05882353, 0.09019608],\n",
              "         [0.04705882, 0.04313725, 0.07843137],\n",
              "         ...,\n",
              "         [0.39215686, 0.36078431, 0.35294118],\n",
              "         [0.4       , 0.37647059, 0.37254902],\n",
              "         [0.38823529, 0.37647059, 0.36862745]],\n",
              "\n",
              "        [[0.06666667, 0.0627451 , 0.09411765],\n",
              "         [0.05882353, 0.05490196, 0.08627451],\n",
              "         [0.05098039, 0.04705882, 0.07843137],\n",
              "         ...,\n",
              "         [0.38823529, 0.35686275, 0.34901961],\n",
              "         [0.38823529, 0.36470588, 0.36470588],\n",
              "         [0.38823529, 0.36862745, 0.35686275]],\n",
              "\n",
              "        [[0.0627451 , 0.05882353, 0.09019608],\n",
              "         [0.05490196, 0.05098039, 0.08235294],\n",
              "         [0.05098039, 0.04705882, 0.07843137],\n",
              "         ...,\n",
              "         [0.40392157, 0.37254902, 0.36470588],\n",
              "         [0.39607843, 0.36862745, 0.36862745],\n",
              "         [0.39607843, 0.37254902, 0.34901961]]],\n",
              "\n",
              "\n",
              "       [[[0.75294118, 0.90196078, 0.90588235],\n",
              "         [0.51764706, 0.7254902 , 0.7254902 ],\n",
              "         [0.38431373, 0.58823529, 0.47843137],\n",
              "         ...,\n",
              "         [0.21960784, 0.38039216, 0.58823529],\n",
              "         [0.27058824, 0.41176471, 0.53333333],\n",
              "         [0.34509804, 0.34117647, 0.29803922]],\n",
              "\n",
              "        [[0.45882353, 0.74901961, 0.80784314],\n",
              "         [0.28235294, 0.57254902, 0.52156863],\n",
              "         [0.37254902, 0.52156863, 0.29019608],\n",
              "         ...,\n",
              "         [0.18823529, 0.33333333, 0.5372549 ],\n",
              "         [0.27058824, 0.42745098, 0.51372549],\n",
              "         [0.3254902 , 0.32156863, 0.22352941]],\n",
              "\n",
              "        [[0.49803922, 0.83137255, 0.89019608],\n",
              "         [0.45882353, 0.68627451, 0.54509804],\n",
              "         [0.33333333, 0.49019608, 0.25490196],\n",
              "         ...,\n",
              "         [0.25490196, 0.33333333, 0.38039216],\n",
              "         [0.31372549, 0.31372549, 0.3254902 ],\n",
              "         [0.41176471, 0.30196078, 0.18823529]],\n",
              "\n",
              "        ...,\n",
              "\n",
              "        [[0.96078431, 0.96078431, 0.85490196],\n",
              "         [0.95294118, 0.94117647, 0.86666667],\n",
              "         [0.96078431, 0.94117647, 0.8627451 ],\n",
              "         ...,\n",
              "         [0.89411765, 0.8       , 0.72941176],\n",
              "         [0.8627451 , 0.74509804, 0.6745098 ],\n",
              "         [0.81960784, 0.66666667, 0.59215686]],\n",
              "\n",
              "        [[0.96862745, 0.97254902, 0.88235294],\n",
              "         [0.96470588, 0.95294118, 0.88627451],\n",
              "         [0.96078431, 0.94509804, 0.87058824],\n",
              "         ...,\n",
              "         [0.89411765, 0.80784314, 0.72941176],\n",
              "         [0.91764706, 0.81568627, 0.73333333],\n",
              "         [0.90196078, 0.76470588, 0.69019608]],\n",
              "\n",
              "        [[0.95686275, 0.96470588, 0.88627451],\n",
              "         [0.96078431, 0.95686275, 0.89019608],\n",
              "         [0.94901961, 0.94117647, 0.85882353],\n",
              "         ...,\n",
              "         [0.9254902 , 0.83921569, 0.75294118],\n",
              "         [0.95294118, 0.85490196, 0.77254902],\n",
              "         [0.9254902 , 0.80392157, 0.7254902 ]]],\n",
              "\n",
              "\n",
              "       ...,\n",
              "\n",
              "\n",
              "       [[[0.98431373, 0.98431373, 0.98431373],\n",
              "         [0.97647059, 0.97647059, 0.97647059],\n",
              "         [0.98039216, 0.98039216, 0.98039216],\n",
              "         ...,\n",
              "         [0.78823529, 0.8745098 , 0.91372549],\n",
              "         [0.8       , 0.88627451, 0.92156863],\n",
              "         [0.85098039, 0.92941176, 0.95686275]],\n",
              "\n",
              "        [[0.99607843, 0.99607843, 0.99607843],\n",
              "         [0.99215686, 0.99215686, 0.99215686],\n",
              "         [0.99215686, 0.99215686, 0.99215686],\n",
              "         ...,\n",
              "         [0.91764706, 0.95294118, 0.98039216],\n",
              "         [0.93333333, 0.96862745, 0.98823529],\n",
              "         [0.96078431, 0.98823529, 1.        ]],\n",
              "\n",
              "        [[0.98431373, 0.98431373, 0.98431373],\n",
              "         [0.98039216, 0.98039216, 0.98039216],\n",
              "         [0.98431373, 0.98431373, 0.98431373],\n",
              "         ...,\n",
              "         [0.97647059, 0.96862745, 0.98039216],\n",
              "         [0.97647059, 0.97254902, 0.98431373],\n",
              "         [0.98431373, 0.98039216, 0.98823529]],\n",
              "\n",
              "        ...,\n",
              "\n",
              "        [[0.33333333, 0.34901961, 0.39607843],\n",
              "         [0.34901961, 0.35294118, 0.37647059],\n",
              "         [0.29411765, 0.27843137, 0.2745098 ],\n",
              "         ...,\n",
              "         [0.63529412, 0.6745098 , 0.67843137],\n",
              "         [0.63529412, 0.6745098 , 0.67843137],\n",
              "         [0.63137255, 0.67058824, 0.67843137]],\n",
              "\n",
              "        [[0.4       , 0.43137255, 0.49019608],\n",
              "         [0.38039216, 0.40392157, 0.43921569],\n",
              "         [0.29019608, 0.30196078, 0.31372549],\n",
              "         ...,\n",
              "         [0.64705882, 0.68627451, 0.69019608],\n",
              "         [0.63921569, 0.67843137, 0.68235294],\n",
              "         [0.63137255, 0.67058824, 0.67843137]],\n",
              "\n",
              "        [[0.36470588, 0.40392157, 0.46666667],\n",
              "         [0.32941176, 0.36078431, 0.40784314],\n",
              "         [0.32156863, 0.34901961, 0.37647059],\n",
              "         ...,\n",
              "         [0.63921569, 0.67843137, 0.68235294],\n",
              "         [0.62745098, 0.66666667, 0.66666667],\n",
              "         [0.61960784, 0.65490196, 0.6627451 ]]],\n",
              "\n",
              "\n",
              "       [[[0.36078431, 0.39215686, 0.53333333],\n",
              "         [0.32156863, 0.36078431, 0.48627451],\n",
              "         [0.3254902 , 0.36862745, 0.49019608],\n",
              "         ...,\n",
              "         [0.43529412, 0.4627451 , 0.42352941],\n",
              "         [0.33333333, 0.3372549 , 0.34117647],\n",
              "         [0.25098039, 0.24705882, 0.30196078]],\n",
              "\n",
              "        [[0.56862745, 0.56470588, 0.57254902],\n",
              "         [0.56078431, 0.55294118, 0.55294118],\n",
              "         [0.6       , 0.59215686, 0.59607843],\n",
              "         ...,\n",
              "         [0.55294118, 0.54117647, 0.50196078],\n",
              "         [0.32156863, 0.30980392, 0.32156863],\n",
              "         [0.28235294, 0.28235294, 0.32156863]],\n",
              "\n",
              "        [[0.64705882, 0.61568627, 0.53333333],\n",
              "         [0.64313725, 0.60784314, 0.52156863],\n",
              "         [0.6627451 , 0.62352941, 0.54509804],\n",
              "         ...,\n",
              "         [0.41960784, 0.41568627, 0.37254902],\n",
              "         [0.34509804, 0.34509804, 0.32156863],\n",
              "         [0.3372549 , 0.34117647, 0.33333333]],\n",
              "\n",
              "        ...,\n",
              "\n",
              "        [[0.29019608, 0.29411765, 0.15294118],\n",
              "         [0.28235294, 0.28627451, 0.1372549 ],\n",
              "         [0.28235294, 0.2745098 , 0.13333333],\n",
              "         ...,\n",
              "         [0.24313725, 0.25882353, 0.13333333],\n",
              "         [0.25098039, 0.27058824, 0.14117647],\n",
              "         [0.23921569, 0.25882353, 0.14117647]],\n",
              "\n",
              "        [[0.25882353, 0.27843137, 0.1372549 ],\n",
              "         [0.28235294, 0.29411765, 0.14117647],\n",
              "         [0.28235294, 0.28627451, 0.1372549 ],\n",
              "         ...,\n",
              "         [0.23137255, 0.23529412, 0.13333333],\n",
              "         [0.24313725, 0.24705882, 0.14117647],\n",
              "         [0.23921569, 0.23921569, 0.13333333]],\n",
              "\n",
              "        [[0.2627451 , 0.27843137, 0.14117647],\n",
              "         [0.28627451, 0.29411765, 0.14117647],\n",
              "         [0.29803922, 0.29803922, 0.14901961],\n",
              "         ...,\n",
              "         [0.21960784, 0.21568627, 0.14117647],\n",
              "         [0.22352941, 0.22745098, 0.1372549 ],\n",
              "         [0.22352941, 0.24313725, 0.13333333]]],\n",
              "\n",
              "\n",
              "       [[[0.7254902 , 0.78431373, 0.8627451 ],\n",
              "         [0.72156863, 0.77647059, 0.85098039],\n",
              "         [0.72156863, 0.77647059, 0.86666667],\n",
              "         ...,\n",
              "         [0.5254902 , 0.55294118, 0.58823529],\n",
              "         [0.54509804, 0.57647059, 0.59215686],\n",
              "         [0.53333333, 0.56078431, 0.49803922]],\n",
              "\n",
              "        [[0.68627451, 0.76078431, 0.8627451 ],\n",
              "         [0.68627451, 0.76078431, 0.85490196],\n",
              "         [0.68627451, 0.76078431, 0.85490196],\n",
              "         ...,\n",
              "         [0.52156863, 0.49411765, 0.45490196],\n",
              "         [0.5254902 , 0.51764706, 0.43921569],\n",
              "         [0.48235294, 0.49019608, 0.32941176]],\n",
              "\n",
              "        [[0.68235294, 0.76470588, 0.87843137],\n",
              "         [0.67843137, 0.76078431, 0.86666667],\n",
              "         [0.67843137, 0.76470588, 0.85098039],\n",
              "         ...,\n",
              "         [0.57647059, 0.55686275, 0.48627451],\n",
              "         [0.57647059, 0.57254902, 0.4627451 ],\n",
              "         [0.48627451, 0.50980392, 0.32156863]],\n",
              "\n",
              "        ...,\n",
              "\n",
              "        [[0.51372549, 0.53333333, 0.54509804],\n",
              "         [0.50980392, 0.52941176, 0.5372549 ],\n",
              "         [0.50980392, 0.53333333, 0.53333333],\n",
              "         ...,\n",
              "         [0.4627451 , 0.47058824, 0.43137255],\n",
              "         [0.4627451 , 0.47058824, 0.42745098],\n",
              "         [0.45098039, 0.45882353, 0.40784314]],\n",
              "\n",
              "        [[0.49803922, 0.51764706, 0.52941176],\n",
              "         [0.49803922, 0.51764706, 0.5254902 ],\n",
              "         [0.50196078, 0.5254902 , 0.5254902 ],\n",
              "         ...,\n",
              "         [0.45490196, 0.45882353, 0.42745098],\n",
              "         [0.45882353, 0.46666667, 0.42745098],\n",
              "         [0.45490196, 0.4627451 , 0.41568627]],\n",
              "\n",
              "        [[0.52156863, 0.54117647, 0.55686275],\n",
              "         [0.51764706, 0.54117647, 0.54901961],\n",
              "         [0.51764706, 0.54117647, 0.54117647],\n",
              "         ...,\n",
              "         [0.45490196, 0.45882353, 0.43137255],\n",
              "         [0.45490196, 0.45882353, 0.42745098],\n",
              "         [0.45098039, 0.45882353, 0.41568627]]]])"
            ]
          },
          "metadata": {},
          "execution_count": 44
        }
      ]
    },
    {
      "cell_type": "markdown",
      "source": [
        "Building the Neural Network"
      ],
      "metadata": {
        "id": "6LMfZScmDuTk"
      }
    },
    {
      "cell_type": "code",
      "source": [
        "import tensorflow as tf\n",
        "from tensorflow import keras"
      ],
      "metadata": {
        "id": "IJUe9tlaDjw2"
      },
      "execution_count": 45,
      "outputs": []
    },
    {
      "cell_type": "code",
      "source": [
        "num_of_classes = 10\n",
        "\n",
        "# setting up the layers of Simple Neural Network\n",
        "\n",
        "model = keras.Sequential([\n",
        "    keras.layers.Flatten(input_shape=(32,32,3)),\n",
        "    keras.layers.Dense(64, activation='relu'),\n",
        "    keras.layers.Dense(num_of_classes, activation='softmax')\n",
        "])\n",
        "\n",
        "# compiling the model\n",
        "model.compile(optimizer='adam',\n",
        "              loss='sparse_categorical_crossentropy',\n",
        "              metrics=['accuracy'])"
      ],
      "metadata": {
        "colab": {
          "base_uri": "https://localhost:8080/"
        },
        "id": "Gg7Tt3TrD3jZ",
        "outputId": "fd2e0019-2cdb-4423-e5ad-958003affd34"
      },
      "execution_count": 46,
      "outputs": [
        {
          "output_type": "stream",
          "name": "stderr",
          "text": [
            "/usr/local/lib/python3.11/dist-packages/keras/src/layers/reshaping/flatten.py:37: UserWarning: Do not pass an `input_shape`/`input_dim` argument to a layer. When using Sequential models, prefer using an `Input(shape)` object as the first layer in the model instead.\n",
            "  super().__init__(**kwargs)\n"
          ]
        }
      ]
    },
    {
      "cell_type": "code",
      "source": [
        "#training the neural network\n",
        "model.fit(X_train_scaled, Y_train,validation_split=0.1, epochs=10)"
      ],
      "metadata": {
        "colab": {
          "base_uri": "https://localhost:8080/"
        },
        "id": "kUS-UbtcE-eM",
        "outputId": "cae9dd56-14bc-4e1b-9109-84823391b566"
      },
      "execution_count": 47,
      "outputs": [
        {
          "output_type": "stream",
          "name": "stdout",
          "text": [
            "Epoch 1/10\n",
            "\u001b[1m1125/1125\u001b[0m \u001b[32m━━━━━━━━━━━━━━━━━━━━\u001b[0m\u001b[37m\u001b[0m \u001b[1m4s\u001b[0m 2ms/step - accuracy: 0.2350 - loss: 2.0911 - val_accuracy: 0.2950 - val_loss: 1.9140\n",
            "Epoch 2/10\n",
            "\u001b[1m1125/1125\u001b[0m \u001b[32m━━━━━━━━━━━━━━━━━━━━\u001b[0m\u001b[37m\u001b[0m \u001b[1m2s\u001b[0m 2ms/step - accuracy: 0.3215 - loss: 1.8789 - val_accuracy: 0.3400 - val_loss: 1.8245\n",
            "Epoch 3/10\n",
            "\u001b[1m1125/1125\u001b[0m \u001b[32m━━━━━━━━━━━━━━━━━━━━\u001b[0m\u001b[37m\u001b[0m \u001b[1m2s\u001b[0m 2ms/step - accuracy: 0.3507 - loss: 1.8131 - val_accuracy: 0.3573 - val_loss: 1.7830\n",
            "Epoch 4/10\n",
            "\u001b[1m1125/1125\u001b[0m \u001b[32m━━━━━━━━━━━━━━━━━━━━\u001b[0m\u001b[37m\u001b[0m \u001b[1m3s\u001b[0m 2ms/step - accuracy: 0.3534 - loss: 1.8026 - val_accuracy: 0.3602 - val_loss: 1.7752\n",
            "Epoch 5/10\n",
            "\u001b[1m1125/1125\u001b[0m \u001b[32m━━━━━━━━━━━━━━━━━━━━\u001b[0m\u001b[37m\u001b[0m \u001b[1m3s\u001b[0m 3ms/step - accuracy: 0.3603 - loss: 1.7920 - val_accuracy: 0.3582 - val_loss: 1.7795\n",
            "Epoch 6/10\n",
            "\u001b[1m1125/1125\u001b[0m \u001b[32m━━━━━━━━━━━━━━━━━━━━\u001b[0m\u001b[37m\u001b[0m \u001b[1m3s\u001b[0m 3ms/step - accuracy: 0.3573 - loss: 1.7860 - val_accuracy: 0.3655 - val_loss: 1.7707\n",
            "Epoch 7/10\n",
            "\u001b[1m1125/1125\u001b[0m \u001b[32m━━━━━━━━━━━━━━━━━━━━\u001b[0m\u001b[37m\u001b[0m \u001b[1m2s\u001b[0m 2ms/step - accuracy: 0.3684 - loss: 1.7717 - val_accuracy: 0.3570 - val_loss: 1.7863\n",
            "Epoch 8/10\n",
            "\u001b[1m1125/1125\u001b[0m \u001b[32m━━━━━━━━━━━━━━━━━━━━\u001b[0m\u001b[37m\u001b[0m \u001b[1m2s\u001b[0m 2ms/step - accuracy: 0.3715 - loss: 1.7727 - val_accuracy: 0.3260 - val_loss: 1.8463\n",
            "Epoch 9/10\n",
            "\u001b[1m1125/1125\u001b[0m \u001b[32m━━━━━━━━━━━━━━━━━━━━\u001b[0m\u001b[37m\u001b[0m \u001b[1m3s\u001b[0m 2ms/step - accuracy: 0.3778 - loss: 1.7544 - val_accuracy: 0.3668 - val_loss: 1.7655\n",
            "Epoch 10/10\n",
            "\u001b[1m1125/1125\u001b[0m \u001b[32m━━━━━━━━━━━━━━━━━━━━\u001b[0m\u001b[37m\u001b[0m \u001b[1m2s\u001b[0m 2ms/step - accuracy: 0.3722 - loss: 1.7585 - val_accuracy: 0.3643 - val_loss: 1.7607\n"
          ]
        },
        {
          "output_type": "execute_result",
          "data": {
            "text/plain": [
              "<keras.src.callbacks.history.History at 0x7f35b3595b10>"
            ]
          },
          "metadata": {},
          "execution_count": 47
        }
      ]
    },
    {
      "cell_type": "markdown",
      "source": [
        "#Pretrained ResNet50\n"
      ],
      "metadata": {
        "id": "nE3Jv-LDFnfB"
      }
    },
    {
      "cell_type": "code",
      "source": [
        "from tensorflow.keras import Sequential, models, layers\n",
        "from tensorflow.keras.layers import Dense, Flatten, BatchNormalization,Dropout\n",
        "from tensorflow.keras.models import load_model, Model\n",
        "from tensorflow.keras.applications.resnet50 import ResNet50\n",
        "from tensorflow.keras import optimizers"
      ],
      "metadata": {
        "id": "J2Uy0jtsFvLs"
      },
      "execution_count": 49,
      "outputs": []
    },
    {
      "cell_type": "code",
      "source": [
        "convolutional_base = ResNet50(weights='imagenet', include_top=False, input_shape=(256,256,3))\n",
        "convolutional_base.summary()"
      ],
      "metadata": {
        "colab": {
          "base_uri": "https://localhost:8080/",
          "height": 1000
        },
        "id": "jIRCMeL9GpLr",
        "outputId": "cd13e9dc-7280-4510-d576-626129737b2b"
      },
      "execution_count": 51,
      "outputs": [
        {
          "output_type": "display_data",
          "data": {
            "text/plain": [
              "\u001b[1mModel: \"resnet50\"\u001b[0m\n"
            ],
            "text/html": [
              "<pre style=\"white-space:pre;overflow-x:auto;line-height:normal;font-family:Menlo,'DejaVu Sans Mono',consolas,'Courier New',monospace\"><span style=\"font-weight: bold\">Model: \"resnet50\"</span>\n",
              "</pre>\n"
            ]
          },
          "metadata": {}
        },
        {
          "output_type": "display_data",
          "data": {
            "text/plain": [
              "┏━━━━━━━━━━━━━━━━━━━━━━━━━━━┳━━━━━━━━━━━━━━━━━━━━━━━━┳━━━━━━━━━━━━━━━━┳━━━━━━━━━━━━━━━━━━━━━━━━┓\n",
              "┃\u001b[1m \u001b[0m\u001b[1mLayer (type)             \u001b[0m\u001b[1m \u001b[0m┃\u001b[1m \u001b[0m\u001b[1mOutput Shape          \u001b[0m\u001b[1m \u001b[0m┃\u001b[1m \u001b[0m\u001b[1m       Param #\u001b[0m\u001b[1m \u001b[0m┃\u001b[1m \u001b[0m\u001b[1mConnected to          \u001b[0m\u001b[1m \u001b[0m┃\n",
              "┡━━━━━━━━━━━━━━━━━━━━━━━━━━━╇━━━━━━━━━━━━━━━━━━━━━━━━╇━━━━━━━━━━━━━━━━╇━━━━━━━━━━━━━━━━━━━━━━━━┩\n",
              "│ input_layer_2             │ (\u001b[38;5;45mNone\u001b[0m, \u001b[38;5;34m256\u001b[0m, \u001b[38;5;34m256\u001b[0m, \u001b[38;5;34m3\u001b[0m)    │              \u001b[38;5;34m0\u001b[0m │ -                      │\n",
              "│ (\u001b[38;5;33mInputLayer\u001b[0m)              │                        │                │                        │\n",
              "├───────────────────────────┼────────────────────────┼────────────────┼────────────────────────┤\n",
              "│ conv1_pad (\u001b[38;5;33mZeroPadding2D\u001b[0m) │ (\u001b[38;5;45mNone\u001b[0m, \u001b[38;5;34m262\u001b[0m, \u001b[38;5;34m262\u001b[0m, \u001b[38;5;34m3\u001b[0m)    │              \u001b[38;5;34m0\u001b[0m │ input_layer_2[\u001b[38;5;34m0\u001b[0m][\u001b[38;5;34m0\u001b[0m]    │\n",
              "├───────────────────────────┼────────────────────────┼────────────────┼────────────────────────┤\n",
              "│ conv1_conv (\u001b[38;5;33mConv2D\u001b[0m)       │ (\u001b[38;5;45mNone\u001b[0m, \u001b[38;5;34m128\u001b[0m, \u001b[38;5;34m128\u001b[0m, \u001b[38;5;34m64\u001b[0m)   │          \u001b[38;5;34m9,472\u001b[0m │ conv1_pad[\u001b[38;5;34m0\u001b[0m][\u001b[38;5;34m0\u001b[0m]        │\n",
              "├───────────────────────────┼────────────────────────┼────────────────┼────────────────────────┤\n",
              "│ conv1_bn                  │ (\u001b[38;5;45mNone\u001b[0m, \u001b[38;5;34m128\u001b[0m, \u001b[38;5;34m128\u001b[0m, \u001b[38;5;34m64\u001b[0m)   │            \u001b[38;5;34m256\u001b[0m │ conv1_conv[\u001b[38;5;34m0\u001b[0m][\u001b[38;5;34m0\u001b[0m]       │\n",
              "│ (\u001b[38;5;33mBatchNormalization\u001b[0m)      │                        │                │                        │\n",
              "├───────────────────────────┼────────────────────────┼────────────────┼────────────────────────┤\n",
              "│ conv1_relu (\u001b[38;5;33mActivation\u001b[0m)   │ (\u001b[38;5;45mNone\u001b[0m, \u001b[38;5;34m128\u001b[0m, \u001b[38;5;34m128\u001b[0m, \u001b[38;5;34m64\u001b[0m)   │              \u001b[38;5;34m0\u001b[0m │ conv1_bn[\u001b[38;5;34m0\u001b[0m][\u001b[38;5;34m0\u001b[0m]         │\n",
              "├───────────────────────────┼────────────────────────┼────────────────┼────────────────────────┤\n",
              "│ pool1_pad (\u001b[38;5;33mZeroPadding2D\u001b[0m) │ (\u001b[38;5;45mNone\u001b[0m, \u001b[38;5;34m130\u001b[0m, \u001b[38;5;34m130\u001b[0m, \u001b[38;5;34m64\u001b[0m)   │              \u001b[38;5;34m0\u001b[0m │ conv1_relu[\u001b[38;5;34m0\u001b[0m][\u001b[38;5;34m0\u001b[0m]       │\n",
              "├───────────────────────────┼────────────────────────┼────────────────┼────────────────────────┤\n",
              "│ pool1_pool (\u001b[38;5;33mMaxPooling2D\u001b[0m) │ (\u001b[38;5;45mNone\u001b[0m, \u001b[38;5;34m64\u001b[0m, \u001b[38;5;34m64\u001b[0m, \u001b[38;5;34m64\u001b[0m)     │              \u001b[38;5;34m0\u001b[0m │ pool1_pad[\u001b[38;5;34m0\u001b[0m][\u001b[38;5;34m0\u001b[0m]        │\n",
              "├───────────────────────────┼────────────────────────┼────────────────┼────────────────────────┤\n",
              "│ conv2_block1_1_conv       │ (\u001b[38;5;45mNone\u001b[0m, \u001b[38;5;34m64\u001b[0m, \u001b[38;5;34m64\u001b[0m, \u001b[38;5;34m64\u001b[0m)     │          \u001b[38;5;34m4,160\u001b[0m │ pool1_pool[\u001b[38;5;34m0\u001b[0m][\u001b[38;5;34m0\u001b[0m]       │\n",
              "│ (\u001b[38;5;33mConv2D\u001b[0m)                  │                        │                │                        │\n",
              "├───────────────────────────┼────────────────────────┼────────────────┼────────────────────────┤\n",
              "│ conv2_block1_1_bn         │ (\u001b[38;5;45mNone\u001b[0m, \u001b[38;5;34m64\u001b[0m, \u001b[38;5;34m64\u001b[0m, \u001b[38;5;34m64\u001b[0m)     │            \u001b[38;5;34m256\u001b[0m │ conv2_block1_1_conv[\u001b[38;5;34m0\u001b[0m… │\n",
              "│ (\u001b[38;5;33mBatchNormalization\u001b[0m)      │                        │                │                        │\n",
              "├───────────────────────────┼────────────────────────┼────────────────┼────────────────────────┤\n",
              "│ conv2_block1_1_relu       │ (\u001b[38;5;45mNone\u001b[0m, \u001b[38;5;34m64\u001b[0m, \u001b[38;5;34m64\u001b[0m, \u001b[38;5;34m64\u001b[0m)     │              \u001b[38;5;34m0\u001b[0m │ conv2_block1_1_bn[\u001b[38;5;34m0\u001b[0m][\u001b[38;5;34m…\u001b[0m │\n",
              "│ (\u001b[38;5;33mActivation\u001b[0m)              │                        │                │                        │\n",
              "├───────────────────────────┼────────────────────────┼────────────────┼────────────────────────┤\n",
              "│ conv2_block1_2_conv       │ (\u001b[38;5;45mNone\u001b[0m, \u001b[38;5;34m64\u001b[0m, \u001b[38;5;34m64\u001b[0m, \u001b[38;5;34m64\u001b[0m)     │         \u001b[38;5;34m36,928\u001b[0m │ conv2_block1_1_relu[\u001b[38;5;34m0\u001b[0m… │\n",
              "│ (\u001b[38;5;33mConv2D\u001b[0m)                  │                        │                │                        │\n",
              "├───────────────────────────┼────────────────────────┼────────────────┼────────────────────────┤\n",
              "│ conv2_block1_2_bn         │ (\u001b[38;5;45mNone\u001b[0m, \u001b[38;5;34m64\u001b[0m, \u001b[38;5;34m64\u001b[0m, \u001b[38;5;34m64\u001b[0m)     │            \u001b[38;5;34m256\u001b[0m │ conv2_block1_2_conv[\u001b[38;5;34m0\u001b[0m… │\n",
              "│ (\u001b[38;5;33mBatchNormalization\u001b[0m)      │                        │                │                        │\n",
              "├───────────────────────────┼────────────────────────┼────────────────┼────────────────────────┤\n",
              "│ conv2_block1_2_relu       │ (\u001b[38;5;45mNone\u001b[0m, \u001b[38;5;34m64\u001b[0m, \u001b[38;5;34m64\u001b[0m, \u001b[38;5;34m64\u001b[0m)     │              \u001b[38;5;34m0\u001b[0m │ conv2_block1_2_bn[\u001b[38;5;34m0\u001b[0m][\u001b[38;5;34m…\u001b[0m │\n",
              "│ (\u001b[38;5;33mActivation\u001b[0m)              │                        │                │                        │\n",
              "├───────────────────────────┼────────────────────────┼────────────────┼────────────────────────┤\n",
              "│ conv2_block1_0_conv       │ (\u001b[38;5;45mNone\u001b[0m, \u001b[38;5;34m64\u001b[0m, \u001b[38;5;34m64\u001b[0m, \u001b[38;5;34m256\u001b[0m)    │         \u001b[38;5;34m16,640\u001b[0m │ pool1_pool[\u001b[38;5;34m0\u001b[0m][\u001b[38;5;34m0\u001b[0m]       │\n",
              "│ (\u001b[38;5;33mConv2D\u001b[0m)                  │                        │                │                        │\n",
              "├───────────────────────────┼────────────────────────┼────────────────┼────────────────────────┤\n",
              "│ conv2_block1_3_conv       │ (\u001b[38;5;45mNone\u001b[0m, \u001b[38;5;34m64\u001b[0m, \u001b[38;5;34m64\u001b[0m, \u001b[38;5;34m256\u001b[0m)    │         \u001b[38;5;34m16,640\u001b[0m │ conv2_block1_2_relu[\u001b[38;5;34m0\u001b[0m… │\n",
              "│ (\u001b[38;5;33mConv2D\u001b[0m)                  │                        │                │                        │\n",
              "├───────────────────────────┼────────────────────────┼────────────────┼────────────────────────┤\n",
              "│ conv2_block1_0_bn         │ (\u001b[38;5;45mNone\u001b[0m, \u001b[38;5;34m64\u001b[0m, \u001b[38;5;34m64\u001b[0m, \u001b[38;5;34m256\u001b[0m)    │          \u001b[38;5;34m1,024\u001b[0m │ conv2_block1_0_conv[\u001b[38;5;34m0\u001b[0m… │\n",
              "│ (\u001b[38;5;33mBatchNormalization\u001b[0m)      │                        │                │                        │\n",
              "├───────────────────────────┼────────────────────────┼────────────────┼────────────────────────┤\n",
              "│ conv2_block1_3_bn         │ (\u001b[38;5;45mNone\u001b[0m, \u001b[38;5;34m64\u001b[0m, \u001b[38;5;34m64\u001b[0m, \u001b[38;5;34m256\u001b[0m)    │          \u001b[38;5;34m1,024\u001b[0m │ conv2_block1_3_conv[\u001b[38;5;34m0\u001b[0m… │\n",
              "│ (\u001b[38;5;33mBatchNormalization\u001b[0m)      │                        │                │                        │\n",
              "├───────────────────────────┼────────────────────────┼────────────────┼────────────────────────┤\n",
              "│ conv2_block1_add (\u001b[38;5;33mAdd\u001b[0m)    │ (\u001b[38;5;45mNone\u001b[0m, \u001b[38;5;34m64\u001b[0m, \u001b[38;5;34m64\u001b[0m, \u001b[38;5;34m256\u001b[0m)    │              \u001b[38;5;34m0\u001b[0m │ conv2_block1_0_bn[\u001b[38;5;34m0\u001b[0m][\u001b[38;5;34m…\u001b[0m │\n",
              "│                           │                        │                │ conv2_block1_3_bn[\u001b[38;5;34m0\u001b[0m][\u001b[38;5;34m…\u001b[0m │\n",
              "├───────────────────────────┼────────────────────────┼────────────────┼────────────────────────┤\n",
              "│ conv2_block1_out          │ (\u001b[38;5;45mNone\u001b[0m, \u001b[38;5;34m64\u001b[0m, \u001b[38;5;34m64\u001b[0m, \u001b[38;5;34m256\u001b[0m)    │              \u001b[38;5;34m0\u001b[0m │ conv2_block1_add[\u001b[38;5;34m0\u001b[0m][\u001b[38;5;34m0\u001b[0m] │\n",
              "│ (\u001b[38;5;33mActivation\u001b[0m)              │                        │                │                        │\n",
              "├───────────────────────────┼────────────────────────┼────────────────┼────────────────────────┤\n",
              "│ conv2_block2_1_conv       │ (\u001b[38;5;45mNone\u001b[0m, \u001b[38;5;34m64\u001b[0m, \u001b[38;5;34m64\u001b[0m, \u001b[38;5;34m64\u001b[0m)     │         \u001b[38;5;34m16,448\u001b[0m │ conv2_block1_out[\u001b[38;5;34m0\u001b[0m][\u001b[38;5;34m0\u001b[0m] │\n",
              "│ (\u001b[38;5;33mConv2D\u001b[0m)                  │                        │                │                        │\n",
              "├───────────────────────────┼────────────────────────┼────────────────┼────────────────────────┤\n",
              "│ conv2_block2_1_bn         │ (\u001b[38;5;45mNone\u001b[0m, \u001b[38;5;34m64\u001b[0m, \u001b[38;5;34m64\u001b[0m, \u001b[38;5;34m64\u001b[0m)     │            \u001b[38;5;34m256\u001b[0m │ conv2_block2_1_conv[\u001b[38;5;34m0\u001b[0m… │\n",
              "│ (\u001b[38;5;33mBatchNormalization\u001b[0m)      │                        │                │                        │\n",
              "├───────────────────────────┼────────────────────────┼────────────────┼────────────────────────┤\n",
              "│ conv2_block2_1_relu       │ (\u001b[38;5;45mNone\u001b[0m, \u001b[38;5;34m64\u001b[0m, \u001b[38;5;34m64\u001b[0m, \u001b[38;5;34m64\u001b[0m)     │              \u001b[38;5;34m0\u001b[0m │ conv2_block2_1_bn[\u001b[38;5;34m0\u001b[0m][\u001b[38;5;34m…\u001b[0m │\n",
              "│ (\u001b[38;5;33mActivation\u001b[0m)              │                        │                │                        │\n",
              "├───────────────────────────┼────────────────────────┼────────────────┼────────────────────────┤\n",
              "│ conv2_block2_2_conv       │ (\u001b[38;5;45mNone\u001b[0m, \u001b[38;5;34m64\u001b[0m, \u001b[38;5;34m64\u001b[0m, \u001b[38;5;34m64\u001b[0m)     │         \u001b[38;5;34m36,928\u001b[0m │ conv2_block2_1_relu[\u001b[38;5;34m0\u001b[0m… │\n",
              "│ (\u001b[38;5;33mConv2D\u001b[0m)                  │                        │                │                        │\n",
              "├───────────────────────────┼────────────────────────┼────────────────┼────────────────────────┤\n",
              "│ conv2_block2_2_bn         │ (\u001b[38;5;45mNone\u001b[0m, \u001b[38;5;34m64\u001b[0m, \u001b[38;5;34m64\u001b[0m, \u001b[38;5;34m64\u001b[0m)     │            \u001b[38;5;34m256\u001b[0m │ conv2_block2_2_conv[\u001b[38;5;34m0\u001b[0m… │\n",
              "│ (\u001b[38;5;33mBatchNormalization\u001b[0m)      │                        │                │                        │\n",
              "├───────────────────────────┼────────────────────────┼────────────────┼────────────────────────┤\n",
              "│ conv2_block2_2_relu       │ (\u001b[38;5;45mNone\u001b[0m, \u001b[38;5;34m64\u001b[0m, \u001b[38;5;34m64\u001b[0m, \u001b[38;5;34m64\u001b[0m)     │              \u001b[38;5;34m0\u001b[0m │ conv2_block2_2_bn[\u001b[38;5;34m0\u001b[0m][\u001b[38;5;34m…\u001b[0m │\n",
              "│ (\u001b[38;5;33mActivation\u001b[0m)              │                        │                │                        │\n",
              "├───────────────────────────┼────────────────────────┼────────────────┼────────────────────────┤\n",
              "│ conv2_block2_3_conv       │ (\u001b[38;5;45mNone\u001b[0m, \u001b[38;5;34m64\u001b[0m, \u001b[38;5;34m64\u001b[0m, \u001b[38;5;34m256\u001b[0m)    │         \u001b[38;5;34m16,640\u001b[0m │ conv2_block2_2_relu[\u001b[38;5;34m0\u001b[0m… │\n",
              "│ (\u001b[38;5;33mConv2D\u001b[0m)                  │                        │                │                        │\n",
              "├───────────────────────────┼────────────────────────┼────────────────┼────────────────────────┤\n",
              "│ conv2_block2_3_bn         │ (\u001b[38;5;45mNone\u001b[0m, \u001b[38;5;34m64\u001b[0m, \u001b[38;5;34m64\u001b[0m, \u001b[38;5;34m256\u001b[0m)    │          \u001b[38;5;34m1,024\u001b[0m │ conv2_block2_3_conv[\u001b[38;5;34m0\u001b[0m… │\n",
              "│ (\u001b[38;5;33mBatchNormalization\u001b[0m)      │                        │                │                        │\n",
              "├───────────────────────────┼────────────────────────┼────────────────┼────────────────────────┤\n",
              "│ conv2_block2_add (\u001b[38;5;33mAdd\u001b[0m)    │ (\u001b[38;5;45mNone\u001b[0m, \u001b[38;5;34m64\u001b[0m, \u001b[38;5;34m64\u001b[0m, \u001b[38;5;34m256\u001b[0m)    │              \u001b[38;5;34m0\u001b[0m │ conv2_block1_out[\u001b[38;5;34m0\u001b[0m][\u001b[38;5;34m0\u001b[0m… │\n",
              "│                           │                        │                │ conv2_block2_3_bn[\u001b[38;5;34m0\u001b[0m][\u001b[38;5;34m…\u001b[0m │\n",
              "├───────────────────────────┼────────────────────────┼────────────────┼────────────────────────┤\n",
              "│ conv2_block2_out          │ (\u001b[38;5;45mNone\u001b[0m, \u001b[38;5;34m64\u001b[0m, \u001b[38;5;34m64\u001b[0m, \u001b[38;5;34m256\u001b[0m)    │              \u001b[38;5;34m0\u001b[0m │ conv2_block2_add[\u001b[38;5;34m0\u001b[0m][\u001b[38;5;34m0\u001b[0m] │\n",
              "│ (\u001b[38;5;33mActivation\u001b[0m)              │                        │                │                        │\n",
              "├───────────────────────────┼────────────────────────┼────────────────┼────────────────────────┤\n",
              "│ conv2_block3_1_conv       │ (\u001b[38;5;45mNone\u001b[0m, \u001b[38;5;34m64\u001b[0m, \u001b[38;5;34m64\u001b[0m, \u001b[38;5;34m64\u001b[0m)     │         \u001b[38;5;34m16,448\u001b[0m │ conv2_block2_out[\u001b[38;5;34m0\u001b[0m][\u001b[38;5;34m0\u001b[0m] │\n",
              "│ (\u001b[38;5;33mConv2D\u001b[0m)                  │                        │                │                        │\n",
              "├───────────────────────────┼────────────────────────┼────────────────┼────────────────────────┤\n",
              "│ conv2_block3_1_bn         │ (\u001b[38;5;45mNone\u001b[0m, \u001b[38;5;34m64\u001b[0m, \u001b[38;5;34m64\u001b[0m, \u001b[38;5;34m64\u001b[0m)     │            \u001b[38;5;34m256\u001b[0m │ conv2_block3_1_conv[\u001b[38;5;34m0\u001b[0m… │\n",
              "│ (\u001b[38;5;33mBatchNormalization\u001b[0m)      │                        │                │                        │\n",
              "├───────────────────────────┼────────────────────────┼────────────────┼────────────────────────┤\n",
              "│ conv2_block3_1_relu       │ (\u001b[38;5;45mNone\u001b[0m, \u001b[38;5;34m64\u001b[0m, \u001b[38;5;34m64\u001b[0m, \u001b[38;5;34m64\u001b[0m)     │              \u001b[38;5;34m0\u001b[0m │ conv2_block3_1_bn[\u001b[38;5;34m0\u001b[0m][\u001b[38;5;34m…\u001b[0m │\n",
              "│ (\u001b[38;5;33mActivation\u001b[0m)              │                        │                │                        │\n",
              "├───────────────────────────┼────────────────────────┼────────────────┼────────────────────────┤\n",
              "│ conv2_block3_2_conv       │ (\u001b[38;5;45mNone\u001b[0m, \u001b[38;5;34m64\u001b[0m, \u001b[38;5;34m64\u001b[0m, \u001b[38;5;34m64\u001b[0m)     │         \u001b[38;5;34m36,928\u001b[0m │ conv2_block3_1_relu[\u001b[38;5;34m0\u001b[0m… │\n",
              "│ (\u001b[38;5;33mConv2D\u001b[0m)                  │                        │                │                        │\n",
              "├───────────────────────────┼────────────────────────┼────────────────┼────────────────────────┤\n",
              "│ conv2_block3_2_bn         │ (\u001b[38;5;45mNone\u001b[0m, \u001b[38;5;34m64\u001b[0m, \u001b[38;5;34m64\u001b[0m, \u001b[38;5;34m64\u001b[0m)     │            \u001b[38;5;34m256\u001b[0m │ conv2_block3_2_conv[\u001b[38;5;34m0\u001b[0m… │\n",
              "│ (\u001b[38;5;33mBatchNormalization\u001b[0m)      │                        │                │                        │\n",
              "├───────────────────────────┼────────────────────────┼────────────────┼────────────────────────┤\n",
              "│ conv2_block3_2_relu       │ (\u001b[38;5;45mNone\u001b[0m, \u001b[38;5;34m64\u001b[0m, \u001b[38;5;34m64\u001b[0m, \u001b[38;5;34m64\u001b[0m)     │              \u001b[38;5;34m0\u001b[0m │ conv2_block3_2_bn[\u001b[38;5;34m0\u001b[0m][\u001b[38;5;34m…\u001b[0m │\n",
              "│ (\u001b[38;5;33mActivation\u001b[0m)              │                        │                │                        │\n",
              "├───────────────────────────┼────────────────────────┼────────────────┼────────────────────────┤\n",
              "│ conv2_block3_3_conv       │ (\u001b[38;5;45mNone\u001b[0m, \u001b[38;5;34m64\u001b[0m, \u001b[38;5;34m64\u001b[0m, \u001b[38;5;34m256\u001b[0m)    │         \u001b[38;5;34m16,640\u001b[0m │ conv2_block3_2_relu[\u001b[38;5;34m0\u001b[0m… │\n",
              "│ (\u001b[38;5;33mConv2D\u001b[0m)                  │                        │                │                        │\n",
              "├───────────────────────────┼────────────────────────┼────────────────┼────────────────────────┤\n",
              "│ conv2_block3_3_bn         │ (\u001b[38;5;45mNone\u001b[0m, \u001b[38;5;34m64\u001b[0m, \u001b[38;5;34m64\u001b[0m, \u001b[38;5;34m256\u001b[0m)    │          \u001b[38;5;34m1,024\u001b[0m │ conv2_block3_3_conv[\u001b[38;5;34m0\u001b[0m… │\n",
              "│ (\u001b[38;5;33mBatchNormalization\u001b[0m)      │                        │                │                        │\n",
              "├───────────────────────────┼────────────────────────┼────────────────┼────────────────────────┤\n",
              "│ conv2_block3_add (\u001b[38;5;33mAdd\u001b[0m)    │ (\u001b[38;5;45mNone\u001b[0m, \u001b[38;5;34m64\u001b[0m, \u001b[38;5;34m64\u001b[0m, \u001b[38;5;34m256\u001b[0m)    │              \u001b[38;5;34m0\u001b[0m │ conv2_block2_out[\u001b[38;5;34m0\u001b[0m][\u001b[38;5;34m0\u001b[0m… │\n",
              "│                           │                        │                │ conv2_block3_3_bn[\u001b[38;5;34m0\u001b[0m][\u001b[38;5;34m…\u001b[0m │\n",
              "├───────────────────────────┼────────────────────────┼────────────────┼────────────────────────┤\n",
              "│ conv2_block3_out          │ (\u001b[38;5;45mNone\u001b[0m, \u001b[38;5;34m64\u001b[0m, \u001b[38;5;34m64\u001b[0m, \u001b[38;5;34m256\u001b[0m)    │              \u001b[38;5;34m0\u001b[0m │ conv2_block3_add[\u001b[38;5;34m0\u001b[0m][\u001b[38;5;34m0\u001b[0m] │\n",
              "│ (\u001b[38;5;33mActivation\u001b[0m)              │                        │                │                        │\n",
              "├───────────────────────────┼────────────────────────┼────────────────┼────────────────────────┤\n",
              "│ conv3_block1_1_conv       │ (\u001b[38;5;45mNone\u001b[0m, \u001b[38;5;34m32\u001b[0m, \u001b[38;5;34m32\u001b[0m, \u001b[38;5;34m128\u001b[0m)    │         \u001b[38;5;34m32,896\u001b[0m │ conv2_block3_out[\u001b[38;5;34m0\u001b[0m][\u001b[38;5;34m0\u001b[0m] │\n",
              "│ (\u001b[38;5;33mConv2D\u001b[0m)                  │                        │                │                        │\n",
              "├───────────────────────────┼────────────────────────┼────────────────┼────────────────────────┤\n",
              "│ conv3_block1_1_bn         │ (\u001b[38;5;45mNone\u001b[0m, \u001b[38;5;34m32\u001b[0m, \u001b[38;5;34m32\u001b[0m, \u001b[38;5;34m128\u001b[0m)    │            \u001b[38;5;34m512\u001b[0m │ conv3_block1_1_conv[\u001b[38;5;34m0\u001b[0m… │\n",
              "│ (\u001b[38;5;33mBatchNormalization\u001b[0m)      │                        │                │                        │\n",
              "├───────────────────────────┼────────────────────────┼────────────────┼────────────────────────┤\n",
              "│ conv3_block1_1_relu       │ (\u001b[38;5;45mNone\u001b[0m, \u001b[38;5;34m32\u001b[0m, \u001b[38;5;34m32\u001b[0m, \u001b[38;5;34m128\u001b[0m)    │              \u001b[38;5;34m0\u001b[0m │ conv3_block1_1_bn[\u001b[38;5;34m0\u001b[0m][\u001b[38;5;34m…\u001b[0m │\n",
              "│ (\u001b[38;5;33mActivation\u001b[0m)              │                        │                │                        │\n",
              "├───────────────────────────┼────────────────────────┼────────────────┼────────────────────────┤\n",
              "│ conv3_block1_2_conv       │ (\u001b[38;5;45mNone\u001b[0m, \u001b[38;5;34m32\u001b[0m, \u001b[38;5;34m32\u001b[0m, \u001b[38;5;34m128\u001b[0m)    │        \u001b[38;5;34m147,584\u001b[0m │ conv3_block1_1_relu[\u001b[38;5;34m0\u001b[0m… │\n",
              "│ (\u001b[38;5;33mConv2D\u001b[0m)                  │                        │                │                        │\n",
              "├───────────────────────────┼────────────────────────┼────────────────┼────────────────────────┤\n",
              "│ conv3_block1_2_bn         │ (\u001b[38;5;45mNone\u001b[0m, \u001b[38;5;34m32\u001b[0m, \u001b[38;5;34m32\u001b[0m, \u001b[38;5;34m128\u001b[0m)    │            \u001b[38;5;34m512\u001b[0m │ conv3_block1_2_conv[\u001b[38;5;34m0\u001b[0m… │\n",
              "│ (\u001b[38;5;33mBatchNormalization\u001b[0m)      │                        │                │                        │\n",
              "├───────────────────────────┼────────────────────────┼────────────────┼────────────────────────┤\n",
              "│ conv3_block1_2_relu       │ (\u001b[38;5;45mNone\u001b[0m, \u001b[38;5;34m32\u001b[0m, \u001b[38;5;34m32\u001b[0m, \u001b[38;5;34m128\u001b[0m)    │              \u001b[38;5;34m0\u001b[0m │ conv3_block1_2_bn[\u001b[38;5;34m0\u001b[0m][\u001b[38;5;34m…\u001b[0m │\n",
              "│ (\u001b[38;5;33mActivation\u001b[0m)              │                        │                │                        │\n",
              "├───────────────────────────┼────────────────────────┼────────────────┼────────────────────────┤\n",
              "│ conv3_block1_0_conv       │ (\u001b[38;5;45mNone\u001b[0m, \u001b[38;5;34m32\u001b[0m, \u001b[38;5;34m32\u001b[0m, \u001b[38;5;34m512\u001b[0m)    │        \u001b[38;5;34m131,584\u001b[0m │ conv2_block3_out[\u001b[38;5;34m0\u001b[0m][\u001b[38;5;34m0\u001b[0m] │\n",
              "│ (\u001b[38;5;33mConv2D\u001b[0m)                  │                        │                │                        │\n",
              "├───────────────────────────┼────────────────────────┼────────────────┼────────────────────────┤\n",
              "│ conv3_block1_3_conv       │ (\u001b[38;5;45mNone\u001b[0m, \u001b[38;5;34m32\u001b[0m, \u001b[38;5;34m32\u001b[0m, \u001b[38;5;34m512\u001b[0m)    │         \u001b[38;5;34m66,048\u001b[0m │ conv3_block1_2_relu[\u001b[38;5;34m0\u001b[0m… │\n",
              "│ (\u001b[38;5;33mConv2D\u001b[0m)                  │                        │                │                        │\n",
              "├───────────────────────────┼────────────────────────┼────────────────┼────────────────────────┤\n",
              "│ conv3_block1_0_bn         │ (\u001b[38;5;45mNone\u001b[0m, \u001b[38;5;34m32\u001b[0m, \u001b[38;5;34m32\u001b[0m, \u001b[38;5;34m512\u001b[0m)    │          \u001b[38;5;34m2,048\u001b[0m │ conv3_block1_0_conv[\u001b[38;5;34m0\u001b[0m… │\n",
              "│ (\u001b[38;5;33mBatchNormalization\u001b[0m)      │                        │                │                        │\n",
              "├───────────────────────────┼────────────────────────┼────────────────┼────────────────────────┤\n",
              "│ conv3_block1_3_bn         │ (\u001b[38;5;45mNone\u001b[0m, \u001b[38;5;34m32\u001b[0m, \u001b[38;5;34m32\u001b[0m, \u001b[38;5;34m512\u001b[0m)    │          \u001b[38;5;34m2,048\u001b[0m │ conv3_block1_3_conv[\u001b[38;5;34m0\u001b[0m… │\n",
              "│ (\u001b[38;5;33mBatchNormalization\u001b[0m)      │                        │                │                        │\n",
              "├───────────────────────────┼────────────────────────┼────────────────┼────────────────────────┤\n",
              "│ conv3_block1_add (\u001b[38;5;33mAdd\u001b[0m)    │ (\u001b[38;5;45mNone\u001b[0m, \u001b[38;5;34m32\u001b[0m, \u001b[38;5;34m32\u001b[0m, \u001b[38;5;34m512\u001b[0m)    │              \u001b[38;5;34m0\u001b[0m │ conv3_block1_0_bn[\u001b[38;5;34m0\u001b[0m][\u001b[38;5;34m…\u001b[0m │\n",
              "│                           │                        │                │ conv3_block1_3_bn[\u001b[38;5;34m0\u001b[0m][\u001b[38;5;34m…\u001b[0m │\n",
              "├───────────────────────────┼────────────────────────┼────────────────┼────────────────────────┤\n",
              "│ conv3_block1_out          │ (\u001b[38;5;45mNone\u001b[0m, \u001b[38;5;34m32\u001b[0m, \u001b[38;5;34m32\u001b[0m, \u001b[38;5;34m512\u001b[0m)    │              \u001b[38;5;34m0\u001b[0m │ conv3_block1_add[\u001b[38;5;34m0\u001b[0m][\u001b[38;5;34m0\u001b[0m] │\n",
              "│ (\u001b[38;5;33mActivation\u001b[0m)              │                        │                │                        │\n",
              "├───────────────────────────┼────────────────────────┼────────────────┼────────────────────────┤\n",
              "│ conv3_block2_1_conv       │ (\u001b[38;5;45mNone\u001b[0m, \u001b[38;5;34m32\u001b[0m, \u001b[38;5;34m32\u001b[0m, \u001b[38;5;34m128\u001b[0m)    │         \u001b[38;5;34m65,664\u001b[0m │ conv3_block1_out[\u001b[38;5;34m0\u001b[0m][\u001b[38;5;34m0\u001b[0m] │\n",
              "│ (\u001b[38;5;33mConv2D\u001b[0m)                  │                        │                │                        │\n",
              "├───────────────────────────┼────────────────────────┼────────────────┼────────────────────────┤\n",
              "│ conv3_block2_1_bn         │ (\u001b[38;5;45mNone\u001b[0m, \u001b[38;5;34m32\u001b[0m, \u001b[38;5;34m32\u001b[0m, \u001b[38;5;34m128\u001b[0m)    │            \u001b[38;5;34m512\u001b[0m │ conv3_block2_1_conv[\u001b[38;5;34m0\u001b[0m… │\n",
              "│ (\u001b[38;5;33mBatchNormalization\u001b[0m)      │                        │                │                        │\n",
              "├───────────────────────────┼────────────────────────┼────────────────┼────────────────────────┤\n",
              "│ conv3_block2_1_relu       │ (\u001b[38;5;45mNone\u001b[0m, \u001b[38;5;34m32\u001b[0m, \u001b[38;5;34m32\u001b[0m, \u001b[38;5;34m128\u001b[0m)    │              \u001b[38;5;34m0\u001b[0m │ conv3_block2_1_bn[\u001b[38;5;34m0\u001b[0m][\u001b[38;5;34m…\u001b[0m │\n",
              "│ (\u001b[38;5;33mActivation\u001b[0m)              │                        │                │                        │\n",
              "├───────────────────────────┼────────────────────────┼────────────────┼────────────────────────┤\n",
              "│ conv3_block2_2_conv       │ (\u001b[38;5;45mNone\u001b[0m, \u001b[38;5;34m32\u001b[0m, \u001b[38;5;34m32\u001b[0m, \u001b[38;5;34m128\u001b[0m)    │        \u001b[38;5;34m147,584\u001b[0m │ conv3_block2_1_relu[\u001b[38;5;34m0\u001b[0m… │\n",
              "│ (\u001b[38;5;33mConv2D\u001b[0m)                  │                        │                │                        │\n",
              "├───────────────────────────┼────────────────────────┼────────────────┼────────────────────────┤\n",
              "│ conv3_block2_2_bn         │ (\u001b[38;5;45mNone\u001b[0m, \u001b[38;5;34m32\u001b[0m, \u001b[38;5;34m32\u001b[0m, \u001b[38;5;34m128\u001b[0m)    │            \u001b[38;5;34m512\u001b[0m │ conv3_block2_2_conv[\u001b[38;5;34m0\u001b[0m… │\n",
              "│ (\u001b[38;5;33mBatchNormalization\u001b[0m)      │                        │                │                        │\n",
              "├───────────────────────────┼────────────────────────┼────────────────┼────────────────────────┤\n",
              "│ conv3_block2_2_relu       │ (\u001b[38;5;45mNone\u001b[0m, \u001b[38;5;34m32\u001b[0m, \u001b[38;5;34m32\u001b[0m, \u001b[38;5;34m128\u001b[0m)    │              \u001b[38;5;34m0\u001b[0m │ conv3_block2_2_bn[\u001b[38;5;34m0\u001b[0m][\u001b[38;5;34m…\u001b[0m │\n",
              "│ (\u001b[38;5;33mActivation\u001b[0m)              │                        │                │                        │\n",
              "├───────────────────────────┼────────────────────────┼────────────────┼────────────────────────┤\n",
              "│ conv3_block2_3_conv       │ (\u001b[38;5;45mNone\u001b[0m, \u001b[38;5;34m32\u001b[0m, \u001b[38;5;34m32\u001b[0m, \u001b[38;5;34m512\u001b[0m)    │         \u001b[38;5;34m66,048\u001b[0m │ conv3_block2_2_relu[\u001b[38;5;34m0\u001b[0m… │\n",
              "│ (\u001b[38;5;33mConv2D\u001b[0m)                  │                        │                │                        │\n",
              "├───────────────────────────┼────────────────────────┼────────────────┼────────────────────────┤\n",
              "│ conv3_block2_3_bn         │ (\u001b[38;5;45mNone\u001b[0m, \u001b[38;5;34m32\u001b[0m, \u001b[38;5;34m32\u001b[0m, \u001b[38;5;34m512\u001b[0m)    │          \u001b[38;5;34m2,048\u001b[0m │ conv3_block2_3_conv[\u001b[38;5;34m0\u001b[0m… │\n",
              "│ (\u001b[38;5;33mBatchNormalization\u001b[0m)      │                        │                │                        │\n",
              "├───────────────────────────┼────────────────────────┼────────────────┼────────────────────────┤\n",
              "│ conv3_block2_add (\u001b[38;5;33mAdd\u001b[0m)    │ (\u001b[38;5;45mNone\u001b[0m, \u001b[38;5;34m32\u001b[0m, \u001b[38;5;34m32\u001b[0m, \u001b[38;5;34m512\u001b[0m)    │              \u001b[38;5;34m0\u001b[0m │ conv3_block1_out[\u001b[38;5;34m0\u001b[0m][\u001b[38;5;34m0\u001b[0m… │\n",
              "│                           │                        │                │ conv3_block2_3_bn[\u001b[38;5;34m0\u001b[0m][\u001b[38;5;34m…\u001b[0m │\n",
              "├───────────────────────────┼────────────────────────┼────────────────┼────────────────────────┤\n",
              "│ conv3_block2_out          │ (\u001b[38;5;45mNone\u001b[0m, \u001b[38;5;34m32\u001b[0m, \u001b[38;5;34m32\u001b[0m, \u001b[38;5;34m512\u001b[0m)    │              \u001b[38;5;34m0\u001b[0m │ conv3_block2_add[\u001b[38;5;34m0\u001b[0m][\u001b[38;5;34m0\u001b[0m] │\n",
              "│ (\u001b[38;5;33mActivation\u001b[0m)              │                        │                │                        │\n",
              "├───────────────────────────┼────────────────────────┼────────────────┼────────────────────────┤\n",
              "│ conv3_block3_1_conv       │ (\u001b[38;5;45mNone\u001b[0m, \u001b[38;5;34m32\u001b[0m, \u001b[38;5;34m32\u001b[0m, \u001b[38;5;34m128\u001b[0m)    │         \u001b[38;5;34m65,664\u001b[0m │ conv3_block2_out[\u001b[38;5;34m0\u001b[0m][\u001b[38;5;34m0\u001b[0m] │\n",
              "│ (\u001b[38;5;33mConv2D\u001b[0m)                  │                        │                │                        │\n",
              "├───────────────────────────┼────────────────────────┼────────────────┼────────────────────────┤\n",
              "│ conv3_block3_1_bn         │ (\u001b[38;5;45mNone\u001b[0m, \u001b[38;5;34m32\u001b[0m, \u001b[38;5;34m32\u001b[0m, \u001b[38;5;34m128\u001b[0m)    │            \u001b[38;5;34m512\u001b[0m │ conv3_block3_1_conv[\u001b[38;5;34m0\u001b[0m… │\n",
              "│ (\u001b[38;5;33mBatchNormalization\u001b[0m)      │                        │                │                        │\n",
              "├───────────────────────────┼────────────────────────┼────────────────┼────────────────────────┤\n",
              "│ conv3_block3_1_relu       │ (\u001b[38;5;45mNone\u001b[0m, \u001b[38;5;34m32\u001b[0m, \u001b[38;5;34m32\u001b[0m, \u001b[38;5;34m128\u001b[0m)    │              \u001b[38;5;34m0\u001b[0m │ conv3_block3_1_bn[\u001b[38;5;34m0\u001b[0m][\u001b[38;5;34m…\u001b[0m │\n",
              "│ (\u001b[38;5;33mActivation\u001b[0m)              │                        │                │                        │\n",
              "├───────────────────────────┼────────────────────────┼────────────────┼────────────────────────┤\n",
              "│ conv3_block3_2_conv       │ (\u001b[38;5;45mNone\u001b[0m, \u001b[38;5;34m32\u001b[0m, \u001b[38;5;34m32\u001b[0m, \u001b[38;5;34m128\u001b[0m)    │        \u001b[38;5;34m147,584\u001b[0m │ conv3_block3_1_relu[\u001b[38;5;34m0\u001b[0m… │\n",
              "│ (\u001b[38;5;33mConv2D\u001b[0m)                  │                        │                │                        │\n",
              "├───────────────────────────┼────────────────────────┼────────────────┼────────────────────────┤\n",
              "│ conv3_block3_2_bn         │ (\u001b[38;5;45mNone\u001b[0m, \u001b[38;5;34m32\u001b[0m, \u001b[38;5;34m32\u001b[0m, \u001b[38;5;34m128\u001b[0m)    │            \u001b[38;5;34m512\u001b[0m │ conv3_block3_2_conv[\u001b[38;5;34m0\u001b[0m… │\n",
              "│ (\u001b[38;5;33mBatchNormalization\u001b[0m)      │                        │                │                        │\n",
              "├───────────────────────────┼────────────────────────┼────────────────┼────────────────────────┤\n",
              "│ conv3_block3_2_relu       │ (\u001b[38;5;45mNone\u001b[0m, \u001b[38;5;34m32\u001b[0m, \u001b[38;5;34m32\u001b[0m, \u001b[38;5;34m128\u001b[0m)    │              \u001b[38;5;34m0\u001b[0m │ conv3_block3_2_bn[\u001b[38;5;34m0\u001b[0m][\u001b[38;5;34m…\u001b[0m │\n",
              "│ (\u001b[38;5;33mActivation\u001b[0m)              │                        │                │                        │\n",
              "├───────────────────────────┼────────────────────────┼────────────────┼────────────────────────┤\n",
              "│ conv3_block3_3_conv       │ (\u001b[38;5;45mNone\u001b[0m, \u001b[38;5;34m32\u001b[0m, \u001b[38;5;34m32\u001b[0m, \u001b[38;5;34m512\u001b[0m)    │         \u001b[38;5;34m66,048\u001b[0m │ conv3_block3_2_relu[\u001b[38;5;34m0\u001b[0m… │\n",
              "│ (\u001b[38;5;33mConv2D\u001b[0m)                  │                        │                │                        │\n",
              "├───────────────────────────┼────────────────────────┼────────────────┼────────────────────────┤\n",
              "│ conv3_block3_3_bn         │ (\u001b[38;5;45mNone\u001b[0m, \u001b[38;5;34m32\u001b[0m, \u001b[38;5;34m32\u001b[0m, \u001b[38;5;34m512\u001b[0m)    │          \u001b[38;5;34m2,048\u001b[0m │ conv3_block3_3_conv[\u001b[38;5;34m0\u001b[0m… │\n",
              "│ (\u001b[38;5;33mBatchNormalization\u001b[0m)      │                        │                │                        │\n",
              "├───────────────────────────┼────────────────────────┼────────────────┼────────────────────────┤\n",
              "│ conv3_block3_add (\u001b[38;5;33mAdd\u001b[0m)    │ (\u001b[38;5;45mNone\u001b[0m, \u001b[38;5;34m32\u001b[0m, \u001b[38;5;34m32\u001b[0m, \u001b[38;5;34m512\u001b[0m)    │              \u001b[38;5;34m0\u001b[0m │ conv3_block2_out[\u001b[38;5;34m0\u001b[0m][\u001b[38;5;34m0\u001b[0m… │\n",
              "│                           │                        │                │ conv3_block3_3_bn[\u001b[38;5;34m0\u001b[0m][\u001b[38;5;34m…\u001b[0m │\n",
              "├───────────────────────────┼────────────────────────┼────────────────┼────────────────────────┤\n",
              "│ conv3_block3_out          │ (\u001b[38;5;45mNone\u001b[0m, \u001b[38;5;34m32\u001b[0m, \u001b[38;5;34m32\u001b[0m, \u001b[38;5;34m512\u001b[0m)    │              \u001b[38;5;34m0\u001b[0m │ conv3_block3_add[\u001b[38;5;34m0\u001b[0m][\u001b[38;5;34m0\u001b[0m] │\n",
              "│ (\u001b[38;5;33mActivation\u001b[0m)              │                        │                │                        │\n",
              "├───────────────────────────┼────────────────────────┼────────────────┼────────────────────────┤\n",
              "│ conv3_block4_1_conv       │ (\u001b[38;5;45mNone\u001b[0m, \u001b[38;5;34m32\u001b[0m, \u001b[38;5;34m32\u001b[0m, \u001b[38;5;34m128\u001b[0m)    │         \u001b[38;5;34m65,664\u001b[0m │ conv3_block3_out[\u001b[38;5;34m0\u001b[0m][\u001b[38;5;34m0\u001b[0m] │\n",
              "│ (\u001b[38;5;33mConv2D\u001b[0m)                  │                        │                │                        │\n",
              "├───────────────────────────┼────────────────────────┼────────────────┼────────────────────────┤\n",
              "│ conv3_block4_1_bn         │ (\u001b[38;5;45mNone\u001b[0m, \u001b[38;5;34m32\u001b[0m, \u001b[38;5;34m32\u001b[0m, \u001b[38;5;34m128\u001b[0m)    │            \u001b[38;5;34m512\u001b[0m │ conv3_block4_1_conv[\u001b[38;5;34m0\u001b[0m… │\n",
              "│ (\u001b[38;5;33mBatchNormalization\u001b[0m)      │                        │                │                        │\n",
              "├───────────────────────────┼────────────────────────┼────────────────┼────────────────────────┤\n",
              "│ conv3_block4_1_relu       │ (\u001b[38;5;45mNone\u001b[0m, \u001b[38;5;34m32\u001b[0m, \u001b[38;5;34m32\u001b[0m, \u001b[38;5;34m128\u001b[0m)    │              \u001b[38;5;34m0\u001b[0m │ conv3_block4_1_bn[\u001b[38;5;34m0\u001b[0m][\u001b[38;5;34m…\u001b[0m │\n",
              "│ (\u001b[38;5;33mActivation\u001b[0m)              │                        │                │                        │\n",
              "├───────────────────────────┼────────────────────────┼────────────────┼────────────────────────┤\n",
              "│ conv3_block4_2_conv       │ (\u001b[38;5;45mNone\u001b[0m, \u001b[38;5;34m32\u001b[0m, \u001b[38;5;34m32\u001b[0m, \u001b[38;5;34m128\u001b[0m)    │        \u001b[38;5;34m147,584\u001b[0m │ conv3_block4_1_relu[\u001b[38;5;34m0\u001b[0m… │\n",
              "│ (\u001b[38;5;33mConv2D\u001b[0m)                  │                        │                │                        │\n",
              "├───────────────────────────┼────────────────────────┼────────────────┼────────────────────────┤\n",
              "│ conv3_block4_2_bn         │ (\u001b[38;5;45mNone\u001b[0m, \u001b[38;5;34m32\u001b[0m, \u001b[38;5;34m32\u001b[0m, \u001b[38;5;34m128\u001b[0m)    │            \u001b[38;5;34m512\u001b[0m │ conv3_block4_2_conv[\u001b[38;5;34m0\u001b[0m… │\n",
              "│ (\u001b[38;5;33mBatchNormalization\u001b[0m)      │                        │                │                        │\n",
              "├───────────────────────────┼────────────────────────┼────────────────┼────────────────────────┤\n",
              "│ conv3_block4_2_relu       │ (\u001b[38;5;45mNone\u001b[0m, \u001b[38;5;34m32\u001b[0m, \u001b[38;5;34m32\u001b[0m, \u001b[38;5;34m128\u001b[0m)    │              \u001b[38;5;34m0\u001b[0m │ conv3_block4_2_bn[\u001b[38;5;34m0\u001b[0m][\u001b[38;5;34m…\u001b[0m │\n",
              "│ (\u001b[38;5;33mActivation\u001b[0m)              │                        │                │                        │\n",
              "├───────────────────────────┼────────────────────────┼────────────────┼────────────────────────┤\n",
              "│ conv3_block4_3_conv       │ (\u001b[38;5;45mNone\u001b[0m, \u001b[38;5;34m32\u001b[0m, \u001b[38;5;34m32\u001b[0m, \u001b[38;5;34m512\u001b[0m)    │         \u001b[38;5;34m66,048\u001b[0m │ conv3_block4_2_relu[\u001b[38;5;34m0\u001b[0m… │\n",
              "│ (\u001b[38;5;33mConv2D\u001b[0m)                  │                        │                │                        │\n",
              "├───────────────────────────┼────────────────────────┼────────────────┼────────────────────────┤\n",
              "│ conv3_block4_3_bn         │ (\u001b[38;5;45mNone\u001b[0m, \u001b[38;5;34m32\u001b[0m, \u001b[38;5;34m32\u001b[0m, \u001b[38;5;34m512\u001b[0m)    │          \u001b[38;5;34m2,048\u001b[0m │ conv3_block4_3_conv[\u001b[38;5;34m0\u001b[0m… │\n",
              "│ (\u001b[38;5;33mBatchNormalization\u001b[0m)      │                        │                │                        │\n",
              "├───────────────────────────┼────────────────────────┼────────────────┼────────────────────────┤\n",
              "│ conv3_block4_add (\u001b[38;5;33mAdd\u001b[0m)    │ (\u001b[38;5;45mNone\u001b[0m, \u001b[38;5;34m32\u001b[0m, \u001b[38;5;34m32\u001b[0m, \u001b[38;5;34m512\u001b[0m)    │              \u001b[38;5;34m0\u001b[0m │ conv3_block3_out[\u001b[38;5;34m0\u001b[0m][\u001b[38;5;34m0\u001b[0m… │\n",
              "│                           │                        │                │ conv3_block4_3_bn[\u001b[38;5;34m0\u001b[0m][\u001b[38;5;34m…\u001b[0m │\n",
              "├───────────────────────────┼────────────────────────┼────────────────┼────────────────────────┤\n",
              "│ conv3_block4_out          │ (\u001b[38;5;45mNone\u001b[0m, \u001b[38;5;34m32\u001b[0m, \u001b[38;5;34m32\u001b[0m, \u001b[38;5;34m512\u001b[0m)    │              \u001b[38;5;34m0\u001b[0m │ conv3_block4_add[\u001b[38;5;34m0\u001b[0m][\u001b[38;5;34m0\u001b[0m] │\n",
              "│ (\u001b[38;5;33mActivation\u001b[0m)              │                        │                │                        │\n",
              "├───────────────────────────┼────────────────────────┼────────────────┼────────────────────────┤\n",
              "│ conv4_block1_1_conv       │ (\u001b[38;5;45mNone\u001b[0m, \u001b[38;5;34m16\u001b[0m, \u001b[38;5;34m16\u001b[0m, \u001b[38;5;34m256\u001b[0m)    │        \u001b[38;5;34m131,328\u001b[0m │ conv3_block4_out[\u001b[38;5;34m0\u001b[0m][\u001b[38;5;34m0\u001b[0m] │\n",
              "│ (\u001b[38;5;33mConv2D\u001b[0m)                  │                        │                │                        │\n",
              "├───────────────────────────┼────────────────────────┼────────────────┼────────────────────────┤\n",
              "│ conv4_block1_1_bn         │ (\u001b[38;5;45mNone\u001b[0m, \u001b[38;5;34m16\u001b[0m, \u001b[38;5;34m16\u001b[0m, \u001b[38;5;34m256\u001b[0m)    │          \u001b[38;5;34m1,024\u001b[0m │ conv4_block1_1_conv[\u001b[38;5;34m0\u001b[0m… │\n",
              "│ (\u001b[38;5;33mBatchNormalization\u001b[0m)      │                        │                │                        │\n",
              "├───────────────────────────┼────────────────────────┼────────────────┼────────────────────────┤\n",
              "│ conv4_block1_1_relu       │ (\u001b[38;5;45mNone\u001b[0m, \u001b[38;5;34m16\u001b[0m, \u001b[38;5;34m16\u001b[0m, \u001b[38;5;34m256\u001b[0m)    │              \u001b[38;5;34m0\u001b[0m │ conv4_block1_1_bn[\u001b[38;5;34m0\u001b[0m][\u001b[38;5;34m…\u001b[0m │\n",
              "│ (\u001b[38;5;33mActivation\u001b[0m)              │                        │                │                        │\n",
              "├───────────────────────────┼────────────────────────┼────────────────┼────────────────────────┤\n",
              "│ conv4_block1_2_conv       │ (\u001b[38;5;45mNone\u001b[0m, \u001b[38;5;34m16\u001b[0m, \u001b[38;5;34m16\u001b[0m, \u001b[38;5;34m256\u001b[0m)    │        \u001b[38;5;34m590,080\u001b[0m │ conv4_block1_1_relu[\u001b[38;5;34m0\u001b[0m… │\n",
              "│ (\u001b[38;5;33mConv2D\u001b[0m)                  │                        │                │                        │\n",
              "├───────────────────────────┼────────────────────────┼────────────────┼────────────────────────┤\n",
              "│ conv4_block1_2_bn         │ (\u001b[38;5;45mNone\u001b[0m, \u001b[38;5;34m16\u001b[0m, \u001b[38;5;34m16\u001b[0m, \u001b[38;5;34m256\u001b[0m)    │          \u001b[38;5;34m1,024\u001b[0m │ conv4_block1_2_conv[\u001b[38;5;34m0\u001b[0m… │\n",
              "│ (\u001b[38;5;33mBatchNormalization\u001b[0m)      │                        │                │                        │\n",
              "├───────────────────────────┼────────────────────────┼────────────────┼────────────────────────┤\n",
              "│ conv4_block1_2_relu       │ (\u001b[38;5;45mNone\u001b[0m, \u001b[38;5;34m16\u001b[0m, \u001b[38;5;34m16\u001b[0m, \u001b[38;5;34m256\u001b[0m)    │              \u001b[38;5;34m0\u001b[0m │ conv4_block1_2_bn[\u001b[38;5;34m0\u001b[0m][\u001b[38;5;34m…\u001b[0m │\n",
              "│ (\u001b[38;5;33mActivation\u001b[0m)              │                        │                │                        │\n",
              "├───────────────────────────┼────────────────────────┼────────────────┼────────────────────────┤\n",
              "│ conv4_block1_0_conv       │ (\u001b[38;5;45mNone\u001b[0m, \u001b[38;5;34m16\u001b[0m, \u001b[38;5;34m16\u001b[0m, \u001b[38;5;34m1024\u001b[0m)   │        \u001b[38;5;34m525,312\u001b[0m │ conv3_block4_out[\u001b[38;5;34m0\u001b[0m][\u001b[38;5;34m0\u001b[0m] │\n",
              "│ (\u001b[38;5;33mConv2D\u001b[0m)                  │                        │                │                        │\n",
              "├───────────────────────────┼────────────────────────┼────────────────┼────────────────────────┤\n",
              "│ conv4_block1_3_conv       │ (\u001b[38;5;45mNone\u001b[0m, \u001b[38;5;34m16\u001b[0m, \u001b[38;5;34m16\u001b[0m, \u001b[38;5;34m1024\u001b[0m)   │        \u001b[38;5;34m263,168\u001b[0m │ conv4_block1_2_relu[\u001b[38;5;34m0\u001b[0m… │\n",
              "│ (\u001b[38;5;33mConv2D\u001b[0m)                  │                        │                │                        │\n",
              "├───────────────────────────┼────────────────────────┼────────────────┼────────────────────────┤\n",
              "│ conv4_block1_0_bn         │ (\u001b[38;5;45mNone\u001b[0m, \u001b[38;5;34m16\u001b[0m, \u001b[38;5;34m16\u001b[0m, \u001b[38;5;34m1024\u001b[0m)   │          \u001b[38;5;34m4,096\u001b[0m │ conv4_block1_0_conv[\u001b[38;5;34m0\u001b[0m… │\n",
              "│ (\u001b[38;5;33mBatchNormalization\u001b[0m)      │                        │                │                        │\n",
              "├───────────────────────────┼────────────────────────┼────────────────┼────────────────────────┤\n",
              "│ conv4_block1_3_bn         │ (\u001b[38;5;45mNone\u001b[0m, \u001b[38;5;34m16\u001b[0m, \u001b[38;5;34m16\u001b[0m, \u001b[38;5;34m1024\u001b[0m)   │          \u001b[38;5;34m4,096\u001b[0m │ conv4_block1_3_conv[\u001b[38;5;34m0\u001b[0m… │\n",
              "│ (\u001b[38;5;33mBatchNormalization\u001b[0m)      │                        │                │                        │\n",
              "├───────────────────────────┼────────────────────────┼────────────────┼────────────────────────┤\n",
              "│ conv4_block1_add (\u001b[38;5;33mAdd\u001b[0m)    │ (\u001b[38;5;45mNone\u001b[0m, \u001b[38;5;34m16\u001b[0m, \u001b[38;5;34m16\u001b[0m, \u001b[38;5;34m1024\u001b[0m)   │              \u001b[38;5;34m0\u001b[0m │ conv4_block1_0_bn[\u001b[38;5;34m0\u001b[0m][\u001b[38;5;34m…\u001b[0m │\n",
              "│                           │                        │                │ conv4_block1_3_bn[\u001b[38;5;34m0\u001b[0m][\u001b[38;5;34m…\u001b[0m │\n",
              "├───────────────────────────┼────────────────────────┼────────────────┼────────────────────────┤\n",
              "│ conv4_block1_out          │ (\u001b[38;5;45mNone\u001b[0m, \u001b[38;5;34m16\u001b[0m, \u001b[38;5;34m16\u001b[0m, \u001b[38;5;34m1024\u001b[0m)   │              \u001b[38;5;34m0\u001b[0m │ conv4_block1_add[\u001b[38;5;34m0\u001b[0m][\u001b[38;5;34m0\u001b[0m] │\n",
              "│ (\u001b[38;5;33mActivation\u001b[0m)              │                        │                │                        │\n",
              "├───────────────────────────┼────────────────────────┼────────────────┼────────────────────────┤\n",
              "│ conv4_block2_1_conv       │ (\u001b[38;5;45mNone\u001b[0m, \u001b[38;5;34m16\u001b[0m, \u001b[38;5;34m16\u001b[0m, \u001b[38;5;34m256\u001b[0m)    │        \u001b[38;5;34m262,400\u001b[0m │ conv4_block1_out[\u001b[38;5;34m0\u001b[0m][\u001b[38;5;34m0\u001b[0m] │\n",
              "│ (\u001b[38;5;33mConv2D\u001b[0m)                  │                        │                │                        │\n",
              "├───────────────────────────┼────────────────────────┼────────────────┼────────────────────────┤\n",
              "│ conv4_block2_1_bn         │ (\u001b[38;5;45mNone\u001b[0m, \u001b[38;5;34m16\u001b[0m, \u001b[38;5;34m16\u001b[0m, \u001b[38;5;34m256\u001b[0m)    │          \u001b[38;5;34m1,024\u001b[0m │ conv4_block2_1_conv[\u001b[38;5;34m0\u001b[0m… │\n",
              "│ (\u001b[38;5;33mBatchNormalization\u001b[0m)      │                        │                │                        │\n",
              "├───────────────────────────┼────────────────────────┼────────────────┼────────────────────────┤\n",
              "│ conv4_block2_1_relu       │ (\u001b[38;5;45mNone\u001b[0m, \u001b[38;5;34m16\u001b[0m, \u001b[38;5;34m16\u001b[0m, \u001b[38;5;34m256\u001b[0m)    │              \u001b[38;5;34m0\u001b[0m │ conv4_block2_1_bn[\u001b[38;5;34m0\u001b[0m][\u001b[38;5;34m…\u001b[0m │\n",
              "│ (\u001b[38;5;33mActivation\u001b[0m)              │                        │                │                        │\n",
              "├───────────────────────────┼────────────────────────┼────────────────┼────────────────────────┤\n",
              "│ conv4_block2_2_conv       │ (\u001b[38;5;45mNone\u001b[0m, \u001b[38;5;34m16\u001b[0m, \u001b[38;5;34m16\u001b[0m, \u001b[38;5;34m256\u001b[0m)    │        \u001b[38;5;34m590,080\u001b[0m │ conv4_block2_1_relu[\u001b[38;5;34m0\u001b[0m… │\n",
              "│ (\u001b[38;5;33mConv2D\u001b[0m)                  │                        │                │                        │\n",
              "├───────────────────────────┼────────────────────────┼────────────────┼────────────────────────┤\n",
              "│ conv4_block2_2_bn         │ (\u001b[38;5;45mNone\u001b[0m, \u001b[38;5;34m16\u001b[0m, \u001b[38;5;34m16\u001b[0m, \u001b[38;5;34m256\u001b[0m)    │          \u001b[38;5;34m1,024\u001b[0m │ conv4_block2_2_conv[\u001b[38;5;34m0\u001b[0m… │\n",
              "│ (\u001b[38;5;33mBatchNormalization\u001b[0m)      │                        │                │                        │\n",
              "├───────────────────────────┼────────────────────────┼────────────────┼────────────────────────┤\n",
              "│ conv4_block2_2_relu       │ (\u001b[38;5;45mNone\u001b[0m, \u001b[38;5;34m16\u001b[0m, \u001b[38;5;34m16\u001b[0m, \u001b[38;5;34m256\u001b[0m)    │              \u001b[38;5;34m0\u001b[0m │ conv4_block2_2_bn[\u001b[38;5;34m0\u001b[0m][\u001b[38;5;34m…\u001b[0m │\n",
              "│ (\u001b[38;5;33mActivation\u001b[0m)              │                        │                │                        │\n",
              "├───────────────────────────┼────────────────────────┼────────────────┼────────────────────────┤\n",
              "│ conv4_block2_3_conv       │ (\u001b[38;5;45mNone\u001b[0m, \u001b[38;5;34m16\u001b[0m, \u001b[38;5;34m16\u001b[0m, \u001b[38;5;34m1024\u001b[0m)   │        \u001b[38;5;34m263,168\u001b[0m │ conv4_block2_2_relu[\u001b[38;5;34m0\u001b[0m… │\n",
              "│ (\u001b[38;5;33mConv2D\u001b[0m)                  │                        │                │                        │\n",
              "├───────────────────────────┼────────────────────────┼────────────────┼────────────────────────┤\n",
              "│ conv4_block2_3_bn         │ (\u001b[38;5;45mNone\u001b[0m, \u001b[38;5;34m16\u001b[0m, \u001b[38;5;34m16\u001b[0m, \u001b[38;5;34m1024\u001b[0m)   │          \u001b[38;5;34m4,096\u001b[0m │ conv4_block2_3_conv[\u001b[38;5;34m0\u001b[0m… │\n",
              "│ (\u001b[38;5;33mBatchNormalization\u001b[0m)      │                        │                │                        │\n",
              "├───────────────────────────┼────────────────────────┼────────────────┼────────────────────────┤\n",
              "│ conv4_block2_add (\u001b[38;5;33mAdd\u001b[0m)    │ (\u001b[38;5;45mNone\u001b[0m, \u001b[38;5;34m16\u001b[0m, \u001b[38;5;34m16\u001b[0m, \u001b[38;5;34m1024\u001b[0m)   │              \u001b[38;5;34m0\u001b[0m │ conv4_block1_out[\u001b[38;5;34m0\u001b[0m][\u001b[38;5;34m0\u001b[0m… │\n",
              "│                           │                        │                │ conv4_block2_3_bn[\u001b[38;5;34m0\u001b[0m][\u001b[38;5;34m…\u001b[0m │\n",
              "├───────────────────────────┼────────────────────────┼────────────────┼────────────────────────┤\n",
              "│ conv4_block2_out          │ (\u001b[38;5;45mNone\u001b[0m, \u001b[38;5;34m16\u001b[0m, \u001b[38;5;34m16\u001b[0m, \u001b[38;5;34m1024\u001b[0m)   │              \u001b[38;5;34m0\u001b[0m │ conv4_block2_add[\u001b[38;5;34m0\u001b[0m][\u001b[38;5;34m0\u001b[0m] │\n",
              "│ (\u001b[38;5;33mActivation\u001b[0m)              │                        │                │                        │\n",
              "├───────────────────────────┼────────────────────────┼────────────────┼────────────────────────┤\n",
              "│ conv4_block3_1_conv       │ (\u001b[38;5;45mNone\u001b[0m, \u001b[38;5;34m16\u001b[0m, \u001b[38;5;34m16\u001b[0m, \u001b[38;5;34m256\u001b[0m)    │        \u001b[38;5;34m262,400\u001b[0m │ conv4_block2_out[\u001b[38;5;34m0\u001b[0m][\u001b[38;5;34m0\u001b[0m] │\n",
              "│ (\u001b[38;5;33mConv2D\u001b[0m)                  │                        │                │                        │\n",
              "├───────────────────────────┼────────────────────────┼────────────────┼────────────────────────┤\n",
              "│ conv4_block3_1_bn         │ (\u001b[38;5;45mNone\u001b[0m, \u001b[38;5;34m16\u001b[0m, \u001b[38;5;34m16\u001b[0m, \u001b[38;5;34m256\u001b[0m)    │          \u001b[38;5;34m1,024\u001b[0m │ conv4_block3_1_conv[\u001b[38;5;34m0\u001b[0m… │\n",
              "│ (\u001b[38;5;33mBatchNormalization\u001b[0m)      │                        │                │                        │\n",
              "├───────────────────────────┼────────────────────────┼────────────────┼────────────────────────┤\n",
              "│ conv4_block3_1_relu       │ (\u001b[38;5;45mNone\u001b[0m, \u001b[38;5;34m16\u001b[0m, \u001b[38;5;34m16\u001b[0m, \u001b[38;5;34m256\u001b[0m)    │              \u001b[38;5;34m0\u001b[0m │ conv4_block3_1_bn[\u001b[38;5;34m0\u001b[0m][\u001b[38;5;34m…\u001b[0m │\n",
              "│ (\u001b[38;5;33mActivation\u001b[0m)              │                        │                │                        │\n",
              "├───────────────────────────┼────────────────────────┼────────────────┼────────────────────────┤\n",
              "│ conv4_block3_2_conv       │ (\u001b[38;5;45mNone\u001b[0m, \u001b[38;5;34m16\u001b[0m, \u001b[38;5;34m16\u001b[0m, \u001b[38;5;34m256\u001b[0m)    │        \u001b[38;5;34m590,080\u001b[0m │ conv4_block3_1_relu[\u001b[38;5;34m0\u001b[0m… │\n",
              "│ (\u001b[38;5;33mConv2D\u001b[0m)                  │                        │                │                        │\n",
              "├───────────────────────────┼────────────────────────┼────────────────┼────────────────────────┤\n",
              "│ conv4_block3_2_bn         │ (\u001b[38;5;45mNone\u001b[0m, \u001b[38;5;34m16\u001b[0m, \u001b[38;5;34m16\u001b[0m, \u001b[38;5;34m256\u001b[0m)    │          \u001b[38;5;34m1,024\u001b[0m │ conv4_block3_2_conv[\u001b[38;5;34m0\u001b[0m… │\n",
              "│ (\u001b[38;5;33mBatchNormalization\u001b[0m)      │                        │                │                        │\n",
              "├───────────────────────────┼────────────────────────┼────────────────┼────────────────────────┤\n",
              "│ conv4_block3_2_relu       │ (\u001b[38;5;45mNone\u001b[0m, \u001b[38;5;34m16\u001b[0m, \u001b[38;5;34m16\u001b[0m, \u001b[38;5;34m256\u001b[0m)    │              \u001b[38;5;34m0\u001b[0m │ conv4_block3_2_bn[\u001b[38;5;34m0\u001b[0m][\u001b[38;5;34m…\u001b[0m │\n",
              "│ (\u001b[38;5;33mActivation\u001b[0m)              │                        │                │                        │\n",
              "├───────────────────────────┼────────────────────────┼────────────────┼────────────────────────┤\n",
              "│ conv4_block3_3_conv       │ (\u001b[38;5;45mNone\u001b[0m, \u001b[38;5;34m16\u001b[0m, \u001b[38;5;34m16\u001b[0m, \u001b[38;5;34m1024\u001b[0m)   │        \u001b[38;5;34m263,168\u001b[0m │ conv4_block3_2_relu[\u001b[38;5;34m0\u001b[0m… │\n",
              "│ (\u001b[38;5;33mConv2D\u001b[0m)                  │                        │                │                        │\n",
              "├───────────────────────────┼────────────────────────┼────────────────┼────────────────────────┤\n",
              "│ conv4_block3_3_bn         │ (\u001b[38;5;45mNone\u001b[0m, \u001b[38;5;34m16\u001b[0m, \u001b[38;5;34m16\u001b[0m, \u001b[38;5;34m1024\u001b[0m)   │          \u001b[38;5;34m4,096\u001b[0m │ conv4_block3_3_conv[\u001b[38;5;34m0\u001b[0m… │\n",
              "│ (\u001b[38;5;33mBatchNormalization\u001b[0m)      │                        │                │                        │\n",
              "├───────────────────────────┼────────────────────────┼────────────────┼────────────────────────┤\n",
              "│ conv4_block3_add (\u001b[38;5;33mAdd\u001b[0m)    │ (\u001b[38;5;45mNone\u001b[0m, \u001b[38;5;34m16\u001b[0m, \u001b[38;5;34m16\u001b[0m, \u001b[38;5;34m1024\u001b[0m)   │              \u001b[38;5;34m0\u001b[0m │ conv4_block2_out[\u001b[38;5;34m0\u001b[0m][\u001b[38;5;34m0\u001b[0m… │\n",
              "│                           │                        │                │ conv4_block3_3_bn[\u001b[38;5;34m0\u001b[0m][\u001b[38;5;34m…\u001b[0m │\n",
              "├───────────────────────────┼────────────────────────┼────────────────┼────────────────────────┤\n",
              "│ conv4_block3_out          │ (\u001b[38;5;45mNone\u001b[0m, \u001b[38;5;34m16\u001b[0m, \u001b[38;5;34m16\u001b[0m, \u001b[38;5;34m1024\u001b[0m)   │              \u001b[38;5;34m0\u001b[0m │ conv4_block3_add[\u001b[38;5;34m0\u001b[0m][\u001b[38;5;34m0\u001b[0m] │\n",
              "│ (\u001b[38;5;33mActivation\u001b[0m)              │                        │                │                        │\n",
              "├───────────────────────────┼────────────────────────┼────────────────┼────────────────────────┤\n",
              "│ conv4_block4_1_conv       │ (\u001b[38;5;45mNone\u001b[0m, \u001b[38;5;34m16\u001b[0m, \u001b[38;5;34m16\u001b[0m, \u001b[38;5;34m256\u001b[0m)    │        \u001b[38;5;34m262,400\u001b[0m │ conv4_block3_out[\u001b[38;5;34m0\u001b[0m][\u001b[38;5;34m0\u001b[0m] │\n",
              "│ (\u001b[38;5;33mConv2D\u001b[0m)                  │                        │                │                        │\n",
              "├───────────────────────────┼────────────────────────┼────────────────┼────────────────────────┤\n",
              "│ conv4_block4_1_bn         │ (\u001b[38;5;45mNone\u001b[0m, \u001b[38;5;34m16\u001b[0m, \u001b[38;5;34m16\u001b[0m, \u001b[38;5;34m256\u001b[0m)    │          \u001b[38;5;34m1,024\u001b[0m │ conv4_block4_1_conv[\u001b[38;5;34m0\u001b[0m… │\n",
              "│ (\u001b[38;5;33mBatchNormalization\u001b[0m)      │                        │                │                        │\n",
              "├───────────────────────────┼────────────────────────┼────────────────┼────────────────────────┤\n",
              "│ conv4_block4_1_relu       │ (\u001b[38;5;45mNone\u001b[0m, \u001b[38;5;34m16\u001b[0m, \u001b[38;5;34m16\u001b[0m, \u001b[38;5;34m256\u001b[0m)    │              \u001b[38;5;34m0\u001b[0m │ conv4_block4_1_bn[\u001b[38;5;34m0\u001b[0m][\u001b[38;5;34m…\u001b[0m │\n",
              "│ (\u001b[38;5;33mActivation\u001b[0m)              │                        │                │                        │\n",
              "├───────────────────────────┼────────────────────────┼────────────────┼────────────────────────┤\n",
              "│ conv4_block4_2_conv       │ (\u001b[38;5;45mNone\u001b[0m, \u001b[38;5;34m16\u001b[0m, \u001b[38;5;34m16\u001b[0m, \u001b[38;5;34m256\u001b[0m)    │        \u001b[38;5;34m590,080\u001b[0m │ conv4_block4_1_relu[\u001b[38;5;34m0\u001b[0m… │\n",
              "│ (\u001b[38;5;33mConv2D\u001b[0m)                  │                        │                │                        │\n",
              "├───────────────────────────┼────────────────────────┼────────────────┼────────────────────────┤\n",
              "│ conv4_block4_2_bn         │ (\u001b[38;5;45mNone\u001b[0m, \u001b[38;5;34m16\u001b[0m, \u001b[38;5;34m16\u001b[0m, \u001b[38;5;34m256\u001b[0m)    │          \u001b[38;5;34m1,024\u001b[0m │ conv4_block4_2_conv[\u001b[38;5;34m0\u001b[0m… │\n",
              "│ (\u001b[38;5;33mBatchNormalization\u001b[0m)      │                        │                │                        │\n",
              "├───────────────────────────┼────────────────────────┼────────────────┼────────────────────────┤\n",
              "│ conv4_block4_2_relu       │ (\u001b[38;5;45mNone\u001b[0m, \u001b[38;5;34m16\u001b[0m, \u001b[38;5;34m16\u001b[0m, \u001b[38;5;34m256\u001b[0m)    │              \u001b[38;5;34m0\u001b[0m │ conv4_block4_2_bn[\u001b[38;5;34m0\u001b[0m][\u001b[38;5;34m…\u001b[0m │\n",
              "│ (\u001b[38;5;33mActivation\u001b[0m)              │                        │                │                        │\n",
              "├───────────────────────────┼────────────────────────┼────────────────┼────────────────────────┤\n",
              "│ conv4_block4_3_conv       │ (\u001b[38;5;45mNone\u001b[0m, \u001b[38;5;34m16\u001b[0m, \u001b[38;5;34m16\u001b[0m, \u001b[38;5;34m1024\u001b[0m)   │        \u001b[38;5;34m263,168\u001b[0m │ conv4_block4_2_relu[\u001b[38;5;34m0\u001b[0m… │\n",
              "│ (\u001b[38;5;33mConv2D\u001b[0m)                  │                        │                │                        │\n",
              "├───────────────────────────┼────────────────────────┼────────────────┼────────────────────────┤\n",
              "│ conv4_block4_3_bn         │ (\u001b[38;5;45mNone\u001b[0m, \u001b[38;5;34m16\u001b[0m, \u001b[38;5;34m16\u001b[0m, \u001b[38;5;34m1024\u001b[0m)   │          \u001b[38;5;34m4,096\u001b[0m │ conv4_block4_3_conv[\u001b[38;5;34m0\u001b[0m… │\n",
              "│ (\u001b[38;5;33mBatchNormalization\u001b[0m)      │                        │                │                        │\n",
              "├───────────────────────────┼────────────────────────┼────────────────┼────────────────────────┤\n",
              "│ conv4_block4_add (\u001b[38;5;33mAdd\u001b[0m)    │ (\u001b[38;5;45mNone\u001b[0m, \u001b[38;5;34m16\u001b[0m, \u001b[38;5;34m16\u001b[0m, \u001b[38;5;34m1024\u001b[0m)   │              \u001b[38;5;34m0\u001b[0m │ conv4_block3_out[\u001b[38;5;34m0\u001b[0m][\u001b[38;5;34m0\u001b[0m… │\n",
              "│                           │                        │                │ conv4_block4_3_bn[\u001b[38;5;34m0\u001b[0m][\u001b[38;5;34m…\u001b[0m │\n",
              "├───────────────────────────┼────────────────────────┼────────────────┼────────────────────────┤\n",
              "│ conv4_block4_out          │ (\u001b[38;5;45mNone\u001b[0m, \u001b[38;5;34m16\u001b[0m, \u001b[38;5;34m16\u001b[0m, \u001b[38;5;34m1024\u001b[0m)   │              \u001b[38;5;34m0\u001b[0m │ conv4_block4_add[\u001b[38;5;34m0\u001b[0m][\u001b[38;5;34m0\u001b[0m] │\n",
              "│ (\u001b[38;5;33mActivation\u001b[0m)              │                        │                │                        │\n",
              "├───────────────────────────┼────────────────────────┼────────────────┼────────────────────────┤\n",
              "│ conv4_block5_1_conv       │ (\u001b[38;5;45mNone\u001b[0m, \u001b[38;5;34m16\u001b[0m, \u001b[38;5;34m16\u001b[0m, \u001b[38;5;34m256\u001b[0m)    │        \u001b[38;5;34m262,400\u001b[0m │ conv4_block4_out[\u001b[38;5;34m0\u001b[0m][\u001b[38;5;34m0\u001b[0m] │\n",
              "│ (\u001b[38;5;33mConv2D\u001b[0m)                  │                        │                │                        │\n",
              "├───────────────────────────┼────────────────────────┼────────────────┼────────────────────────┤\n",
              "│ conv4_block5_1_bn         │ (\u001b[38;5;45mNone\u001b[0m, \u001b[38;5;34m16\u001b[0m, \u001b[38;5;34m16\u001b[0m, \u001b[38;5;34m256\u001b[0m)    │          \u001b[38;5;34m1,024\u001b[0m │ conv4_block5_1_conv[\u001b[38;5;34m0\u001b[0m… │\n",
              "│ (\u001b[38;5;33mBatchNormalization\u001b[0m)      │                        │                │                        │\n",
              "├───────────────────────────┼────────────────────────┼────────────────┼────────────────────────┤\n",
              "│ conv4_block5_1_relu       │ (\u001b[38;5;45mNone\u001b[0m, \u001b[38;5;34m16\u001b[0m, \u001b[38;5;34m16\u001b[0m, \u001b[38;5;34m256\u001b[0m)    │              \u001b[38;5;34m0\u001b[0m │ conv4_block5_1_bn[\u001b[38;5;34m0\u001b[0m][\u001b[38;5;34m…\u001b[0m │\n",
              "│ (\u001b[38;5;33mActivation\u001b[0m)              │                        │                │                        │\n",
              "├───────────────────────────┼────────────────────────┼────────────────┼────────────────────────┤\n",
              "│ conv4_block5_2_conv       │ (\u001b[38;5;45mNone\u001b[0m, \u001b[38;5;34m16\u001b[0m, \u001b[38;5;34m16\u001b[0m, \u001b[38;5;34m256\u001b[0m)    │        \u001b[38;5;34m590,080\u001b[0m │ conv4_block5_1_relu[\u001b[38;5;34m0\u001b[0m… │\n",
              "│ (\u001b[38;5;33mConv2D\u001b[0m)                  │                        │                │                        │\n",
              "├───────────────────────────┼────────────────────────┼────────────────┼────────────────────────┤\n",
              "│ conv4_block5_2_bn         │ (\u001b[38;5;45mNone\u001b[0m, \u001b[38;5;34m16\u001b[0m, \u001b[38;5;34m16\u001b[0m, \u001b[38;5;34m256\u001b[0m)    │          \u001b[38;5;34m1,024\u001b[0m │ conv4_block5_2_conv[\u001b[38;5;34m0\u001b[0m… │\n",
              "│ (\u001b[38;5;33mBatchNormalization\u001b[0m)      │                        │                │                        │\n",
              "├───────────────────────────┼────────────────────────┼────────────────┼────────────────────────┤\n",
              "│ conv4_block5_2_relu       │ (\u001b[38;5;45mNone\u001b[0m, \u001b[38;5;34m16\u001b[0m, \u001b[38;5;34m16\u001b[0m, \u001b[38;5;34m256\u001b[0m)    │              \u001b[38;5;34m0\u001b[0m │ conv4_block5_2_bn[\u001b[38;5;34m0\u001b[0m][\u001b[38;5;34m…\u001b[0m │\n",
              "│ (\u001b[38;5;33mActivation\u001b[0m)              │                        │                │                        │\n",
              "├───────────────────────────┼────────────────────────┼────────────────┼────────────────────────┤\n",
              "│ conv4_block5_3_conv       │ (\u001b[38;5;45mNone\u001b[0m, \u001b[38;5;34m16\u001b[0m, \u001b[38;5;34m16\u001b[0m, \u001b[38;5;34m1024\u001b[0m)   │        \u001b[38;5;34m263,168\u001b[0m │ conv4_block5_2_relu[\u001b[38;5;34m0\u001b[0m… │\n",
              "│ (\u001b[38;5;33mConv2D\u001b[0m)                  │                        │                │                        │\n",
              "├───────────────────────────┼────────────────────────┼────────────────┼────────────────────────┤\n",
              "│ conv4_block5_3_bn         │ (\u001b[38;5;45mNone\u001b[0m, \u001b[38;5;34m16\u001b[0m, \u001b[38;5;34m16\u001b[0m, \u001b[38;5;34m1024\u001b[0m)   │          \u001b[38;5;34m4,096\u001b[0m │ conv4_block5_3_conv[\u001b[38;5;34m0\u001b[0m… │\n",
              "│ (\u001b[38;5;33mBatchNormalization\u001b[0m)      │                        │                │                        │\n",
              "├───────────────────────────┼────────────────────────┼────────────────┼────────────────────────┤\n",
              "│ conv4_block5_add (\u001b[38;5;33mAdd\u001b[0m)    │ (\u001b[38;5;45mNone\u001b[0m, \u001b[38;5;34m16\u001b[0m, \u001b[38;5;34m16\u001b[0m, \u001b[38;5;34m1024\u001b[0m)   │              \u001b[38;5;34m0\u001b[0m │ conv4_block4_out[\u001b[38;5;34m0\u001b[0m][\u001b[38;5;34m0\u001b[0m… │\n",
              "│                           │                        │                │ conv4_block5_3_bn[\u001b[38;5;34m0\u001b[0m][\u001b[38;5;34m…\u001b[0m │\n",
              "├───────────────────────────┼────────────────────────┼────────────────┼────────────────────────┤\n",
              "│ conv4_block5_out          │ (\u001b[38;5;45mNone\u001b[0m, \u001b[38;5;34m16\u001b[0m, \u001b[38;5;34m16\u001b[0m, \u001b[38;5;34m1024\u001b[0m)   │              \u001b[38;5;34m0\u001b[0m │ conv4_block5_add[\u001b[38;5;34m0\u001b[0m][\u001b[38;5;34m0\u001b[0m] │\n",
              "│ (\u001b[38;5;33mActivation\u001b[0m)              │                        │                │                        │\n",
              "├───────────────────────────┼────────────────────────┼────────────────┼────────────────────────┤\n",
              "│ conv4_block6_1_conv       │ (\u001b[38;5;45mNone\u001b[0m, \u001b[38;5;34m16\u001b[0m, \u001b[38;5;34m16\u001b[0m, \u001b[38;5;34m256\u001b[0m)    │        \u001b[38;5;34m262,400\u001b[0m │ conv4_block5_out[\u001b[38;5;34m0\u001b[0m][\u001b[38;5;34m0\u001b[0m] │\n",
              "│ (\u001b[38;5;33mConv2D\u001b[0m)                  │                        │                │                        │\n",
              "├───────────────────────────┼────────────────────────┼────────────────┼────────────────────────┤\n",
              "│ conv4_block6_1_bn         │ (\u001b[38;5;45mNone\u001b[0m, \u001b[38;5;34m16\u001b[0m, \u001b[38;5;34m16\u001b[0m, \u001b[38;5;34m256\u001b[0m)    │          \u001b[38;5;34m1,024\u001b[0m │ conv4_block6_1_conv[\u001b[38;5;34m0\u001b[0m… │\n",
              "│ (\u001b[38;5;33mBatchNormalization\u001b[0m)      │                        │                │                        │\n",
              "├───────────────────────────┼────────────────────────┼────────────────┼────────────────────────┤\n",
              "│ conv4_block6_1_relu       │ (\u001b[38;5;45mNone\u001b[0m, \u001b[38;5;34m16\u001b[0m, \u001b[38;5;34m16\u001b[0m, \u001b[38;5;34m256\u001b[0m)    │              \u001b[38;5;34m0\u001b[0m │ conv4_block6_1_bn[\u001b[38;5;34m0\u001b[0m][\u001b[38;5;34m…\u001b[0m │\n",
              "│ (\u001b[38;5;33mActivation\u001b[0m)              │                        │                │                        │\n",
              "├───────────────────────────┼────────────────────────┼────────────────┼────────────────────────┤\n",
              "│ conv4_block6_2_conv       │ (\u001b[38;5;45mNone\u001b[0m, \u001b[38;5;34m16\u001b[0m, \u001b[38;5;34m16\u001b[0m, \u001b[38;5;34m256\u001b[0m)    │        \u001b[38;5;34m590,080\u001b[0m │ conv4_block6_1_relu[\u001b[38;5;34m0\u001b[0m… │\n",
              "│ (\u001b[38;5;33mConv2D\u001b[0m)                  │                        │                │                        │\n",
              "├───────────────────────────┼────────────────────────┼────────────────┼────────────────────────┤\n",
              "│ conv4_block6_2_bn         │ (\u001b[38;5;45mNone\u001b[0m, \u001b[38;5;34m16\u001b[0m, \u001b[38;5;34m16\u001b[0m, \u001b[38;5;34m256\u001b[0m)    │          \u001b[38;5;34m1,024\u001b[0m │ conv4_block6_2_conv[\u001b[38;5;34m0\u001b[0m… │\n",
              "│ (\u001b[38;5;33mBatchNormalization\u001b[0m)      │                        │                │                        │\n",
              "├───────────────────────────┼────────────────────────┼────────────────┼────────────────────────┤\n",
              "│ conv4_block6_2_relu       │ (\u001b[38;5;45mNone\u001b[0m, \u001b[38;5;34m16\u001b[0m, \u001b[38;5;34m16\u001b[0m, \u001b[38;5;34m256\u001b[0m)    │              \u001b[38;5;34m0\u001b[0m │ conv4_block6_2_bn[\u001b[38;5;34m0\u001b[0m][\u001b[38;5;34m…\u001b[0m │\n",
              "│ (\u001b[38;5;33mActivation\u001b[0m)              │                        │                │                        │\n",
              "├───────────────────────────┼────────────────────────┼────────────────┼────────────────────────┤\n",
              "│ conv4_block6_3_conv       │ (\u001b[38;5;45mNone\u001b[0m, \u001b[38;5;34m16\u001b[0m, \u001b[38;5;34m16\u001b[0m, \u001b[38;5;34m1024\u001b[0m)   │        \u001b[38;5;34m263,168\u001b[0m │ conv4_block6_2_relu[\u001b[38;5;34m0\u001b[0m… │\n",
              "│ (\u001b[38;5;33mConv2D\u001b[0m)                  │                        │                │                        │\n",
              "├───────────────────────────┼────────────────────────┼────────────────┼────────────────────────┤\n",
              "│ conv4_block6_3_bn         │ (\u001b[38;5;45mNone\u001b[0m, \u001b[38;5;34m16\u001b[0m, \u001b[38;5;34m16\u001b[0m, \u001b[38;5;34m1024\u001b[0m)   │          \u001b[38;5;34m4,096\u001b[0m │ conv4_block6_3_conv[\u001b[38;5;34m0\u001b[0m… │\n",
              "│ (\u001b[38;5;33mBatchNormalization\u001b[0m)      │                        │                │                        │\n",
              "├───────────────────────────┼────────────────────────┼────────────────┼────────────────────────┤\n",
              "│ conv4_block6_add (\u001b[38;5;33mAdd\u001b[0m)    │ (\u001b[38;5;45mNone\u001b[0m, \u001b[38;5;34m16\u001b[0m, \u001b[38;5;34m16\u001b[0m, \u001b[38;5;34m1024\u001b[0m)   │              \u001b[38;5;34m0\u001b[0m │ conv4_block5_out[\u001b[38;5;34m0\u001b[0m][\u001b[38;5;34m0\u001b[0m… │\n",
              "│                           │                        │                │ conv4_block6_3_bn[\u001b[38;5;34m0\u001b[0m][\u001b[38;5;34m…\u001b[0m │\n",
              "├───────────────────────────┼────────────────────────┼────────────────┼────────────────────────┤\n",
              "│ conv4_block6_out          │ (\u001b[38;5;45mNone\u001b[0m, \u001b[38;5;34m16\u001b[0m, \u001b[38;5;34m16\u001b[0m, \u001b[38;5;34m1024\u001b[0m)   │              \u001b[38;5;34m0\u001b[0m │ conv4_block6_add[\u001b[38;5;34m0\u001b[0m][\u001b[38;5;34m0\u001b[0m] │\n",
              "│ (\u001b[38;5;33mActivation\u001b[0m)              │                        │                │                        │\n",
              "├───────────────────────────┼────────────────────────┼────────────────┼────────────────────────┤\n",
              "│ conv5_block1_1_conv       │ (\u001b[38;5;45mNone\u001b[0m, \u001b[38;5;34m8\u001b[0m, \u001b[38;5;34m8\u001b[0m, \u001b[38;5;34m512\u001b[0m)      │        \u001b[38;5;34m524,800\u001b[0m │ conv4_block6_out[\u001b[38;5;34m0\u001b[0m][\u001b[38;5;34m0\u001b[0m] │\n",
              "│ (\u001b[38;5;33mConv2D\u001b[0m)                  │                        │                │                        │\n",
              "├───────────────────────────┼────────────────────────┼────────────────┼────────────────────────┤\n",
              "│ conv5_block1_1_bn         │ (\u001b[38;5;45mNone\u001b[0m, \u001b[38;5;34m8\u001b[0m, \u001b[38;5;34m8\u001b[0m, \u001b[38;5;34m512\u001b[0m)      │          \u001b[38;5;34m2,048\u001b[0m │ conv5_block1_1_conv[\u001b[38;5;34m0\u001b[0m… │\n",
              "│ (\u001b[38;5;33mBatchNormalization\u001b[0m)      │                        │                │                        │\n",
              "├───────────────────────────┼────────────────────────┼────────────────┼────────────────────────┤\n",
              "│ conv5_block1_1_relu       │ (\u001b[38;5;45mNone\u001b[0m, \u001b[38;5;34m8\u001b[0m, \u001b[38;5;34m8\u001b[0m, \u001b[38;5;34m512\u001b[0m)      │              \u001b[38;5;34m0\u001b[0m │ conv5_block1_1_bn[\u001b[38;5;34m0\u001b[0m][\u001b[38;5;34m…\u001b[0m │\n",
              "│ (\u001b[38;5;33mActivation\u001b[0m)              │                        │                │                        │\n",
              "├───────────────────────────┼────────────────────────┼────────────────┼────────────────────────┤\n",
              "│ conv5_block1_2_conv       │ (\u001b[38;5;45mNone\u001b[0m, \u001b[38;5;34m8\u001b[0m, \u001b[38;5;34m8\u001b[0m, \u001b[38;5;34m512\u001b[0m)      │      \u001b[38;5;34m2,359,808\u001b[0m │ conv5_block1_1_relu[\u001b[38;5;34m0\u001b[0m… │\n",
              "│ (\u001b[38;5;33mConv2D\u001b[0m)                  │                        │                │                        │\n",
              "├───────────────────────────┼────────────────────────┼────────────────┼────────────────────────┤\n",
              "│ conv5_block1_2_bn         │ (\u001b[38;5;45mNone\u001b[0m, \u001b[38;5;34m8\u001b[0m, \u001b[38;5;34m8\u001b[0m, \u001b[38;5;34m512\u001b[0m)      │          \u001b[38;5;34m2,048\u001b[0m │ conv5_block1_2_conv[\u001b[38;5;34m0\u001b[0m… │\n",
              "│ (\u001b[38;5;33mBatchNormalization\u001b[0m)      │                        │                │                        │\n",
              "├───────────────────────────┼────────────────────────┼────────────────┼────────────────────────┤\n",
              "│ conv5_block1_2_relu       │ (\u001b[38;5;45mNone\u001b[0m, \u001b[38;5;34m8\u001b[0m, \u001b[38;5;34m8\u001b[0m, \u001b[38;5;34m512\u001b[0m)      │              \u001b[38;5;34m0\u001b[0m │ conv5_block1_2_bn[\u001b[38;5;34m0\u001b[0m][\u001b[38;5;34m…\u001b[0m │\n",
              "│ (\u001b[38;5;33mActivation\u001b[0m)              │                        │                │                        │\n",
              "├───────────────────────────┼────────────────────────┼────────────────┼────────────────────────┤\n",
              "│ conv5_block1_0_conv       │ (\u001b[38;5;45mNone\u001b[0m, \u001b[38;5;34m8\u001b[0m, \u001b[38;5;34m8\u001b[0m, \u001b[38;5;34m2048\u001b[0m)     │      \u001b[38;5;34m2,099,200\u001b[0m │ conv4_block6_out[\u001b[38;5;34m0\u001b[0m][\u001b[38;5;34m0\u001b[0m] │\n",
              "│ (\u001b[38;5;33mConv2D\u001b[0m)                  │                        │                │                        │\n",
              "├───────────────────────────┼────────────────────────┼────────────────┼────────────────────────┤\n",
              "│ conv5_block1_3_conv       │ (\u001b[38;5;45mNone\u001b[0m, \u001b[38;5;34m8\u001b[0m, \u001b[38;5;34m8\u001b[0m, \u001b[38;5;34m2048\u001b[0m)     │      \u001b[38;5;34m1,050,624\u001b[0m │ conv5_block1_2_relu[\u001b[38;5;34m0\u001b[0m… │\n",
              "│ (\u001b[38;5;33mConv2D\u001b[0m)                  │                        │                │                        │\n",
              "├───────────────────────────┼────────────────────────┼────────────────┼────────────────────────┤\n",
              "│ conv5_block1_0_bn         │ (\u001b[38;5;45mNone\u001b[0m, \u001b[38;5;34m8\u001b[0m, \u001b[38;5;34m8\u001b[0m, \u001b[38;5;34m2048\u001b[0m)     │          \u001b[38;5;34m8,192\u001b[0m │ conv5_block1_0_conv[\u001b[38;5;34m0\u001b[0m… │\n",
              "│ (\u001b[38;5;33mBatchNormalization\u001b[0m)      │                        │                │                        │\n",
              "├───────────────────────────┼────────────────────────┼────────────────┼────────────────────────┤\n",
              "│ conv5_block1_3_bn         │ (\u001b[38;5;45mNone\u001b[0m, \u001b[38;5;34m8\u001b[0m, \u001b[38;5;34m8\u001b[0m, \u001b[38;5;34m2048\u001b[0m)     │          \u001b[38;5;34m8,192\u001b[0m │ conv5_block1_3_conv[\u001b[38;5;34m0\u001b[0m… │\n",
              "│ (\u001b[38;5;33mBatchNormalization\u001b[0m)      │                        │                │                        │\n",
              "├───────────────────────────┼────────────────────────┼────────────────┼────────────────────────┤\n",
              "│ conv5_block1_add (\u001b[38;5;33mAdd\u001b[0m)    │ (\u001b[38;5;45mNone\u001b[0m, \u001b[38;5;34m8\u001b[0m, \u001b[38;5;34m8\u001b[0m, \u001b[38;5;34m2048\u001b[0m)     │              \u001b[38;5;34m0\u001b[0m │ conv5_block1_0_bn[\u001b[38;5;34m0\u001b[0m][\u001b[38;5;34m…\u001b[0m │\n",
              "│                           │                        │                │ conv5_block1_3_bn[\u001b[38;5;34m0\u001b[0m][\u001b[38;5;34m…\u001b[0m │\n",
              "├───────────────────────────┼────────────────────────┼────────────────┼────────────────────────┤\n",
              "│ conv5_block1_out          │ (\u001b[38;5;45mNone\u001b[0m, \u001b[38;5;34m8\u001b[0m, \u001b[38;5;34m8\u001b[0m, \u001b[38;5;34m2048\u001b[0m)     │              \u001b[38;5;34m0\u001b[0m │ conv5_block1_add[\u001b[38;5;34m0\u001b[0m][\u001b[38;5;34m0\u001b[0m] │\n",
              "│ (\u001b[38;5;33mActivation\u001b[0m)              │                        │                │                        │\n",
              "├───────────────────────────┼────────────────────────┼────────────────┼────────────────────────┤\n",
              "│ conv5_block2_1_conv       │ (\u001b[38;5;45mNone\u001b[0m, \u001b[38;5;34m8\u001b[0m, \u001b[38;5;34m8\u001b[0m, \u001b[38;5;34m512\u001b[0m)      │      \u001b[38;5;34m1,049,088\u001b[0m │ conv5_block1_out[\u001b[38;5;34m0\u001b[0m][\u001b[38;5;34m0\u001b[0m] │\n",
              "│ (\u001b[38;5;33mConv2D\u001b[0m)                  │                        │                │                        │\n",
              "├───────────────────────────┼────────────────────────┼────────────────┼────────────────────────┤\n",
              "│ conv5_block2_1_bn         │ (\u001b[38;5;45mNone\u001b[0m, \u001b[38;5;34m8\u001b[0m, \u001b[38;5;34m8\u001b[0m, \u001b[38;5;34m512\u001b[0m)      │          \u001b[38;5;34m2,048\u001b[0m │ conv5_block2_1_conv[\u001b[38;5;34m0\u001b[0m… │\n",
              "│ (\u001b[38;5;33mBatchNormalization\u001b[0m)      │                        │                │                        │\n",
              "├───────────────────────────┼────────────────────────┼────────────────┼────────────────────────┤\n",
              "│ conv5_block2_1_relu       │ (\u001b[38;5;45mNone\u001b[0m, \u001b[38;5;34m8\u001b[0m, \u001b[38;5;34m8\u001b[0m, \u001b[38;5;34m512\u001b[0m)      │              \u001b[38;5;34m0\u001b[0m │ conv5_block2_1_bn[\u001b[38;5;34m0\u001b[0m][\u001b[38;5;34m…\u001b[0m │\n",
              "│ (\u001b[38;5;33mActivation\u001b[0m)              │                        │                │                        │\n",
              "├───────────────────────────┼────────────────────────┼────────────────┼────────────────────────┤\n",
              "│ conv5_block2_2_conv       │ (\u001b[38;5;45mNone\u001b[0m, \u001b[38;5;34m8\u001b[0m, \u001b[38;5;34m8\u001b[0m, \u001b[38;5;34m512\u001b[0m)      │      \u001b[38;5;34m2,359,808\u001b[0m │ conv5_block2_1_relu[\u001b[38;5;34m0\u001b[0m… │\n",
              "│ (\u001b[38;5;33mConv2D\u001b[0m)                  │                        │                │                        │\n",
              "├───────────────────────────┼────────────────────────┼────────────────┼────────────────────────┤\n",
              "│ conv5_block2_2_bn         │ (\u001b[38;5;45mNone\u001b[0m, \u001b[38;5;34m8\u001b[0m, \u001b[38;5;34m8\u001b[0m, \u001b[38;5;34m512\u001b[0m)      │          \u001b[38;5;34m2,048\u001b[0m │ conv5_block2_2_conv[\u001b[38;5;34m0\u001b[0m… │\n",
              "│ (\u001b[38;5;33mBatchNormalization\u001b[0m)      │                        │                │                        │\n",
              "├───────────────────────────┼────────────────────────┼────────────────┼────────────────────────┤\n",
              "│ conv5_block2_2_relu       │ (\u001b[38;5;45mNone\u001b[0m, \u001b[38;5;34m8\u001b[0m, \u001b[38;5;34m8\u001b[0m, \u001b[38;5;34m512\u001b[0m)      │              \u001b[38;5;34m0\u001b[0m │ conv5_block2_2_bn[\u001b[38;5;34m0\u001b[0m][\u001b[38;5;34m…\u001b[0m │\n",
              "│ (\u001b[38;5;33mActivation\u001b[0m)              │                        │                │                        │\n",
              "├───────────────────────────┼────────────────────────┼────────────────┼────────────────────────┤\n",
              "│ conv5_block2_3_conv       │ (\u001b[38;5;45mNone\u001b[0m, \u001b[38;5;34m8\u001b[0m, \u001b[38;5;34m8\u001b[0m, \u001b[38;5;34m2048\u001b[0m)     │      \u001b[38;5;34m1,050,624\u001b[0m │ conv5_block2_2_relu[\u001b[38;5;34m0\u001b[0m… │\n",
              "│ (\u001b[38;5;33mConv2D\u001b[0m)                  │                        │                │                        │\n",
              "├───────────────────────────┼────────────────────────┼────────────────┼────────────────────────┤\n",
              "│ conv5_block2_3_bn         │ (\u001b[38;5;45mNone\u001b[0m, \u001b[38;5;34m8\u001b[0m, \u001b[38;5;34m8\u001b[0m, \u001b[38;5;34m2048\u001b[0m)     │          \u001b[38;5;34m8,192\u001b[0m │ conv5_block2_3_conv[\u001b[38;5;34m0\u001b[0m… │\n",
              "│ (\u001b[38;5;33mBatchNormalization\u001b[0m)      │                        │                │                        │\n",
              "├───────────────────────────┼────────────────────────┼────────────────┼────────────────────────┤\n",
              "│ conv5_block2_add (\u001b[38;5;33mAdd\u001b[0m)    │ (\u001b[38;5;45mNone\u001b[0m, \u001b[38;5;34m8\u001b[0m, \u001b[38;5;34m8\u001b[0m, \u001b[38;5;34m2048\u001b[0m)     │              \u001b[38;5;34m0\u001b[0m │ conv5_block1_out[\u001b[38;5;34m0\u001b[0m][\u001b[38;5;34m0\u001b[0m… │\n",
              "│                           │                        │                │ conv5_block2_3_bn[\u001b[38;5;34m0\u001b[0m][\u001b[38;5;34m…\u001b[0m │\n",
              "├───────────────────────────┼────────────────────────┼────────────────┼────────────────────────┤\n",
              "│ conv5_block2_out          │ (\u001b[38;5;45mNone\u001b[0m, \u001b[38;5;34m8\u001b[0m, \u001b[38;5;34m8\u001b[0m, \u001b[38;5;34m2048\u001b[0m)     │              \u001b[38;5;34m0\u001b[0m │ conv5_block2_add[\u001b[38;5;34m0\u001b[0m][\u001b[38;5;34m0\u001b[0m] │\n",
              "│ (\u001b[38;5;33mActivation\u001b[0m)              │                        │                │                        │\n",
              "├───────────────────────────┼────────────────────────┼────────────────┼────────────────────────┤\n",
              "│ conv5_block3_1_conv       │ (\u001b[38;5;45mNone\u001b[0m, \u001b[38;5;34m8\u001b[0m, \u001b[38;5;34m8\u001b[0m, \u001b[38;5;34m512\u001b[0m)      │      \u001b[38;5;34m1,049,088\u001b[0m │ conv5_block2_out[\u001b[38;5;34m0\u001b[0m][\u001b[38;5;34m0\u001b[0m] │\n",
              "│ (\u001b[38;5;33mConv2D\u001b[0m)                  │                        │                │                        │\n",
              "├───────────────────────────┼────────────────────────┼────────────────┼────────────────────────┤\n",
              "│ conv5_block3_1_bn         │ (\u001b[38;5;45mNone\u001b[0m, \u001b[38;5;34m8\u001b[0m, \u001b[38;5;34m8\u001b[0m, \u001b[38;5;34m512\u001b[0m)      │          \u001b[38;5;34m2,048\u001b[0m │ conv5_block3_1_conv[\u001b[38;5;34m0\u001b[0m… │\n",
              "│ (\u001b[38;5;33mBatchNormalization\u001b[0m)      │                        │                │                        │\n",
              "├───────────────────────────┼────────────────────────┼────────────────┼────────────────────────┤\n",
              "│ conv5_block3_1_relu       │ (\u001b[38;5;45mNone\u001b[0m, \u001b[38;5;34m8\u001b[0m, \u001b[38;5;34m8\u001b[0m, \u001b[38;5;34m512\u001b[0m)      │              \u001b[38;5;34m0\u001b[0m │ conv5_block3_1_bn[\u001b[38;5;34m0\u001b[0m][\u001b[38;5;34m…\u001b[0m │\n",
              "│ (\u001b[38;5;33mActivation\u001b[0m)              │                        │                │                        │\n",
              "├───────────────────────────┼────────────────────────┼────────────────┼────────────────────────┤\n",
              "│ conv5_block3_2_conv       │ (\u001b[38;5;45mNone\u001b[0m, \u001b[38;5;34m8\u001b[0m, \u001b[38;5;34m8\u001b[0m, \u001b[38;5;34m512\u001b[0m)      │      \u001b[38;5;34m2,359,808\u001b[0m │ conv5_block3_1_relu[\u001b[38;5;34m0\u001b[0m… │\n",
              "│ (\u001b[38;5;33mConv2D\u001b[0m)                  │                        │                │                        │\n",
              "├───────────────────────────┼────────────────────────┼────────────────┼────────────────────────┤\n",
              "│ conv5_block3_2_bn         │ (\u001b[38;5;45mNone\u001b[0m, \u001b[38;5;34m8\u001b[0m, \u001b[38;5;34m8\u001b[0m, \u001b[38;5;34m512\u001b[0m)      │          \u001b[38;5;34m2,048\u001b[0m │ conv5_block3_2_conv[\u001b[38;5;34m0\u001b[0m… │\n",
              "│ (\u001b[38;5;33mBatchNormalization\u001b[0m)      │                        │                │                        │\n",
              "├───────────────────────────┼────────────────────────┼────────────────┼────────────────────────┤\n",
              "│ conv5_block3_2_relu       │ (\u001b[38;5;45mNone\u001b[0m, \u001b[38;5;34m8\u001b[0m, \u001b[38;5;34m8\u001b[0m, \u001b[38;5;34m512\u001b[0m)      │              \u001b[38;5;34m0\u001b[0m │ conv5_block3_2_bn[\u001b[38;5;34m0\u001b[0m][\u001b[38;5;34m…\u001b[0m │\n",
              "│ (\u001b[38;5;33mActivation\u001b[0m)              │                        │                │                        │\n",
              "├───────────────────────────┼────────────────────────┼────────────────┼────────────────────────┤\n",
              "│ conv5_block3_3_conv       │ (\u001b[38;5;45mNone\u001b[0m, \u001b[38;5;34m8\u001b[0m, \u001b[38;5;34m8\u001b[0m, \u001b[38;5;34m2048\u001b[0m)     │      \u001b[38;5;34m1,050,624\u001b[0m │ conv5_block3_2_relu[\u001b[38;5;34m0\u001b[0m… │\n",
              "│ (\u001b[38;5;33mConv2D\u001b[0m)                  │                        │                │                        │\n",
              "├───────────────────────────┼────────────────────────┼────────────────┼────────────────────────┤\n",
              "│ conv5_block3_3_bn         │ (\u001b[38;5;45mNone\u001b[0m, \u001b[38;5;34m8\u001b[0m, \u001b[38;5;34m8\u001b[0m, \u001b[38;5;34m2048\u001b[0m)     │          \u001b[38;5;34m8,192\u001b[0m │ conv5_block3_3_conv[\u001b[38;5;34m0\u001b[0m… │\n",
              "│ (\u001b[38;5;33mBatchNormalization\u001b[0m)      │                        │                │                        │\n",
              "├───────────────────────────┼────────────────────────┼────────────────┼────────────────────────┤\n",
              "│ conv5_block3_add (\u001b[38;5;33mAdd\u001b[0m)    │ (\u001b[38;5;45mNone\u001b[0m, \u001b[38;5;34m8\u001b[0m, \u001b[38;5;34m8\u001b[0m, \u001b[38;5;34m2048\u001b[0m)     │              \u001b[38;5;34m0\u001b[0m │ conv5_block2_out[\u001b[38;5;34m0\u001b[0m][\u001b[38;5;34m0\u001b[0m… │\n",
              "│                           │                        │                │ conv5_block3_3_bn[\u001b[38;5;34m0\u001b[0m][\u001b[38;5;34m…\u001b[0m │\n",
              "├───────────────────────────┼────────────────────────┼────────────────┼────────────────────────┤\n",
              "│ conv5_block3_out          │ (\u001b[38;5;45mNone\u001b[0m, \u001b[38;5;34m8\u001b[0m, \u001b[38;5;34m8\u001b[0m, \u001b[38;5;34m2048\u001b[0m)     │              \u001b[38;5;34m0\u001b[0m │ conv5_block3_add[\u001b[38;5;34m0\u001b[0m][\u001b[38;5;34m0\u001b[0m] │\n",
              "│ (\u001b[38;5;33mActivation\u001b[0m)              │                        │                │                        │\n",
              "└───────────────────────────┴────────────────────────┴────────────────┴────────────────────────┘\n"
            ],
            "text/html": [
              "<pre style=\"white-space:pre;overflow-x:auto;line-height:normal;font-family:Menlo,'DejaVu Sans Mono',consolas,'Courier New',monospace\">┏━━━━━━━━━━━━━━━━━━━━━━━━━━━┳━━━━━━━━━━━━━━━━━━━━━━━━┳━━━━━━━━━━━━━━━━┳━━━━━━━━━━━━━━━━━━━━━━━━┓\n",
              "┃<span style=\"font-weight: bold\"> Layer (type)              </span>┃<span style=\"font-weight: bold\"> Output Shape           </span>┃<span style=\"font-weight: bold\">        Param # </span>┃<span style=\"font-weight: bold\"> Connected to           </span>┃\n",
              "┡━━━━━━━━━━━━━━━━━━━━━━━━━━━╇━━━━━━━━━━━━━━━━━━━━━━━━╇━━━━━━━━━━━━━━━━╇━━━━━━━━━━━━━━━━━━━━━━━━┩\n",
              "│ input_layer_2             │ (<span style=\"color: #00d7ff; text-decoration-color: #00d7ff\">None</span>, <span style=\"color: #00af00; text-decoration-color: #00af00\">256</span>, <span style=\"color: #00af00; text-decoration-color: #00af00\">256</span>, <span style=\"color: #00af00; text-decoration-color: #00af00\">3</span>)    │              <span style=\"color: #00af00; text-decoration-color: #00af00\">0</span> │ -                      │\n",
              "│ (<span style=\"color: #0087ff; text-decoration-color: #0087ff\">InputLayer</span>)              │                        │                │                        │\n",
              "├───────────────────────────┼────────────────────────┼────────────────┼────────────────────────┤\n",
              "│ conv1_pad (<span style=\"color: #0087ff; text-decoration-color: #0087ff\">ZeroPadding2D</span>) │ (<span style=\"color: #00d7ff; text-decoration-color: #00d7ff\">None</span>, <span style=\"color: #00af00; text-decoration-color: #00af00\">262</span>, <span style=\"color: #00af00; text-decoration-color: #00af00\">262</span>, <span style=\"color: #00af00; text-decoration-color: #00af00\">3</span>)    │              <span style=\"color: #00af00; text-decoration-color: #00af00\">0</span> │ input_layer_2[<span style=\"color: #00af00; text-decoration-color: #00af00\">0</span>][<span style=\"color: #00af00; text-decoration-color: #00af00\">0</span>]    │\n",
              "├───────────────────────────┼────────────────────────┼────────────────┼────────────────────────┤\n",
              "│ conv1_conv (<span style=\"color: #0087ff; text-decoration-color: #0087ff\">Conv2D</span>)       │ (<span style=\"color: #00d7ff; text-decoration-color: #00d7ff\">None</span>, <span style=\"color: #00af00; text-decoration-color: #00af00\">128</span>, <span style=\"color: #00af00; text-decoration-color: #00af00\">128</span>, <span style=\"color: #00af00; text-decoration-color: #00af00\">64</span>)   │          <span style=\"color: #00af00; text-decoration-color: #00af00\">9,472</span> │ conv1_pad[<span style=\"color: #00af00; text-decoration-color: #00af00\">0</span>][<span style=\"color: #00af00; text-decoration-color: #00af00\">0</span>]        │\n",
              "├───────────────────────────┼────────────────────────┼────────────────┼────────────────────────┤\n",
              "│ conv1_bn                  │ (<span style=\"color: #00d7ff; text-decoration-color: #00d7ff\">None</span>, <span style=\"color: #00af00; text-decoration-color: #00af00\">128</span>, <span style=\"color: #00af00; text-decoration-color: #00af00\">128</span>, <span style=\"color: #00af00; text-decoration-color: #00af00\">64</span>)   │            <span style=\"color: #00af00; text-decoration-color: #00af00\">256</span> │ conv1_conv[<span style=\"color: #00af00; text-decoration-color: #00af00\">0</span>][<span style=\"color: #00af00; text-decoration-color: #00af00\">0</span>]       │\n",
              "│ (<span style=\"color: #0087ff; text-decoration-color: #0087ff\">BatchNormalization</span>)      │                        │                │                        │\n",
              "├───────────────────────────┼────────────────────────┼────────────────┼────────────────────────┤\n",
              "│ conv1_relu (<span style=\"color: #0087ff; text-decoration-color: #0087ff\">Activation</span>)   │ (<span style=\"color: #00d7ff; text-decoration-color: #00d7ff\">None</span>, <span style=\"color: #00af00; text-decoration-color: #00af00\">128</span>, <span style=\"color: #00af00; text-decoration-color: #00af00\">128</span>, <span style=\"color: #00af00; text-decoration-color: #00af00\">64</span>)   │              <span style=\"color: #00af00; text-decoration-color: #00af00\">0</span> │ conv1_bn[<span style=\"color: #00af00; text-decoration-color: #00af00\">0</span>][<span style=\"color: #00af00; text-decoration-color: #00af00\">0</span>]         │\n",
              "├───────────────────────────┼────────────────────────┼────────────────┼────────────────────────┤\n",
              "│ pool1_pad (<span style=\"color: #0087ff; text-decoration-color: #0087ff\">ZeroPadding2D</span>) │ (<span style=\"color: #00d7ff; text-decoration-color: #00d7ff\">None</span>, <span style=\"color: #00af00; text-decoration-color: #00af00\">130</span>, <span style=\"color: #00af00; text-decoration-color: #00af00\">130</span>, <span style=\"color: #00af00; text-decoration-color: #00af00\">64</span>)   │              <span style=\"color: #00af00; text-decoration-color: #00af00\">0</span> │ conv1_relu[<span style=\"color: #00af00; text-decoration-color: #00af00\">0</span>][<span style=\"color: #00af00; text-decoration-color: #00af00\">0</span>]       │\n",
              "├───────────────────────────┼────────────────────────┼────────────────┼────────────────────────┤\n",
              "│ pool1_pool (<span style=\"color: #0087ff; text-decoration-color: #0087ff\">MaxPooling2D</span>) │ (<span style=\"color: #00d7ff; text-decoration-color: #00d7ff\">None</span>, <span style=\"color: #00af00; text-decoration-color: #00af00\">64</span>, <span style=\"color: #00af00; text-decoration-color: #00af00\">64</span>, <span style=\"color: #00af00; text-decoration-color: #00af00\">64</span>)     │              <span style=\"color: #00af00; text-decoration-color: #00af00\">0</span> │ pool1_pad[<span style=\"color: #00af00; text-decoration-color: #00af00\">0</span>][<span style=\"color: #00af00; text-decoration-color: #00af00\">0</span>]        │\n",
              "├───────────────────────────┼────────────────────────┼────────────────┼────────────────────────┤\n",
              "│ conv2_block1_1_conv       │ (<span style=\"color: #00d7ff; text-decoration-color: #00d7ff\">None</span>, <span style=\"color: #00af00; text-decoration-color: #00af00\">64</span>, <span style=\"color: #00af00; text-decoration-color: #00af00\">64</span>, <span style=\"color: #00af00; text-decoration-color: #00af00\">64</span>)     │          <span style=\"color: #00af00; text-decoration-color: #00af00\">4,160</span> │ pool1_pool[<span style=\"color: #00af00; text-decoration-color: #00af00\">0</span>][<span style=\"color: #00af00; text-decoration-color: #00af00\">0</span>]       │\n",
              "│ (<span style=\"color: #0087ff; text-decoration-color: #0087ff\">Conv2D</span>)                  │                        │                │                        │\n",
              "├───────────────────────────┼────────────────────────┼────────────────┼────────────────────────┤\n",
              "│ conv2_block1_1_bn         │ (<span style=\"color: #00d7ff; text-decoration-color: #00d7ff\">None</span>, <span style=\"color: #00af00; text-decoration-color: #00af00\">64</span>, <span style=\"color: #00af00; text-decoration-color: #00af00\">64</span>, <span style=\"color: #00af00; text-decoration-color: #00af00\">64</span>)     │            <span style=\"color: #00af00; text-decoration-color: #00af00\">256</span> │ conv2_block1_1_conv[<span style=\"color: #00af00; text-decoration-color: #00af00\">0</span>… │\n",
              "│ (<span style=\"color: #0087ff; text-decoration-color: #0087ff\">BatchNormalization</span>)      │                        │                │                        │\n",
              "├───────────────────────────┼────────────────────────┼────────────────┼────────────────────────┤\n",
              "│ conv2_block1_1_relu       │ (<span style=\"color: #00d7ff; text-decoration-color: #00d7ff\">None</span>, <span style=\"color: #00af00; text-decoration-color: #00af00\">64</span>, <span style=\"color: #00af00; text-decoration-color: #00af00\">64</span>, <span style=\"color: #00af00; text-decoration-color: #00af00\">64</span>)     │              <span style=\"color: #00af00; text-decoration-color: #00af00\">0</span> │ conv2_block1_1_bn[<span style=\"color: #00af00; text-decoration-color: #00af00\">0</span>][<span style=\"color: #00af00; text-decoration-color: #00af00\">…</span> │\n",
              "│ (<span style=\"color: #0087ff; text-decoration-color: #0087ff\">Activation</span>)              │                        │                │                        │\n",
              "├───────────────────────────┼────────────────────────┼────────────────┼────────────────────────┤\n",
              "│ conv2_block1_2_conv       │ (<span style=\"color: #00d7ff; text-decoration-color: #00d7ff\">None</span>, <span style=\"color: #00af00; text-decoration-color: #00af00\">64</span>, <span style=\"color: #00af00; text-decoration-color: #00af00\">64</span>, <span style=\"color: #00af00; text-decoration-color: #00af00\">64</span>)     │         <span style=\"color: #00af00; text-decoration-color: #00af00\">36,928</span> │ conv2_block1_1_relu[<span style=\"color: #00af00; text-decoration-color: #00af00\">0</span>… │\n",
              "│ (<span style=\"color: #0087ff; text-decoration-color: #0087ff\">Conv2D</span>)                  │                        │                │                        │\n",
              "├───────────────────────────┼────────────────────────┼────────────────┼────────────────────────┤\n",
              "│ conv2_block1_2_bn         │ (<span style=\"color: #00d7ff; text-decoration-color: #00d7ff\">None</span>, <span style=\"color: #00af00; text-decoration-color: #00af00\">64</span>, <span style=\"color: #00af00; text-decoration-color: #00af00\">64</span>, <span style=\"color: #00af00; text-decoration-color: #00af00\">64</span>)     │            <span style=\"color: #00af00; text-decoration-color: #00af00\">256</span> │ conv2_block1_2_conv[<span style=\"color: #00af00; text-decoration-color: #00af00\">0</span>… │\n",
              "│ (<span style=\"color: #0087ff; text-decoration-color: #0087ff\">BatchNormalization</span>)      │                        │                │                        │\n",
              "├───────────────────────────┼────────────────────────┼────────────────┼────────────────────────┤\n",
              "│ conv2_block1_2_relu       │ (<span style=\"color: #00d7ff; text-decoration-color: #00d7ff\">None</span>, <span style=\"color: #00af00; text-decoration-color: #00af00\">64</span>, <span style=\"color: #00af00; text-decoration-color: #00af00\">64</span>, <span style=\"color: #00af00; text-decoration-color: #00af00\">64</span>)     │              <span style=\"color: #00af00; text-decoration-color: #00af00\">0</span> │ conv2_block1_2_bn[<span style=\"color: #00af00; text-decoration-color: #00af00\">0</span>][<span style=\"color: #00af00; text-decoration-color: #00af00\">…</span> │\n",
              "│ (<span style=\"color: #0087ff; text-decoration-color: #0087ff\">Activation</span>)              │                        │                │                        │\n",
              "├───────────────────────────┼────────────────────────┼────────────────┼────────────────────────┤\n",
              "│ conv2_block1_0_conv       │ (<span style=\"color: #00d7ff; text-decoration-color: #00d7ff\">None</span>, <span style=\"color: #00af00; text-decoration-color: #00af00\">64</span>, <span style=\"color: #00af00; text-decoration-color: #00af00\">64</span>, <span style=\"color: #00af00; text-decoration-color: #00af00\">256</span>)    │         <span style=\"color: #00af00; text-decoration-color: #00af00\">16,640</span> │ pool1_pool[<span style=\"color: #00af00; text-decoration-color: #00af00\">0</span>][<span style=\"color: #00af00; text-decoration-color: #00af00\">0</span>]       │\n",
              "│ (<span style=\"color: #0087ff; text-decoration-color: #0087ff\">Conv2D</span>)                  │                        │                │                        │\n",
              "├───────────────────────────┼────────────────────────┼────────────────┼────────────────────────┤\n",
              "│ conv2_block1_3_conv       │ (<span style=\"color: #00d7ff; text-decoration-color: #00d7ff\">None</span>, <span style=\"color: #00af00; text-decoration-color: #00af00\">64</span>, <span style=\"color: #00af00; text-decoration-color: #00af00\">64</span>, <span style=\"color: #00af00; text-decoration-color: #00af00\">256</span>)    │         <span style=\"color: #00af00; text-decoration-color: #00af00\">16,640</span> │ conv2_block1_2_relu[<span style=\"color: #00af00; text-decoration-color: #00af00\">0</span>… │\n",
              "│ (<span style=\"color: #0087ff; text-decoration-color: #0087ff\">Conv2D</span>)                  │                        │                │                        │\n",
              "├───────────────────────────┼────────────────────────┼────────────────┼────────────────────────┤\n",
              "│ conv2_block1_0_bn         │ (<span style=\"color: #00d7ff; text-decoration-color: #00d7ff\">None</span>, <span style=\"color: #00af00; text-decoration-color: #00af00\">64</span>, <span style=\"color: #00af00; text-decoration-color: #00af00\">64</span>, <span style=\"color: #00af00; text-decoration-color: #00af00\">256</span>)    │          <span style=\"color: #00af00; text-decoration-color: #00af00\">1,024</span> │ conv2_block1_0_conv[<span style=\"color: #00af00; text-decoration-color: #00af00\">0</span>… │\n",
              "│ (<span style=\"color: #0087ff; text-decoration-color: #0087ff\">BatchNormalization</span>)      │                        │                │                        │\n",
              "├───────────────────────────┼────────────────────────┼────────────────┼────────────────────────┤\n",
              "│ conv2_block1_3_bn         │ (<span style=\"color: #00d7ff; text-decoration-color: #00d7ff\">None</span>, <span style=\"color: #00af00; text-decoration-color: #00af00\">64</span>, <span style=\"color: #00af00; text-decoration-color: #00af00\">64</span>, <span style=\"color: #00af00; text-decoration-color: #00af00\">256</span>)    │          <span style=\"color: #00af00; text-decoration-color: #00af00\">1,024</span> │ conv2_block1_3_conv[<span style=\"color: #00af00; text-decoration-color: #00af00\">0</span>… │\n",
              "│ (<span style=\"color: #0087ff; text-decoration-color: #0087ff\">BatchNormalization</span>)      │                        │                │                        │\n",
              "├───────────────────────────┼────────────────────────┼────────────────┼────────────────────────┤\n",
              "│ conv2_block1_add (<span style=\"color: #0087ff; text-decoration-color: #0087ff\">Add</span>)    │ (<span style=\"color: #00d7ff; text-decoration-color: #00d7ff\">None</span>, <span style=\"color: #00af00; text-decoration-color: #00af00\">64</span>, <span style=\"color: #00af00; text-decoration-color: #00af00\">64</span>, <span style=\"color: #00af00; text-decoration-color: #00af00\">256</span>)    │              <span style=\"color: #00af00; text-decoration-color: #00af00\">0</span> │ conv2_block1_0_bn[<span style=\"color: #00af00; text-decoration-color: #00af00\">0</span>][<span style=\"color: #00af00; text-decoration-color: #00af00\">…</span> │\n",
              "│                           │                        │                │ conv2_block1_3_bn[<span style=\"color: #00af00; text-decoration-color: #00af00\">0</span>][<span style=\"color: #00af00; text-decoration-color: #00af00\">…</span> │\n",
              "├───────────────────────────┼────────────────────────┼────────────────┼────────────────────────┤\n",
              "│ conv2_block1_out          │ (<span style=\"color: #00d7ff; text-decoration-color: #00d7ff\">None</span>, <span style=\"color: #00af00; text-decoration-color: #00af00\">64</span>, <span style=\"color: #00af00; text-decoration-color: #00af00\">64</span>, <span style=\"color: #00af00; text-decoration-color: #00af00\">256</span>)    │              <span style=\"color: #00af00; text-decoration-color: #00af00\">0</span> │ conv2_block1_add[<span style=\"color: #00af00; text-decoration-color: #00af00\">0</span>][<span style=\"color: #00af00; text-decoration-color: #00af00\">0</span>] │\n",
              "│ (<span style=\"color: #0087ff; text-decoration-color: #0087ff\">Activation</span>)              │                        │                │                        │\n",
              "├───────────────────────────┼────────────────────────┼────────────────┼────────────────────────┤\n",
              "│ conv2_block2_1_conv       │ (<span style=\"color: #00d7ff; text-decoration-color: #00d7ff\">None</span>, <span style=\"color: #00af00; text-decoration-color: #00af00\">64</span>, <span style=\"color: #00af00; text-decoration-color: #00af00\">64</span>, <span style=\"color: #00af00; text-decoration-color: #00af00\">64</span>)     │         <span style=\"color: #00af00; text-decoration-color: #00af00\">16,448</span> │ conv2_block1_out[<span style=\"color: #00af00; text-decoration-color: #00af00\">0</span>][<span style=\"color: #00af00; text-decoration-color: #00af00\">0</span>] │\n",
              "│ (<span style=\"color: #0087ff; text-decoration-color: #0087ff\">Conv2D</span>)                  │                        │                │                        │\n",
              "├───────────────────────────┼────────────────────────┼────────────────┼────────────────────────┤\n",
              "│ conv2_block2_1_bn         │ (<span style=\"color: #00d7ff; text-decoration-color: #00d7ff\">None</span>, <span style=\"color: #00af00; text-decoration-color: #00af00\">64</span>, <span style=\"color: #00af00; text-decoration-color: #00af00\">64</span>, <span style=\"color: #00af00; text-decoration-color: #00af00\">64</span>)     │            <span style=\"color: #00af00; text-decoration-color: #00af00\">256</span> │ conv2_block2_1_conv[<span style=\"color: #00af00; text-decoration-color: #00af00\">0</span>… │\n",
              "│ (<span style=\"color: #0087ff; text-decoration-color: #0087ff\">BatchNormalization</span>)      │                        │                │                        │\n",
              "├───────────────────────────┼────────────────────────┼────────────────┼────────────────────────┤\n",
              "│ conv2_block2_1_relu       │ (<span style=\"color: #00d7ff; text-decoration-color: #00d7ff\">None</span>, <span style=\"color: #00af00; text-decoration-color: #00af00\">64</span>, <span style=\"color: #00af00; text-decoration-color: #00af00\">64</span>, <span style=\"color: #00af00; text-decoration-color: #00af00\">64</span>)     │              <span style=\"color: #00af00; text-decoration-color: #00af00\">0</span> │ conv2_block2_1_bn[<span style=\"color: #00af00; text-decoration-color: #00af00\">0</span>][<span style=\"color: #00af00; text-decoration-color: #00af00\">…</span> │\n",
              "│ (<span style=\"color: #0087ff; text-decoration-color: #0087ff\">Activation</span>)              │                        │                │                        │\n",
              "├───────────────────────────┼────────────────────────┼────────────────┼────────────────────────┤\n",
              "│ conv2_block2_2_conv       │ (<span style=\"color: #00d7ff; text-decoration-color: #00d7ff\">None</span>, <span style=\"color: #00af00; text-decoration-color: #00af00\">64</span>, <span style=\"color: #00af00; text-decoration-color: #00af00\">64</span>, <span style=\"color: #00af00; text-decoration-color: #00af00\">64</span>)     │         <span style=\"color: #00af00; text-decoration-color: #00af00\">36,928</span> │ conv2_block2_1_relu[<span style=\"color: #00af00; text-decoration-color: #00af00\">0</span>… │\n",
              "│ (<span style=\"color: #0087ff; text-decoration-color: #0087ff\">Conv2D</span>)                  │                        │                │                        │\n",
              "├───────────────────────────┼────────────────────────┼────────────────┼────────────────────────┤\n",
              "│ conv2_block2_2_bn         │ (<span style=\"color: #00d7ff; text-decoration-color: #00d7ff\">None</span>, <span style=\"color: #00af00; text-decoration-color: #00af00\">64</span>, <span style=\"color: #00af00; text-decoration-color: #00af00\">64</span>, <span style=\"color: #00af00; text-decoration-color: #00af00\">64</span>)     │            <span style=\"color: #00af00; text-decoration-color: #00af00\">256</span> │ conv2_block2_2_conv[<span style=\"color: #00af00; text-decoration-color: #00af00\">0</span>… │\n",
              "│ (<span style=\"color: #0087ff; text-decoration-color: #0087ff\">BatchNormalization</span>)      │                        │                │                        │\n",
              "├───────────────────────────┼────────────────────────┼────────────────┼────────────────────────┤\n",
              "│ conv2_block2_2_relu       │ (<span style=\"color: #00d7ff; text-decoration-color: #00d7ff\">None</span>, <span style=\"color: #00af00; text-decoration-color: #00af00\">64</span>, <span style=\"color: #00af00; text-decoration-color: #00af00\">64</span>, <span style=\"color: #00af00; text-decoration-color: #00af00\">64</span>)     │              <span style=\"color: #00af00; text-decoration-color: #00af00\">0</span> │ conv2_block2_2_bn[<span style=\"color: #00af00; text-decoration-color: #00af00\">0</span>][<span style=\"color: #00af00; text-decoration-color: #00af00\">…</span> │\n",
              "│ (<span style=\"color: #0087ff; text-decoration-color: #0087ff\">Activation</span>)              │                        │                │                        │\n",
              "├───────────────────────────┼────────────────────────┼────────────────┼────────────────────────┤\n",
              "│ conv2_block2_3_conv       │ (<span style=\"color: #00d7ff; text-decoration-color: #00d7ff\">None</span>, <span style=\"color: #00af00; text-decoration-color: #00af00\">64</span>, <span style=\"color: #00af00; text-decoration-color: #00af00\">64</span>, <span style=\"color: #00af00; text-decoration-color: #00af00\">256</span>)    │         <span style=\"color: #00af00; text-decoration-color: #00af00\">16,640</span> │ conv2_block2_2_relu[<span style=\"color: #00af00; text-decoration-color: #00af00\">0</span>… │\n",
              "│ (<span style=\"color: #0087ff; text-decoration-color: #0087ff\">Conv2D</span>)                  │                        │                │                        │\n",
              "├───────────────────────────┼────────────────────────┼────────────────┼────────────────────────┤\n",
              "│ conv2_block2_3_bn         │ (<span style=\"color: #00d7ff; text-decoration-color: #00d7ff\">None</span>, <span style=\"color: #00af00; text-decoration-color: #00af00\">64</span>, <span style=\"color: #00af00; text-decoration-color: #00af00\">64</span>, <span style=\"color: #00af00; text-decoration-color: #00af00\">256</span>)    │          <span style=\"color: #00af00; text-decoration-color: #00af00\">1,024</span> │ conv2_block2_3_conv[<span style=\"color: #00af00; text-decoration-color: #00af00\">0</span>… │\n",
              "│ (<span style=\"color: #0087ff; text-decoration-color: #0087ff\">BatchNormalization</span>)      │                        │                │                        │\n",
              "├───────────────────────────┼────────────────────────┼────────────────┼────────────────────────┤\n",
              "│ conv2_block2_add (<span style=\"color: #0087ff; text-decoration-color: #0087ff\">Add</span>)    │ (<span style=\"color: #00d7ff; text-decoration-color: #00d7ff\">None</span>, <span style=\"color: #00af00; text-decoration-color: #00af00\">64</span>, <span style=\"color: #00af00; text-decoration-color: #00af00\">64</span>, <span style=\"color: #00af00; text-decoration-color: #00af00\">256</span>)    │              <span style=\"color: #00af00; text-decoration-color: #00af00\">0</span> │ conv2_block1_out[<span style=\"color: #00af00; text-decoration-color: #00af00\">0</span>][<span style=\"color: #00af00; text-decoration-color: #00af00\">0</span>… │\n",
              "│                           │                        │                │ conv2_block2_3_bn[<span style=\"color: #00af00; text-decoration-color: #00af00\">0</span>][<span style=\"color: #00af00; text-decoration-color: #00af00\">…</span> │\n",
              "├───────────────────────────┼────────────────────────┼────────────────┼────────────────────────┤\n",
              "│ conv2_block2_out          │ (<span style=\"color: #00d7ff; text-decoration-color: #00d7ff\">None</span>, <span style=\"color: #00af00; text-decoration-color: #00af00\">64</span>, <span style=\"color: #00af00; text-decoration-color: #00af00\">64</span>, <span style=\"color: #00af00; text-decoration-color: #00af00\">256</span>)    │              <span style=\"color: #00af00; text-decoration-color: #00af00\">0</span> │ conv2_block2_add[<span style=\"color: #00af00; text-decoration-color: #00af00\">0</span>][<span style=\"color: #00af00; text-decoration-color: #00af00\">0</span>] │\n",
              "│ (<span style=\"color: #0087ff; text-decoration-color: #0087ff\">Activation</span>)              │                        │                │                        │\n",
              "├───────────────────────────┼────────────────────────┼────────────────┼────────────────────────┤\n",
              "│ conv2_block3_1_conv       │ (<span style=\"color: #00d7ff; text-decoration-color: #00d7ff\">None</span>, <span style=\"color: #00af00; text-decoration-color: #00af00\">64</span>, <span style=\"color: #00af00; text-decoration-color: #00af00\">64</span>, <span style=\"color: #00af00; text-decoration-color: #00af00\">64</span>)     │         <span style=\"color: #00af00; text-decoration-color: #00af00\">16,448</span> │ conv2_block2_out[<span style=\"color: #00af00; text-decoration-color: #00af00\">0</span>][<span style=\"color: #00af00; text-decoration-color: #00af00\">0</span>] │\n",
              "│ (<span style=\"color: #0087ff; text-decoration-color: #0087ff\">Conv2D</span>)                  │                        │                │                        │\n",
              "├───────────────────────────┼────────────────────────┼────────────────┼────────────────────────┤\n",
              "│ conv2_block3_1_bn         │ (<span style=\"color: #00d7ff; text-decoration-color: #00d7ff\">None</span>, <span style=\"color: #00af00; text-decoration-color: #00af00\">64</span>, <span style=\"color: #00af00; text-decoration-color: #00af00\">64</span>, <span style=\"color: #00af00; text-decoration-color: #00af00\">64</span>)     │            <span style=\"color: #00af00; text-decoration-color: #00af00\">256</span> │ conv2_block3_1_conv[<span style=\"color: #00af00; text-decoration-color: #00af00\">0</span>… │\n",
              "│ (<span style=\"color: #0087ff; text-decoration-color: #0087ff\">BatchNormalization</span>)      │                        │                │                        │\n",
              "├───────────────────────────┼────────────────────────┼────────────────┼────────────────────────┤\n",
              "│ conv2_block3_1_relu       │ (<span style=\"color: #00d7ff; text-decoration-color: #00d7ff\">None</span>, <span style=\"color: #00af00; text-decoration-color: #00af00\">64</span>, <span style=\"color: #00af00; text-decoration-color: #00af00\">64</span>, <span style=\"color: #00af00; text-decoration-color: #00af00\">64</span>)     │              <span style=\"color: #00af00; text-decoration-color: #00af00\">0</span> │ conv2_block3_1_bn[<span style=\"color: #00af00; text-decoration-color: #00af00\">0</span>][<span style=\"color: #00af00; text-decoration-color: #00af00\">…</span> │\n",
              "│ (<span style=\"color: #0087ff; text-decoration-color: #0087ff\">Activation</span>)              │                        │                │                        │\n",
              "├───────────────────────────┼────────────────────────┼────────────────┼────────────────────────┤\n",
              "│ conv2_block3_2_conv       │ (<span style=\"color: #00d7ff; text-decoration-color: #00d7ff\">None</span>, <span style=\"color: #00af00; text-decoration-color: #00af00\">64</span>, <span style=\"color: #00af00; text-decoration-color: #00af00\">64</span>, <span style=\"color: #00af00; text-decoration-color: #00af00\">64</span>)     │         <span style=\"color: #00af00; text-decoration-color: #00af00\">36,928</span> │ conv2_block3_1_relu[<span style=\"color: #00af00; text-decoration-color: #00af00\">0</span>… │\n",
              "│ (<span style=\"color: #0087ff; text-decoration-color: #0087ff\">Conv2D</span>)                  │                        │                │                        │\n",
              "├───────────────────────────┼────────────────────────┼────────────────┼────────────────────────┤\n",
              "│ conv2_block3_2_bn         │ (<span style=\"color: #00d7ff; text-decoration-color: #00d7ff\">None</span>, <span style=\"color: #00af00; text-decoration-color: #00af00\">64</span>, <span style=\"color: #00af00; text-decoration-color: #00af00\">64</span>, <span style=\"color: #00af00; text-decoration-color: #00af00\">64</span>)     │            <span style=\"color: #00af00; text-decoration-color: #00af00\">256</span> │ conv2_block3_2_conv[<span style=\"color: #00af00; text-decoration-color: #00af00\">0</span>… │\n",
              "│ (<span style=\"color: #0087ff; text-decoration-color: #0087ff\">BatchNormalization</span>)      │                        │                │                        │\n",
              "├───────────────────────────┼────────────────────────┼────────────────┼────────────────────────┤\n",
              "│ conv2_block3_2_relu       │ (<span style=\"color: #00d7ff; text-decoration-color: #00d7ff\">None</span>, <span style=\"color: #00af00; text-decoration-color: #00af00\">64</span>, <span style=\"color: #00af00; text-decoration-color: #00af00\">64</span>, <span style=\"color: #00af00; text-decoration-color: #00af00\">64</span>)     │              <span style=\"color: #00af00; text-decoration-color: #00af00\">0</span> │ conv2_block3_2_bn[<span style=\"color: #00af00; text-decoration-color: #00af00\">0</span>][<span style=\"color: #00af00; text-decoration-color: #00af00\">…</span> │\n",
              "│ (<span style=\"color: #0087ff; text-decoration-color: #0087ff\">Activation</span>)              │                        │                │                        │\n",
              "├───────────────────────────┼────────────────────────┼────────────────┼────────────────────────┤\n",
              "│ conv2_block3_3_conv       │ (<span style=\"color: #00d7ff; text-decoration-color: #00d7ff\">None</span>, <span style=\"color: #00af00; text-decoration-color: #00af00\">64</span>, <span style=\"color: #00af00; text-decoration-color: #00af00\">64</span>, <span style=\"color: #00af00; text-decoration-color: #00af00\">256</span>)    │         <span style=\"color: #00af00; text-decoration-color: #00af00\">16,640</span> │ conv2_block3_2_relu[<span style=\"color: #00af00; text-decoration-color: #00af00\">0</span>… │\n",
              "│ (<span style=\"color: #0087ff; text-decoration-color: #0087ff\">Conv2D</span>)                  │                        │                │                        │\n",
              "├───────────────────────────┼────────────────────────┼────────────────┼────────────────────────┤\n",
              "│ conv2_block3_3_bn         │ (<span style=\"color: #00d7ff; text-decoration-color: #00d7ff\">None</span>, <span style=\"color: #00af00; text-decoration-color: #00af00\">64</span>, <span style=\"color: #00af00; text-decoration-color: #00af00\">64</span>, <span style=\"color: #00af00; text-decoration-color: #00af00\">256</span>)    │          <span style=\"color: #00af00; text-decoration-color: #00af00\">1,024</span> │ conv2_block3_3_conv[<span style=\"color: #00af00; text-decoration-color: #00af00\">0</span>… │\n",
              "│ (<span style=\"color: #0087ff; text-decoration-color: #0087ff\">BatchNormalization</span>)      │                        │                │                        │\n",
              "├───────────────────────────┼────────────────────────┼────────────────┼────────────────────────┤\n",
              "│ conv2_block3_add (<span style=\"color: #0087ff; text-decoration-color: #0087ff\">Add</span>)    │ (<span style=\"color: #00d7ff; text-decoration-color: #00d7ff\">None</span>, <span style=\"color: #00af00; text-decoration-color: #00af00\">64</span>, <span style=\"color: #00af00; text-decoration-color: #00af00\">64</span>, <span style=\"color: #00af00; text-decoration-color: #00af00\">256</span>)    │              <span style=\"color: #00af00; text-decoration-color: #00af00\">0</span> │ conv2_block2_out[<span style=\"color: #00af00; text-decoration-color: #00af00\">0</span>][<span style=\"color: #00af00; text-decoration-color: #00af00\">0</span>… │\n",
              "│                           │                        │                │ conv2_block3_3_bn[<span style=\"color: #00af00; text-decoration-color: #00af00\">0</span>][<span style=\"color: #00af00; text-decoration-color: #00af00\">…</span> │\n",
              "├───────────────────────────┼────────────────────────┼────────────────┼────────────────────────┤\n",
              "│ conv2_block3_out          │ (<span style=\"color: #00d7ff; text-decoration-color: #00d7ff\">None</span>, <span style=\"color: #00af00; text-decoration-color: #00af00\">64</span>, <span style=\"color: #00af00; text-decoration-color: #00af00\">64</span>, <span style=\"color: #00af00; text-decoration-color: #00af00\">256</span>)    │              <span style=\"color: #00af00; text-decoration-color: #00af00\">0</span> │ conv2_block3_add[<span style=\"color: #00af00; text-decoration-color: #00af00\">0</span>][<span style=\"color: #00af00; text-decoration-color: #00af00\">0</span>] │\n",
              "│ (<span style=\"color: #0087ff; text-decoration-color: #0087ff\">Activation</span>)              │                        │                │                        │\n",
              "├───────────────────────────┼────────────────────────┼────────────────┼────────────────────────┤\n",
              "│ conv3_block1_1_conv       │ (<span style=\"color: #00d7ff; text-decoration-color: #00d7ff\">None</span>, <span style=\"color: #00af00; text-decoration-color: #00af00\">32</span>, <span style=\"color: #00af00; text-decoration-color: #00af00\">32</span>, <span style=\"color: #00af00; text-decoration-color: #00af00\">128</span>)    │         <span style=\"color: #00af00; text-decoration-color: #00af00\">32,896</span> │ conv2_block3_out[<span style=\"color: #00af00; text-decoration-color: #00af00\">0</span>][<span style=\"color: #00af00; text-decoration-color: #00af00\">0</span>] │\n",
              "│ (<span style=\"color: #0087ff; text-decoration-color: #0087ff\">Conv2D</span>)                  │                        │                │                        │\n",
              "├───────────────────────────┼────────────────────────┼────────────────┼────────────────────────┤\n",
              "│ conv3_block1_1_bn         │ (<span style=\"color: #00d7ff; text-decoration-color: #00d7ff\">None</span>, <span style=\"color: #00af00; text-decoration-color: #00af00\">32</span>, <span style=\"color: #00af00; text-decoration-color: #00af00\">32</span>, <span style=\"color: #00af00; text-decoration-color: #00af00\">128</span>)    │            <span style=\"color: #00af00; text-decoration-color: #00af00\">512</span> │ conv3_block1_1_conv[<span style=\"color: #00af00; text-decoration-color: #00af00\">0</span>… │\n",
              "│ (<span style=\"color: #0087ff; text-decoration-color: #0087ff\">BatchNormalization</span>)      │                        │                │                        │\n",
              "├───────────────────────────┼────────────────────────┼────────────────┼────────────────────────┤\n",
              "│ conv3_block1_1_relu       │ (<span style=\"color: #00d7ff; text-decoration-color: #00d7ff\">None</span>, <span style=\"color: #00af00; text-decoration-color: #00af00\">32</span>, <span style=\"color: #00af00; text-decoration-color: #00af00\">32</span>, <span style=\"color: #00af00; text-decoration-color: #00af00\">128</span>)    │              <span style=\"color: #00af00; text-decoration-color: #00af00\">0</span> │ conv3_block1_1_bn[<span style=\"color: #00af00; text-decoration-color: #00af00\">0</span>][<span style=\"color: #00af00; text-decoration-color: #00af00\">…</span> │\n",
              "│ (<span style=\"color: #0087ff; text-decoration-color: #0087ff\">Activation</span>)              │                        │                │                        │\n",
              "├───────────────────────────┼────────────────────────┼────────────────┼────────────────────────┤\n",
              "│ conv3_block1_2_conv       │ (<span style=\"color: #00d7ff; text-decoration-color: #00d7ff\">None</span>, <span style=\"color: #00af00; text-decoration-color: #00af00\">32</span>, <span style=\"color: #00af00; text-decoration-color: #00af00\">32</span>, <span style=\"color: #00af00; text-decoration-color: #00af00\">128</span>)    │        <span style=\"color: #00af00; text-decoration-color: #00af00\">147,584</span> │ conv3_block1_1_relu[<span style=\"color: #00af00; text-decoration-color: #00af00\">0</span>… │\n",
              "│ (<span style=\"color: #0087ff; text-decoration-color: #0087ff\">Conv2D</span>)                  │                        │                │                        │\n",
              "├───────────────────────────┼────────────────────────┼────────────────┼────────────────────────┤\n",
              "│ conv3_block1_2_bn         │ (<span style=\"color: #00d7ff; text-decoration-color: #00d7ff\">None</span>, <span style=\"color: #00af00; text-decoration-color: #00af00\">32</span>, <span style=\"color: #00af00; text-decoration-color: #00af00\">32</span>, <span style=\"color: #00af00; text-decoration-color: #00af00\">128</span>)    │            <span style=\"color: #00af00; text-decoration-color: #00af00\">512</span> │ conv3_block1_2_conv[<span style=\"color: #00af00; text-decoration-color: #00af00\">0</span>… │\n",
              "│ (<span style=\"color: #0087ff; text-decoration-color: #0087ff\">BatchNormalization</span>)      │                        │                │                        │\n",
              "├───────────────────────────┼────────────────────────┼────────────────┼────────────────────────┤\n",
              "│ conv3_block1_2_relu       │ (<span style=\"color: #00d7ff; text-decoration-color: #00d7ff\">None</span>, <span style=\"color: #00af00; text-decoration-color: #00af00\">32</span>, <span style=\"color: #00af00; text-decoration-color: #00af00\">32</span>, <span style=\"color: #00af00; text-decoration-color: #00af00\">128</span>)    │              <span style=\"color: #00af00; text-decoration-color: #00af00\">0</span> │ conv3_block1_2_bn[<span style=\"color: #00af00; text-decoration-color: #00af00\">0</span>][<span style=\"color: #00af00; text-decoration-color: #00af00\">…</span> │\n",
              "│ (<span style=\"color: #0087ff; text-decoration-color: #0087ff\">Activation</span>)              │                        │                │                        │\n",
              "├───────────────────────────┼────────────────────────┼────────────────┼────────────────────────┤\n",
              "│ conv3_block1_0_conv       │ (<span style=\"color: #00d7ff; text-decoration-color: #00d7ff\">None</span>, <span style=\"color: #00af00; text-decoration-color: #00af00\">32</span>, <span style=\"color: #00af00; text-decoration-color: #00af00\">32</span>, <span style=\"color: #00af00; text-decoration-color: #00af00\">512</span>)    │        <span style=\"color: #00af00; text-decoration-color: #00af00\">131,584</span> │ conv2_block3_out[<span style=\"color: #00af00; text-decoration-color: #00af00\">0</span>][<span style=\"color: #00af00; text-decoration-color: #00af00\">0</span>] │\n",
              "│ (<span style=\"color: #0087ff; text-decoration-color: #0087ff\">Conv2D</span>)                  │                        │                │                        │\n",
              "├───────────────────────────┼────────────────────────┼────────────────┼────────────────────────┤\n",
              "│ conv3_block1_3_conv       │ (<span style=\"color: #00d7ff; text-decoration-color: #00d7ff\">None</span>, <span style=\"color: #00af00; text-decoration-color: #00af00\">32</span>, <span style=\"color: #00af00; text-decoration-color: #00af00\">32</span>, <span style=\"color: #00af00; text-decoration-color: #00af00\">512</span>)    │         <span style=\"color: #00af00; text-decoration-color: #00af00\">66,048</span> │ conv3_block1_2_relu[<span style=\"color: #00af00; text-decoration-color: #00af00\">0</span>… │\n",
              "│ (<span style=\"color: #0087ff; text-decoration-color: #0087ff\">Conv2D</span>)                  │                        │                │                        │\n",
              "├───────────────────────────┼────────────────────────┼────────────────┼────────────────────────┤\n",
              "│ conv3_block1_0_bn         │ (<span style=\"color: #00d7ff; text-decoration-color: #00d7ff\">None</span>, <span style=\"color: #00af00; text-decoration-color: #00af00\">32</span>, <span style=\"color: #00af00; text-decoration-color: #00af00\">32</span>, <span style=\"color: #00af00; text-decoration-color: #00af00\">512</span>)    │          <span style=\"color: #00af00; text-decoration-color: #00af00\">2,048</span> │ conv3_block1_0_conv[<span style=\"color: #00af00; text-decoration-color: #00af00\">0</span>… │\n",
              "│ (<span style=\"color: #0087ff; text-decoration-color: #0087ff\">BatchNormalization</span>)      │                        │                │                        │\n",
              "├───────────────────────────┼────────────────────────┼────────────────┼────────────────────────┤\n",
              "│ conv3_block1_3_bn         │ (<span style=\"color: #00d7ff; text-decoration-color: #00d7ff\">None</span>, <span style=\"color: #00af00; text-decoration-color: #00af00\">32</span>, <span style=\"color: #00af00; text-decoration-color: #00af00\">32</span>, <span style=\"color: #00af00; text-decoration-color: #00af00\">512</span>)    │          <span style=\"color: #00af00; text-decoration-color: #00af00\">2,048</span> │ conv3_block1_3_conv[<span style=\"color: #00af00; text-decoration-color: #00af00\">0</span>… │\n",
              "│ (<span style=\"color: #0087ff; text-decoration-color: #0087ff\">BatchNormalization</span>)      │                        │                │                        │\n",
              "├───────────────────────────┼────────────────────────┼────────────────┼────────────────────────┤\n",
              "│ conv3_block1_add (<span style=\"color: #0087ff; text-decoration-color: #0087ff\">Add</span>)    │ (<span style=\"color: #00d7ff; text-decoration-color: #00d7ff\">None</span>, <span style=\"color: #00af00; text-decoration-color: #00af00\">32</span>, <span style=\"color: #00af00; text-decoration-color: #00af00\">32</span>, <span style=\"color: #00af00; text-decoration-color: #00af00\">512</span>)    │              <span style=\"color: #00af00; text-decoration-color: #00af00\">0</span> │ conv3_block1_0_bn[<span style=\"color: #00af00; text-decoration-color: #00af00\">0</span>][<span style=\"color: #00af00; text-decoration-color: #00af00\">…</span> │\n",
              "│                           │                        │                │ conv3_block1_3_bn[<span style=\"color: #00af00; text-decoration-color: #00af00\">0</span>][<span style=\"color: #00af00; text-decoration-color: #00af00\">…</span> │\n",
              "├───────────────────────────┼────────────────────────┼────────────────┼────────────────────────┤\n",
              "│ conv3_block1_out          │ (<span style=\"color: #00d7ff; text-decoration-color: #00d7ff\">None</span>, <span style=\"color: #00af00; text-decoration-color: #00af00\">32</span>, <span style=\"color: #00af00; text-decoration-color: #00af00\">32</span>, <span style=\"color: #00af00; text-decoration-color: #00af00\">512</span>)    │              <span style=\"color: #00af00; text-decoration-color: #00af00\">0</span> │ conv3_block1_add[<span style=\"color: #00af00; text-decoration-color: #00af00\">0</span>][<span style=\"color: #00af00; text-decoration-color: #00af00\">0</span>] │\n",
              "│ (<span style=\"color: #0087ff; text-decoration-color: #0087ff\">Activation</span>)              │                        │                │                        │\n",
              "├───────────────────────────┼────────────────────────┼────────────────┼────────────────────────┤\n",
              "│ conv3_block2_1_conv       │ (<span style=\"color: #00d7ff; text-decoration-color: #00d7ff\">None</span>, <span style=\"color: #00af00; text-decoration-color: #00af00\">32</span>, <span style=\"color: #00af00; text-decoration-color: #00af00\">32</span>, <span style=\"color: #00af00; text-decoration-color: #00af00\">128</span>)    │         <span style=\"color: #00af00; text-decoration-color: #00af00\">65,664</span> │ conv3_block1_out[<span style=\"color: #00af00; text-decoration-color: #00af00\">0</span>][<span style=\"color: #00af00; text-decoration-color: #00af00\">0</span>] │\n",
              "│ (<span style=\"color: #0087ff; text-decoration-color: #0087ff\">Conv2D</span>)                  │                        │                │                        │\n",
              "├───────────────────────────┼────────────────────────┼────────────────┼────────────────────────┤\n",
              "│ conv3_block2_1_bn         │ (<span style=\"color: #00d7ff; text-decoration-color: #00d7ff\">None</span>, <span style=\"color: #00af00; text-decoration-color: #00af00\">32</span>, <span style=\"color: #00af00; text-decoration-color: #00af00\">32</span>, <span style=\"color: #00af00; text-decoration-color: #00af00\">128</span>)    │            <span style=\"color: #00af00; text-decoration-color: #00af00\">512</span> │ conv3_block2_1_conv[<span style=\"color: #00af00; text-decoration-color: #00af00\">0</span>… │\n",
              "│ (<span style=\"color: #0087ff; text-decoration-color: #0087ff\">BatchNormalization</span>)      │                        │                │                        │\n",
              "├───────────────────────────┼────────────────────────┼────────────────┼────────────────────────┤\n",
              "│ conv3_block2_1_relu       │ (<span style=\"color: #00d7ff; text-decoration-color: #00d7ff\">None</span>, <span style=\"color: #00af00; text-decoration-color: #00af00\">32</span>, <span style=\"color: #00af00; text-decoration-color: #00af00\">32</span>, <span style=\"color: #00af00; text-decoration-color: #00af00\">128</span>)    │              <span style=\"color: #00af00; text-decoration-color: #00af00\">0</span> │ conv3_block2_1_bn[<span style=\"color: #00af00; text-decoration-color: #00af00\">0</span>][<span style=\"color: #00af00; text-decoration-color: #00af00\">…</span> │\n",
              "│ (<span style=\"color: #0087ff; text-decoration-color: #0087ff\">Activation</span>)              │                        │                │                        │\n",
              "├───────────────────────────┼────────────────────────┼────────────────┼────────────────────────┤\n",
              "│ conv3_block2_2_conv       │ (<span style=\"color: #00d7ff; text-decoration-color: #00d7ff\">None</span>, <span style=\"color: #00af00; text-decoration-color: #00af00\">32</span>, <span style=\"color: #00af00; text-decoration-color: #00af00\">32</span>, <span style=\"color: #00af00; text-decoration-color: #00af00\">128</span>)    │        <span style=\"color: #00af00; text-decoration-color: #00af00\">147,584</span> │ conv3_block2_1_relu[<span style=\"color: #00af00; text-decoration-color: #00af00\">0</span>… │\n",
              "│ (<span style=\"color: #0087ff; text-decoration-color: #0087ff\">Conv2D</span>)                  │                        │                │                        │\n",
              "├───────────────────────────┼────────────────────────┼────────────────┼────────────────────────┤\n",
              "│ conv3_block2_2_bn         │ (<span style=\"color: #00d7ff; text-decoration-color: #00d7ff\">None</span>, <span style=\"color: #00af00; text-decoration-color: #00af00\">32</span>, <span style=\"color: #00af00; text-decoration-color: #00af00\">32</span>, <span style=\"color: #00af00; text-decoration-color: #00af00\">128</span>)    │            <span style=\"color: #00af00; text-decoration-color: #00af00\">512</span> │ conv3_block2_2_conv[<span style=\"color: #00af00; text-decoration-color: #00af00\">0</span>… │\n",
              "│ (<span style=\"color: #0087ff; text-decoration-color: #0087ff\">BatchNormalization</span>)      │                        │                │                        │\n",
              "├───────────────────────────┼────────────────────────┼────────────────┼────────────────────────┤\n",
              "│ conv3_block2_2_relu       │ (<span style=\"color: #00d7ff; text-decoration-color: #00d7ff\">None</span>, <span style=\"color: #00af00; text-decoration-color: #00af00\">32</span>, <span style=\"color: #00af00; text-decoration-color: #00af00\">32</span>, <span style=\"color: #00af00; text-decoration-color: #00af00\">128</span>)    │              <span style=\"color: #00af00; text-decoration-color: #00af00\">0</span> │ conv3_block2_2_bn[<span style=\"color: #00af00; text-decoration-color: #00af00\">0</span>][<span style=\"color: #00af00; text-decoration-color: #00af00\">…</span> │\n",
              "│ (<span style=\"color: #0087ff; text-decoration-color: #0087ff\">Activation</span>)              │                        │                │                        │\n",
              "├───────────────────────────┼────────────────────────┼────────────────┼────────────────────────┤\n",
              "│ conv3_block2_3_conv       │ (<span style=\"color: #00d7ff; text-decoration-color: #00d7ff\">None</span>, <span style=\"color: #00af00; text-decoration-color: #00af00\">32</span>, <span style=\"color: #00af00; text-decoration-color: #00af00\">32</span>, <span style=\"color: #00af00; text-decoration-color: #00af00\">512</span>)    │         <span style=\"color: #00af00; text-decoration-color: #00af00\">66,048</span> │ conv3_block2_2_relu[<span style=\"color: #00af00; text-decoration-color: #00af00\">0</span>… │\n",
              "│ (<span style=\"color: #0087ff; text-decoration-color: #0087ff\">Conv2D</span>)                  │                        │                │                        │\n",
              "├───────────────────────────┼────────────────────────┼────────────────┼────────────────────────┤\n",
              "│ conv3_block2_3_bn         │ (<span style=\"color: #00d7ff; text-decoration-color: #00d7ff\">None</span>, <span style=\"color: #00af00; text-decoration-color: #00af00\">32</span>, <span style=\"color: #00af00; text-decoration-color: #00af00\">32</span>, <span style=\"color: #00af00; text-decoration-color: #00af00\">512</span>)    │          <span style=\"color: #00af00; text-decoration-color: #00af00\">2,048</span> │ conv3_block2_3_conv[<span style=\"color: #00af00; text-decoration-color: #00af00\">0</span>… │\n",
              "│ (<span style=\"color: #0087ff; text-decoration-color: #0087ff\">BatchNormalization</span>)      │                        │                │                        │\n",
              "├───────────────────────────┼────────────────────────┼────────────────┼────────────────────────┤\n",
              "│ conv3_block2_add (<span style=\"color: #0087ff; text-decoration-color: #0087ff\">Add</span>)    │ (<span style=\"color: #00d7ff; text-decoration-color: #00d7ff\">None</span>, <span style=\"color: #00af00; text-decoration-color: #00af00\">32</span>, <span style=\"color: #00af00; text-decoration-color: #00af00\">32</span>, <span style=\"color: #00af00; text-decoration-color: #00af00\">512</span>)    │              <span style=\"color: #00af00; text-decoration-color: #00af00\">0</span> │ conv3_block1_out[<span style=\"color: #00af00; text-decoration-color: #00af00\">0</span>][<span style=\"color: #00af00; text-decoration-color: #00af00\">0</span>… │\n",
              "│                           │                        │                │ conv3_block2_3_bn[<span style=\"color: #00af00; text-decoration-color: #00af00\">0</span>][<span style=\"color: #00af00; text-decoration-color: #00af00\">…</span> │\n",
              "├───────────────────────────┼────────────────────────┼────────────────┼────────────────────────┤\n",
              "│ conv3_block2_out          │ (<span style=\"color: #00d7ff; text-decoration-color: #00d7ff\">None</span>, <span style=\"color: #00af00; text-decoration-color: #00af00\">32</span>, <span style=\"color: #00af00; text-decoration-color: #00af00\">32</span>, <span style=\"color: #00af00; text-decoration-color: #00af00\">512</span>)    │              <span style=\"color: #00af00; text-decoration-color: #00af00\">0</span> │ conv3_block2_add[<span style=\"color: #00af00; text-decoration-color: #00af00\">0</span>][<span style=\"color: #00af00; text-decoration-color: #00af00\">0</span>] │\n",
              "│ (<span style=\"color: #0087ff; text-decoration-color: #0087ff\">Activation</span>)              │                        │                │                        │\n",
              "├───────────────────────────┼────────────────────────┼────────────────┼────────────────────────┤\n",
              "│ conv3_block3_1_conv       │ (<span style=\"color: #00d7ff; text-decoration-color: #00d7ff\">None</span>, <span style=\"color: #00af00; text-decoration-color: #00af00\">32</span>, <span style=\"color: #00af00; text-decoration-color: #00af00\">32</span>, <span style=\"color: #00af00; text-decoration-color: #00af00\">128</span>)    │         <span style=\"color: #00af00; text-decoration-color: #00af00\">65,664</span> │ conv3_block2_out[<span style=\"color: #00af00; text-decoration-color: #00af00\">0</span>][<span style=\"color: #00af00; text-decoration-color: #00af00\">0</span>] │\n",
              "│ (<span style=\"color: #0087ff; text-decoration-color: #0087ff\">Conv2D</span>)                  │                        │                │                        │\n",
              "├───────────────────────────┼────────────────────────┼────────────────┼────────────────────────┤\n",
              "│ conv3_block3_1_bn         │ (<span style=\"color: #00d7ff; text-decoration-color: #00d7ff\">None</span>, <span style=\"color: #00af00; text-decoration-color: #00af00\">32</span>, <span style=\"color: #00af00; text-decoration-color: #00af00\">32</span>, <span style=\"color: #00af00; text-decoration-color: #00af00\">128</span>)    │            <span style=\"color: #00af00; text-decoration-color: #00af00\">512</span> │ conv3_block3_1_conv[<span style=\"color: #00af00; text-decoration-color: #00af00\">0</span>… │\n",
              "│ (<span style=\"color: #0087ff; text-decoration-color: #0087ff\">BatchNormalization</span>)      │                        │                │                        │\n",
              "├───────────────────────────┼────────────────────────┼────────────────┼────────────────────────┤\n",
              "│ conv3_block3_1_relu       │ (<span style=\"color: #00d7ff; text-decoration-color: #00d7ff\">None</span>, <span style=\"color: #00af00; text-decoration-color: #00af00\">32</span>, <span style=\"color: #00af00; text-decoration-color: #00af00\">32</span>, <span style=\"color: #00af00; text-decoration-color: #00af00\">128</span>)    │              <span style=\"color: #00af00; text-decoration-color: #00af00\">0</span> │ conv3_block3_1_bn[<span style=\"color: #00af00; text-decoration-color: #00af00\">0</span>][<span style=\"color: #00af00; text-decoration-color: #00af00\">…</span> │\n",
              "│ (<span style=\"color: #0087ff; text-decoration-color: #0087ff\">Activation</span>)              │                        │                │                        │\n",
              "├───────────────────────────┼────────────────────────┼────────────────┼────────────────────────┤\n",
              "│ conv3_block3_2_conv       │ (<span style=\"color: #00d7ff; text-decoration-color: #00d7ff\">None</span>, <span style=\"color: #00af00; text-decoration-color: #00af00\">32</span>, <span style=\"color: #00af00; text-decoration-color: #00af00\">32</span>, <span style=\"color: #00af00; text-decoration-color: #00af00\">128</span>)    │        <span style=\"color: #00af00; text-decoration-color: #00af00\">147,584</span> │ conv3_block3_1_relu[<span style=\"color: #00af00; text-decoration-color: #00af00\">0</span>… │\n",
              "│ (<span style=\"color: #0087ff; text-decoration-color: #0087ff\">Conv2D</span>)                  │                        │                │                        │\n",
              "├───────────────────────────┼────────────────────────┼────────────────┼────────────────────────┤\n",
              "│ conv3_block3_2_bn         │ (<span style=\"color: #00d7ff; text-decoration-color: #00d7ff\">None</span>, <span style=\"color: #00af00; text-decoration-color: #00af00\">32</span>, <span style=\"color: #00af00; text-decoration-color: #00af00\">32</span>, <span style=\"color: #00af00; text-decoration-color: #00af00\">128</span>)    │            <span style=\"color: #00af00; text-decoration-color: #00af00\">512</span> │ conv3_block3_2_conv[<span style=\"color: #00af00; text-decoration-color: #00af00\">0</span>… │\n",
              "│ (<span style=\"color: #0087ff; text-decoration-color: #0087ff\">BatchNormalization</span>)      │                        │                │                        │\n",
              "├───────────────────────────┼────────────────────────┼────────────────┼────────────────────────┤\n",
              "│ conv3_block3_2_relu       │ (<span style=\"color: #00d7ff; text-decoration-color: #00d7ff\">None</span>, <span style=\"color: #00af00; text-decoration-color: #00af00\">32</span>, <span style=\"color: #00af00; text-decoration-color: #00af00\">32</span>, <span style=\"color: #00af00; text-decoration-color: #00af00\">128</span>)    │              <span style=\"color: #00af00; text-decoration-color: #00af00\">0</span> │ conv3_block3_2_bn[<span style=\"color: #00af00; text-decoration-color: #00af00\">0</span>][<span style=\"color: #00af00; text-decoration-color: #00af00\">…</span> │\n",
              "│ (<span style=\"color: #0087ff; text-decoration-color: #0087ff\">Activation</span>)              │                        │                │                        │\n",
              "├───────────────────────────┼────────────────────────┼────────────────┼────────────────────────┤\n",
              "│ conv3_block3_3_conv       │ (<span style=\"color: #00d7ff; text-decoration-color: #00d7ff\">None</span>, <span style=\"color: #00af00; text-decoration-color: #00af00\">32</span>, <span style=\"color: #00af00; text-decoration-color: #00af00\">32</span>, <span style=\"color: #00af00; text-decoration-color: #00af00\">512</span>)    │         <span style=\"color: #00af00; text-decoration-color: #00af00\">66,048</span> │ conv3_block3_2_relu[<span style=\"color: #00af00; text-decoration-color: #00af00\">0</span>… │\n",
              "│ (<span style=\"color: #0087ff; text-decoration-color: #0087ff\">Conv2D</span>)                  │                        │                │                        │\n",
              "├───────────────────────────┼────────────────────────┼────────────────┼────────────────────────┤\n",
              "│ conv3_block3_3_bn         │ (<span style=\"color: #00d7ff; text-decoration-color: #00d7ff\">None</span>, <span style=\"color: #00af00; text-decoration-color: #00af00\">32</span>, <span style=\"color: #00af00; text-decoration-color: #00af00\">32</span>, <span style=\"color: #00af00; text-decoration-color: #00af00\">512</span>)    │          <span style=\"color: #00af00; text-decoration-color: #00af00\">2,048</span> │ conv3_block3_3_conv[<span style=\"color: #00af00; text-decoration-color: #00af00\">0</span>… │\n",
              "│ (<span style=\"color: #0087ff; text-decoration-color: #0087ff\">BatchNormalization</span>)      │                        │                │                        │\n",
              "├───────────────────────────┼────────────────────────┼────────────────┼────────────────────────┤\n",
              "│ conv3_block3_add (<span style=\"color: #0087ff; text-decoration-color: #0087ff\">Add</span>)    │ (<span style=\"color: #00d7ff; text-decoration-color: #00d7ff\">None</span>, <span style=\"color: #00af00; text-decoration-color: #00af00\">32</span>, <span style=\"color: #00af00; text-decoration-color: #00af00\">32</span>, <span style=\"color: #00af00; text-decoration-color: #00af00\">512</span>)    │              <span style=\"color: #00af00; text-decoration-color: #00af00\">0</span> │ conv3_block2_out[<span style=\"color: #00af00; text-decoration-color: #00af00\">0</span>][<span style=\"color: #00af00; text-decoration-color: #00af00\">0</span>… │\n",
              "│                           │                        │                │ conv3_block3_3_bn[<span style=\"color: #00af00; text-decoration-color: #00af00\">0</span>][<span style=\"color: #00af00; text-decoration-color: #00af00\">…</span> │\n",
              "├───────────────────────────┼────────────────────────┼────────────────┼────────────────────────┤\n",
              "│ conv3_block3_out          │ (<span style=\"color: #00d7ff; text-decoration-color: #00d7ff\">None</span>, <span style=\"color: #00af00; text-decoration-color: #00af00\">32</span>, <span style=\"color: #00af00; text-decoration-color: #00af00\">32</span>, <span style=\"color: #00af00; text-decoration-color: #00af00\">512</span>)    │              <span style=\"color: #00af00; text-decoration-color: #00af00\">0</span> │ conv3_block3_add[<span style=\"color: #00af00; text-decoration-color: #00af00\">0</span>][<span style=\"color: #00af00; text-decoration-color: #00af00\">0</span>] │\n",
              "│ (<span style=\"color: #0087ff; text-decoration-color: #0087ff\">Activation</span>)              │                        │                │                        │\n",
              "├───────────────────────────┼────────────────────────┼────────────────┼────────────────────────┤\n",
              "│ conv3_block4_1_conv       │ (<span style=\"color: #00d7ff; text-decoration-color: #00d7ff\">None</span>, <span style=\"color: #00af00; text-decoration-color: #00af00\">32</span>, <span style=\"color: #00af00; text-decoration-color: #00af00\">32</span>, <span style=\"color: #00af00; text-decoration-color: #00af00\">128</span>)    │         <span style=\"color: #00af00; text-decoration-color: #00af00\">65,664</span> │ conv3_block3_out[<span style=\"color: #00af00; text-decoration-color: #00af00\">0</span>][<span style=\"color: #00af00; text-decoration-color: #00af00\">0</span>] │\n",
              "│ (<span style=\"color: #0087ff; text-decoration-color: #0087ff\">Conv2D</span>)                  │                        │                │                        │\n",
              "├───────────────────────────┼────────────────────────┼────────────────┼────────────────────────┤\n",
              "│ conv3_block4_1_bn         │ (<span style=\"color: #00d7ff; text-decoration-color: #00d7ff\">None</span>, <span style=\"color: #00af00; text-decoration-color: #00af00\">32</span>, <span style=\"color: #00af00; text-decoration-color: #00af00\">32</span>, <span style=\"color: #00af00; text-decoration-color: #00af00\">128</span>)    │            <span style=\"color: #00af00; text-decoration-color: #00af00\">512</span> │ conv3_block4_1_conv[<span style=\"color: #00af00; text-decoration-color: #00af00\">0</span>… │\n",
              "│ (<span style=\"color: #0087ff; text-decoration-color: #0087ff\">BatchNormalization</span>)      │                        │                │                        │\n",
              "├───────────────────────────┼────────────────────────┼────────────────┼────────────────────────┤\n",
              "│ conv3_block4_1_relu       │ (<span style=\"color: #00d7ff; text-decoration-color: #00d7ff\">None</span>, <span style=\"color: #00af00; text-decoration-color: #00af00\">32</span>, <span style=\"color: #00af00; text-decoration-color: #00af00\">32</span>, <span style=\"color: #00af00; text-decoration-color: #00af00\">128</span>)    │              <span style=\"color: #00af00; text-decoration-color: #00af00\">0</span> │ conv3_block4_1_bn[<span style=\"color: #00af00; text-decoration-color: #00af00\">0</span>][<span style=\"color: #00af00; text-decoration-color: #00af00\">…</span> │\n",
              "│ (<span style=\"color: #0087ff; text-decoration-color: #0087ff\">Activation</span>)              │                        │                │                        │\n",
              "├───────────────────────────┼────────────────────────┼────────────────┼────────────────────────┤\n",
              "│ conv3_block4_2_conv       │ (<span style=\"color: #00d7ff; text-decoration-color: #00d7ff\">None</span>, <span style=\"color: #00af00; text-decoration-color: #00af00\">32</span>, <span style=\"color: #00af00; text-decoration-color: #00af00\">32</span>, <span style=\"color: #00af00; text-decoration-color: #00af00\">128</span>)    │        <span style=\"color: #00af00; text-decoration-color: #00af00\">147,584</span> │ conv3_block4_1_relu[<span style=\"color: #00af00; text-decoration-color: #00af00\">0</span>… │\n",
              "│ (<span style=\"color: #0087ff; text-decoration-color: #0087ff\">Conv2D</span>)                  │                        │                │                        │\n",
              "├───────────────────────────┼────────────────────────┼────────────────┼────────────────────────┤\n",
              "│ conv3_block4_2_bn         │ (<span style=\"color: #00d7ff; text-decoration-color: #00d7ff\">None</span>, <span style=\"color: #00af00; text-decoration-color: #00af00\">32</span>, <span style=\"color: #00af00; text-decoration-color: #00af00\">32</span>, <span style=\"color: #00af00; text-decoration-color: #00af00\">128</span>)    │            <span style=\"color: #00af00; text-decoration-color: #00af00\">512</span> │ conv3_block4_2_conv[<span style=\"color: #00af00; text-decoration-color: #00af00\">0</span>… │\n",
              "│ (<span style=\"color: #0087ff; text-decoration-color: #0087ff\">BatchNormalization</span>)      │                        │                │                        │\n",
              "├───────────────────────────┼────────────────────────┼────────────────┼────────────────────────┤\n",
              "│ conv3_block4_2_relu       │ (<span style=\"color: #00d7ff; text-decoration-color: #00d7ff\">None</span>, <span style=\"color: #00af00; text-decoration-color: #00af00\">32</span>, <span style=\"color: #00af00; text-decoration-color: #00af00\">32</span>, <span style=\"color: #00af00; text-decoration-color: #00af00\">128</span>)    │              <span style=\"color: #00af00; text-decoration-color: #00af00\">0</span> │ conv3_block4_2_bn[<span style=\"color: #00af00; text-decoration-color: #00af00\">0</span>][<span style=\"color: #00af00; text-decoration-color: #00af00\">…</span> │\n",
              "│ (<span style=\"color: #0087ff; text-decoration-color: #0087ff\">Activation</span>)              │                        │                │                        │\n",
              "├───────────────────────────┼────────────────────────┼────────────────┼────────────────────────┤\n",
              "│ conv3_block4_3_conv       │ (<span style=\"color: #00d7ff; text-decoration-color: #00d7ff\">None</span>, <span style=\"color: #00af00; text-decoration-color: #00af00\">32</span>, <span style=\"color: #00af00; text-decoration-color: #00af00\">32</span>, <span style=\"color: #00af00; text-decoration-color: #00af00\">512</span>)    │         <span style=\"color: #00af00; text-decoration-color: #00af00\">66,048</span> │ conv3_block4_2_relu[<span style=\"color: #00af00; text-decoration-color: #00af00\">0</span>… │\n",
              "│ (<span style=\"color: #0087ff; text-decoration-color: #0087ff\">Conv2D</span>)                  │                        │                │                        │\n",
              "├───────────────────────────┼────────────────────────┼────────────────┼────────────────────────┤\n",
              "│ conv3_block4_3_bn         │ (<span style=\"color: #00d7ff; text-decoration-color: #00d7ff\">None</span>, <span style=\"color: #00af00; text-decoration-color: #00af00\">32</span>, <span style=\"color: #00af00; text-decoration-color: #00af00\">32</span>, <span style=\"color: #00af00; text-decoration-color: #00af00\">512</span>)    │          <span style=\"color: #00af00; text-decoration-color: #00af00\">2,048</span> │ conv3_block4_3_conv[<span style=\"color: #00af00; text-decoration-color: #00af00\">0</span>… │\n",
              "│ (<span style=\"color: #0087ff; text-decoration-color: #0087ff\">BatchNormalization</span>)      │                        │                │                        │\n",
              "├───────────────────────────┼────────────────────────┼────────────────┼────────────────────────┤\n",
              "│ conv3_block4_add (<span style=\"color: #0087ff; text-decoration-color: #0087ff\">Add</span>)    │ (<span style=\"color: #00d7ff; text-decoration-color: #00d7ff\">None</span>, <span style=\"color: #00af00; text-decoration-color: #00af00\">32</span>, <span style=\"color: #00af00; text-decoration-color: #00af00\">32</span>, <span style=\"color: #00af00; text-decoration-color: #00af00\">512</span>)    │              <span style=\"color: #00af00; text-decoration-color: #00af00\">0</span> │ conv3_block3_out[<span style=\"color: #00af00; text-decoration-color: #00af00\">0</span>][<span style=\"color: #00af00; text-decoration-color: #00af00\">0</span>… │\n",
              "│                           │                        │                │ conv3_block4_3_bn[<span style=\"color: #00af00; text-decoration-color: #00af00\">0</span>][<span style=\"color: #00af00; text-decoration-color: #00af00\">…</span> │\n",
              "├───────────────────────────┼────────────────────────┼────────────────┼────────────────────────┤\n",
              "│ conv3_block4_out          │ (<span style=\"color: #00d7ff; text-decoration-color: #00d7ff\">None</span>, <span style=\"color: #00af00; text-decoration-color: #00af00\">32</span>, <span style=\"color: #00af00; text-decoration-color: #00af00\">32</span>, <span style=\"color: #00af00; text-decoration-color: #00af00\">512</span>)    │              <span style=\"color: #00af00; text-decoration-color: #00af00\">0</span> │ conv3_block4_add[<span style=\"color: #00af00; text-decoration-color: #00af00\">0</span>][<span style=\"color: #00af00; text-decoration-color: #00af00\">0</span>] │\n",
              "│ (<span style=\"color: #0087ff; text-decoration-color: #0087ff\">Activation</span>)              │                        │                │                        │\n",
              "├───────────────────────────┼────────────────────────┼────────────────┼────────────────────────┤\n",
              "│ conv4_block1_1_conv       │ (<span style=\"color: #00d7ff; text-decoration-color: #00d7ff\">None</span>, <span style=\"color: #00af00; text-decoration-color: #00af00\">16</span>, <span style=\"color: #00af00; text-decoration-color: #00af00\">16</span>, <span style=\"color: #00af00; text-decoration-color: #00af00\">256</span>)    │        <span style=\"color: #00af00; text-decoration-color: #00af00\">131,328</span> │ conv3_block4_out[<span style=\"color: #00af00; text-decoration-color: #00af00\">0</span>][<span style=\"color: #00af00; text-decoration-color: #00af00\">0</span>] │\n",
              "│ (<span style=\"color: #0087ff; text-decoration-color: #0087ff\">Conv2D</span>)                  │                        │                │                        │\n",
              "├───────────────────────────┼────────────────────────┼────────────────┼────────────────────────┤\n",
              "│ conv4_block1_1_bn         │ (<span style=\"color: #00d7ff; text-decoration-color: #00d7ff\">None</span>, <span style=\"color: #00af00; text-decoration-color: #00af00\">16</span>, <span style=\"color: #00af00; text-decoration-color: #00af00\">16</span>, <span style=\"color: #00af00; text-decoration-color: #00af00\">256</span>)    │          <span style=\"color: #00af00; text-decoration-color: #00af00\">1,024</span> │ conv4_block1_1_conv[<span style=\"color: #00af00; text-decoration-color: #00af00\">0</span>… │\n",
              "│ (<span style=\"color: #0087ff; text-decoration-color: #0087ff\">BatchNormalization</span>)      │                        │                │                        │\n",
              "├───────────────────────────┼────────────────────────┼────────────────┼────────────────────────┤\n",
              "│ conv4_block1_1_relu       │ (<span style=\"color: #00d7ff; text-decoration-color: #00d7ff\">None</span>, <span style=\"color: #00af00; text-decoration-color: #00af00\">16</span>, <span style=\"color: #00af00; text-decoration-color: #00af00\">16</span>, <span style=\"color: #00af00; text-decoration-color: #00af00\">256</span>)    │              <span style=\"color: #00af00; text-decoration-color: #00af00\">0</span> │ conv4_block1_1_bn[<span style=\"color: #00af00; text-decoration-color: #00af00\">0</span>][<span style=\"color: #00af00; text-decoration-color: #00af00\">…</span> │\n",
              "│ (<span style=\"color: #0087ff; text-decoration-color: #0087ff\">Activation</span>)              │                        │                │                        │\n",
              "├───────────────────────────┼────────────────────────┼────────────────┼────────────────────────┤\n",
              "│ conv4_block1_2_conv       │ (<span style=\"color: #00d7ff; text-decoration-color: #00d7ff\">None</span>, <span style=\"color: #00af00; text-decoration-color: #00af00\">16</span>, <span style=\"color: #00af00; text-decoration-color: #00af00\">16</span>, <span style=\"color: #00af00; text-decoration-color: #00af00\">256</span>)    │        <span style=\"color: #00af00; text-decoration-color: #00af00\">590,080</span> │ conv4_block1_1_relu[<span style=\"color: #00af00; text-decoration-color: #00af00\">0</span>… │\n",
              "│ (<span style=\"color: #0087ff; text-decoration-color: #0087ff\">Conv2D</span>)                  │                        │                │                        │\n",
              "├───────────────────────────┼────────────────────────┼────────────────┼────────────────────────┤\n",
              "│ conv4_block1_2_bn         │ (<span style=\"color: #00d7ff; text-decoration-color: #00d7ff\">None</span>, <span style=\"color: #00af00; text-decoration-color: #00af00\">16</span>, <span style=\"color: #00af00; text-decoration-color: #00af00\">16</span>, <span style=\"color: #00af00; text-decoration-color: #00af00\">256</span>)    │          <span style=\"color: #00af00; text-decoration-color: #00af00\">1,024</span> │ conv4_block1_2_conv[<span style=\"color: #00af00; text-decoration-color: #00af00\">0</span>… │\n",
              "│ (<span style=\"color: #0087ff; text-decoration-color: #0087ff\">BatchNormalization</span>)      │                        │                │                        │\n",
              "├───────────────────────────┼────────────────────────┼────────────────┼────────────────────────┤\n",
              "│ conv4_block1_2_relu       │ (<span style=\"color: #00d7ff; text-decoration-color: #00d7ff\">None</span>, <span style=\"color: #00af00; text-decoration-color: #00af00\">16</span>, <span style=\"color: #00af00; text-decoration-color: #00af00\">16</span>, <span style=\"color: #00af00; text-decoration-color: #00af00\">256</span>)    │              <span style=\"color: #00af00; text-decoration-color: #00af00\">0</span> │ conv4_block1_2_bn[<span style=\"color: #00af00; text-decoration-color: #00af00\">0</span>][<span style=\"color: #00af00; text-decoration-color: #00af00\">…</span> │\n",
              "│ (<span style=\"color: #0087ff; text-decoration-color: #0087ff\">Activation</span>)              │                        │                │                        │\n",
              "├───────────────────────────┼────────────────────────┼────────────────┼────────────────────────┤\n",
              "│ conv4_block1_0_conv       │ (<span style=\"color: #00d7ff; text-decoration-color: #00d7ff\">None</span>, <span style=\"color: #00af00; text-decoration-color: #00af00\">16</span>, <span style=\"color: #00af00; text-decoration-color: #00af00\">16</span>, <span style=\"color: #00af00; text-decoration-color: #00af00\">1024</span>)   │        <span style=\"color: #00af00; text-decoration-color: #00af00\">525,312</span> │ conv3_block4_out[<span style=\"color: #00af00; text-decoration-color: #00af00\">0</span>][<span style=\"color: #00af00; text-decoration-color: #00af00\">0</span>] │\n",
              "│ (<span style=\"color: #0087ff; text-decoration-color: #0087ff\">Conv2D</span>)                  │                        │                │                        │\n",
              "├───────────────────────────┼────────────────────────┼────────────────┼────────────────────────┤\n",
              "│ conv4_block1_3_conv       │ (<span style=\"color: #00d7ff; text-decoration-color: #00d7ff\">None</span>, <span style=\"color: #00af00; text-decoration-color: #00af00\">16</span>, <span style=\"color: #00af00; text-decoration-color: #00af00\">16</span>, <span style=\"color: #00af00; text-decoration-color: #00af00\">1024</span>)   │        <span style=\"color: #00af00; text-decoration-color: #00af00\">263,168</span> │ conv4_block1_2_relu[<span style=\"color: #00af00; text-decoration-color: #00af00\">0</span>… │\n",
              "│ (<span style=\"color: #0087ff; text-decoration-color: #0087ff\">Conv2D</span>)                  │                        │                │                        │\n",
              "├───────────────────────────┼────────────────────────┼────────────────┼────────────────────────┤\n",
              "│ conv4_block1_0_bn         │ (<span style=\"color: #00d7ff; text-decoration-color: #00d7ff\">None</span>, <span style=\"color: #00af00; text-decoration-color: #00af00\">16</span>, <span style=\"color: #00af00; text-decoration-color: #00af00\">16</span>, <span style=\"color: #00af00; text-decoration-color: #00af00\">1024</span>)   │          <span style=\"color: #00af00; text-decoration-color: #00af00\">4,096</span> │ conv4_block1_0_conv[<span style=\"color: #00af00; text-decoration-color: #00af00\">0</span>… │\n",
              "│ (<span style=\"color: #0087ff; text-decoration-color: #0087ff\">BatchNormalization</span>)      │                        │                │                        │\n",
              "├───────────────────────────┼────────────────────────┼────────────────┼────────────────────────┤\n",
              "│ conv4_block1_3_bn         │ (<span style=\"color: #00d7ff; text-decoration-color: #00d7ff\">None</span>, <span style=\"color: #00af00; text-decoration-color: #00af00\">16</span>, <span style=\"color: #00af00; text-decoration-color: #00af00\">16</span>, <span style=\"color: #00af00; text-decoration-color: #00af00\">1024</span>)   │          <span style=\"color: #00af00; text-decoration-color: #00af00\">4,096</span> │ conv4_block1_3_conv[<span style=\"color: #00af00; text-decoration-color: #00af00\">0</span>… │\n",
              "│ (<span style=\"color: #0087ff; text-decoration-color: #0087ff\">BatchNormalization</span>)      │                        │                │                        │\n",
              "├───────────────────────────┼────────────────────────┼────────────────┼────────────────────────┤\n",
              "│ conv4_block1_add (<span style=\"color: #0087ff; text-decoration-color: #0087ff\">Add</span>)    │ (<span style=\"color: #00d7ff; text-decoration-color: #00d7ff\">None</span>, <span style=\"color: #00af00; text-decoration-color: #00af00\">16</span>, <span style=\"color: #00af00; text-decoration-color: #00af00\">16</span>, <span style=\"color: #00af00; text-decoration-color: #00af00\">1024</span>)   │              <span style=\"color: #00af00; text-decoration-color: #00af00\">0</span> │ conv4_block1_0_bn[<span style=\"color: #00af00; text-decoration-color: #00af00\">0</span>][<span style=\"color: #00af00; text-decoration-color: #00af00\">…</span> │\n",
              "│                           │                        │                │ conv4_block1_3_bn[<span style=\"color: #00af00; text-decoration-color: #00af00\">0</span>][<span style=\"color: #00af00; text-decoration-color: #00af00\">…</span> │\n",
              "├───────────────────────────┼────────────────────────┼────────────────┼────────────────────────┤\n",
              "│ conv4_block1_out          │ (<span style=\"color: #00d7ff; text-decoration-color: #00d7ff\">None</span>, <span style=\"color: #00af00; text-decoration-color: #00af00\">16</span>, <span style=\"color: #00af00; text-decoration-color: #00af00\">16</span>, <span style=\"color: #00af00; text-decoration-color: #00af00\">1024</span>)   │              <span style=\"color: #00af00; text-decoration-color: #00af00\">0</span> │ conv4_block1_add[<span style=\"color: #00af00; text-decoration-color: #00af00\">0</span>][<span style=\"color: #00af00; text-decoration-color: #00af00\">0</span>] │\n",
              "│ (<span style=\"color: #0087ff; text-decoration-color: #0087ff\">Activation</span>)              │                        │                │                        │\n",
              "├───────────────────────────┼────────────────────────┼────────────────┼────────────────────────┤\n",
              "│ conv4_block2_1_conv       │ (<span style=\"color: #00d7ff; text-decoration-color: #00d7ff\">None</span>, <span style=\"color: #00af00; text-decoration-color: #00af00\">16</span>, <span style=\"color: #00af00; text-decoration-color: #00af00\">16</span>, <span style=\"color: #00af00; text-decoration-color: #00af00\">256</span>)    │        <span style=\"color: #00af00; text-decoration-color: #00af00\">262,400</span> │ conv4_block1_out[<span style=\"color: #00af00; text-decoration-color: #00af00\">0</span>][<span style=\"color: #00af00; text-decoration-color: #00af00\">0</span>] │\n",
              "│ (<span style=\"color: #0087ff; text-decoration-color: #0087ff\">Conv2D</span>)                  │                        │                │                        │\n",
              "├───────────────────────────┼────────────────────────┼────────────────┼────────────────────────┤\n",
              "│ conv4_block2_1_bn         │ (<span style=\"color: #00d7ff; text-decoration-color: #00d7ff\">None</span>, <span style=\"color: #00af00; text-decoration-color: #00af00\">16</span>, <span style=\"color: #00af00; text-decoration-color: #00af00\">16</span>, <span style=\"color: #00af00; text-decoration-color: #00af00\">256</span>)    │          <span style=\"color: #00af00; text-decoration-color: #00af00\">1,024</span> │ conv4_block2_1_conv[<span style=\"color: #00af00; text-decoration-color: #00af00\">0</span>… │\n",
              "│ (<span style=\"color: #0087ff; text-decoration-color: #0087ff\">BatchNormalization</span>)      │                        │                │                        │\n",
              "├───────────────────────────┼────────────────────────┼────────────────┼────────────────────────┤\n",
              "│ conv4_block2_1_relu       │ (<span style=\"color: #00d7ff; text-decoration-color: #00d7ff\">None</span>, <span style=\"color: #00af00; text-decoration-color: #00af00\">16</span>, <span style=\"color: #00af00; text-decoration-color: #00af00\">16</span>, <span style=\"color: #00af00; text-decoration-color: #00af00\">256</span>)    │              <span style=\"color: #00af00; text-decoration-color: #00af00\">0</span> │ conv4_block2_1_bn[<span style=\"color: #00af00; text-decoration-color: #00af00\">0</span>][<span style=\"color: #00af00; text-decoration-color: #00af00\">…</span> │\n",
              "│ (<span style=\"color: #0087ff; text-decoration-color: #0087ff\">Activation</span>)              │                        │                │                        │\n",
              "├───────────────────────────┼────────────────────────┼────────────────┼────────────────────────┤\n",
              "│ conv4_block2_2_conv       │ (<span style=\"color: #00d7ff; text-decoration-color: #00d7ff\">None</span>, <span style=\"color: #00af00; text-decoration-color: #00af00\">16</span>, <span style=\"color: #00af00; text-decoration-color: #00af00\">16</span>, <span style=\"color: #00af00; text-decoration-color: #00af00\">256</span>)    │        <span style=\"color: #00af00; text-decoration-color: #00af00\">590,080</span> │ conv4_block2_1_relu[<span style=\"color: #00af00; text-decoration-color: #00af00\">0</span>… │\n",
              "│ (<span style=\"color: #0087ff; text-decoration-color: #0087ff\">Conv2D</span>)                  │                        │                │                        │\n",
              "├───────────────────────────┼────────────────────────┼────────────────┼────────────────────────┤\n",
              "│ conv4_block2_2_bn         │ (<span style=\"color: #00d7ff; text-decoration-color: #00d7ff\">None</span>, <span style=\"color: #00af00; text-decoration-color: #00af00\">16</span>, <span style=\"color: #00af00; text-decoration-color: #00af00\">16</span>, <span style=\"color: #00af00; text-decoration-color: #00af00\">256</span>)    │          <span style=\"color: #00af00; text-decoration-color: #00af00\">1,024</span> │ conv4_block2_2_conv[<span style=\"color: #00af00; text-decoration-color: #00af00\">0</span>… │\n",
              "│ (<span style=\"color: #0087ff; text-decoration-color: #0087ff\">BatchNormalization</span>)      │                        │                │                        │\n",
              "├───────────────────────────┼────────────────────────┼────────────────┼────────────────────────┤\n",
              "│ conv4_block2_2_relu       │ (<span style=\"color: #00d7ff; text-decoration-color: #00d7ff\">None</span>, <span style=\"color: #00af00; text-decoration-color: #00af00\">16</span>, <span style=\"color: #00af00; text-decoration-color: #00af00\">16</span>, <span style=\"color: #00af00; text-decoration-color: #00af00\">256</span>)    │              <span style=\"color: #00af00; text-decoration-color: #00af00\">0</span> │ conv4_block2_2_bn[<span style=\"color: #00af00; text-decoration-color: #00af00\">0</span>][<span style=\"color: #00af00; text-decoration-color: #00af00\">…</span> │\n",
              "│ (<span style=\"color: #0087ff; text-decoration-color: #0087ff\">Activation</span>)              │                        │                │                        │\n",
              "├───────────────────────────┼────────────────────────┼────────────────┼────────────────────────┤\n",
              "│ conv4_block2_3_conv       │ (<span style=\"color: #00d7ff; text-decoration-color: #00d7ff\">None</span>, <span style=\"color: #00af00; text-decoration-color: #00af00\">16</span>, <span style=\"color: #00af00; text-decoration-color: #00af00\">16</span>, <span style=\"color: #00af00; text-decoration-color: #00af00\">1024</span>)   │        <span style=\"color: #00af00; text-decoration-color: #00af00\">263,168</span> │ conv4_block2_2_relu[<span style=\"color: #00af00; text-decoration-color: #00af00\">0</span>… │\n",
              "│ (<span style=\"color: #0087ff; text-decoration-color: #0087ff\">Conv2D</span>)                  │                        │                │                        │\n",
              "├───────────────────────────┼────────────────────────┼────────────────┼────────────────────────┤\n",
              "│ conv4_block2_3_bn         │ (<span style=\"color: #00d7ff; text-decoration-color: #00d7ff\">None</span>, <span style=\"color: #00af00; text-decoration-color: #00af00\">16</span>, <span style=\"color: #00af00; text-decoration-color: #00af00\">16</span>, <span style=\"color: #00af00; text-decoration-color: #00af00\">1024</span>)   │          <span style=\"color: #00af00; text-decoration-color: #00af00\">4,096</span> │ conv4_block2_3_conv[<span style=\"color: #00af00; text-decoration-color: #00af00\">0</span>… │\n",
              "│ (<span style=\"color: #0087ff; text-decoration-color: #0087ff\">BatchNormalization</span>)      │                        │                │                        │\n",
              "├───────────────────────────┼────────────────────────┼────────────────┼────────────────────────┤\n",
              "│ conv4_block2_add (<span style=\"color: #0087ff; text-decoration-color: #0087ff\">Add</span>)    │ (<span style=\"color: #00d7ff; text-decoration-color: #00d7ff\">None</span>, <span style=\"color: #00af00; text-decoration-color: #00af00\">16</span>, <span style=\"color: #00af00; text-decoration-color: #00af00\">16</span>, <span style=\"color: #00af00; text-decoration-color: #00af00\">1024</span>)   │              <span style=\"color: #00af00; text-decoration-color: #00af00\">0</span> │ conv4_block1_out[<span style=\"color: #00af00; text-decoration-color: #00af00\">0</span>][<span style=\"color: #00af00; text-decoration-color: #00af00\">0</span>… │\n",
              "│                           │                        │                │ conv4_block2_3_bn[<span style=\"color: #00af00; text-decoration-color: #00af00\">0</span>][<span style=\"color: #00af00; text-decoration-color: #00af00\">…</span> │\n",
              "├───────────────────────────┼────────────────────────┼────────────────┼────────────────────────┤\n",
              "│ conv4_block2_out          │ (<span style=\"color: #00d7ff; text-decoration-color: #00d7ff\">None</span>, <span style=\"color: #00af00; text-decoration-color: #00af00\">16</span>, <span style=\"color: #00af00; text-decoration-color: #00af00\">16</span>, <span style=\"color: #00af00; text-decoration-color: #00af00\">1024</span>)   │              <span style=\"color: #00af00; text-decoration-color: #00af00\">0</span> │ conv4_block2_add[<span style=\"color: #00af00; text-decoration-color: #00af00\">0</span>][<span style=\"color: #00af00; text-decoration-color: #00af00\">0</span>] │\n",
              "│ (<span style=\"color: #0087ff; text-decoration-color: #0087ff\">Activation</span>)              │                        │                │                        │\n",
              "├───────────────────────────┼────────────────────────┼────────────────┼────────────────────────┤\n",
              "│ conv4_block3_1_conv       │ (<span style=\"color: #00d7ff; text-decoration-color: #00d7ff\">None</span>, <span style=\"color: #00af00; text-decoration-color: #00af00\">16</span>, <span style=\"color: #00af00; text-decoration-color: #00af00\">16</span>, <span style=\"color: #00af00; text-decoration-color: #00af00\">256</span>)    │        <span style=\"color: #00af00; text-decoration-color: #00af00\">262,400</span> │ conv4_block2_out[<span style=\"color: #00af00; text-decoration-color: #00af00\">0</span>][<span style=\"color: #00af00; text-decoration-color: #00af00\">0</span>] │\n",
              "│ (<span style=\"color: #0087ff; text-decoration-color: #0087ff\">Conv2D</span>)                  │                        │                │                        │\n",
              "├───────────────────────────┼────────────────────────┼────────────────┼────────────────────────┤\n",
              "│ conv4_block3_1_bn         │ (<span style=\"color: #00d7ff; text-decoration-color: #00d7ff\">None</span>, <span style=\"color: #00af00; text-decoration-color: #00af00\">16</span>, <span style=\"color: #00af00; text-decoration-color: #00af00\">16</span>, <span style=\"color: #00af00; text-decoration-color: #00af00\">256</span>)    │          <span style=\"color: #00af00; text-decoration-color: #00af00\">1,024</span> │ conv4_block3_1_conv[<span style=\"color: #00af00; text-decoration-color: #00af00\">0</span>… │\n",
              "│ (<span style=\"color: #0087ff; text-decoration-color: #0087ff\">BatchNormalization</span>)      │                        │                │                        │\n",
              "├───────────────────────────┼────────────────────────┼────────────────┼────────────────────────┤\n",
              "│ conv4_block3_1_relu       │ (<span style=\"color: #00d7ff; text-decoration-color: #00d7ff\">None</span>, <span style=\"color: #00af00; text-decoration-color: #00af00\">16</span>, <span style=\"color: #00af00; text-decoration-color: #00af00\">16</span>, <span style=\"color: #00af00; text-decoration-color: #00af00\">256</span>)    │              <span style=\"color: #00af00; text-decoration-color: #00af00\">0</span> │ conv4_block3_1_bn[<span style=\"color: #00af00; text-decoration-color: #00af00\">0</span>][<span style=\"color: #00af00; text-decoration-color: #00af00\">…</span> │\n",
              "│ (<span style=\"color: #0087ff; text-decoration-color: #0087ff\">Activation</span>)              │                        │                │                        │\n",
              "├───────────────────────────┼────────────────────────┼────────────────┼────────────────────────┤\n",
              "│ conv4_block3_2_conv       │ (<span style=\"color: #00d7ff; text-decoration-color: #00d7ff\">None</span>, <span style=\"color: #00af00; text-decoration-color: #00af00\">16</span>, <span style=\"color: #00af00; text-decoration-color: #00af00\">16</span>, <span style=\"color: #00af00; text-decoration-color: #00af00\">256</span>)    │        <span style=\"color: #00af00; text-decoration-color: #00af00\">590,080</span> │ conv4_block3_1_relu[<span style=\"color: #00af00; text-decoration-color: #00af00\">0</span>… │\n",
              "│ (<span style=\"color: #0087ff; text-decoration-color: #0087ff\">Conv2D</span>)                  │                        │                │                        │\n",
              "├───────────────────────────┼────────────────────────┼────────────────┼────────────────────────┤\n",
              "│ conv4_block3_2_bn         │ (<span style=\"color: #00d7ff; text-decoration-color: #00d7ff\">None</span>, <span style=\"color: #00af00; text-decoration-color: #00af00\">16</span>, <span style=\"color: #00af00; text-decoration-color: #00af00\">16</span>, <span style=\"color: #00af00; text-decoration-color: #00af00\">256</span>)    │          <span style=\"color: #00af00; text-decoration-color: #00af00\">1,024</span> │ conv4_block3_2_conv[<span style=\"color: #00af00; text-decoration-color: #00af00\">0</span>… │\n",
              "│ (<span style=\"color: #0087ff; text-decoration-color: #0087ff\">BatchNormalization</span>)      │                        │                │                        │\n",
              "├───────────────────────────┼────────────────────────┼────────────────┼────────────────────────┤\n",
              "│ conv4_block3_2_relu       │ (<span style=\"color: #00d7ff; text-decoration-color: #00d7ff\">None</span>, <span style=\"color: #00af00; text-decoration-color: #00af00\">16</span>, <span style=\"color: #00af00; text-decoration-color: #00af00\">16</span>, <span style=\"color: #00af00; text-decoration-color: #00af00\">256</span>)    │              <span style=\"color: #00af00; text-decoration-color: #00af00\">0</span> │ conv4_block3_2_bn[<span style=\"color: #00af00; text-decoration-color: #00af00\">0</span>][<span style=\"color: #00af00; text-decoration-color: #00af00\">…</span> │\n",
              "│ (<span style=\"color: #0087ff; text-decoration-color: #0087ff\">Activation</span>)              │                        │                │                        │\n",
              "├───────────────────────────┼────────────────────────┼────────────────┼────────────────────────┤\n",
              "│ conv4_block3_3_conv       │ (<span style=\"color: #00d7ff; text-decoration-color: #00d7ff\">None</span>, <span style=\"color: #00af00; text-decoration-color: #00af00\">16</span>, <span style=\"color: #00af00; text-decoration-color: #00af00\">16</span>, <span style=\"color: #00af00; text-decoration-color: #00af00\">1024</span>)   │        <span style=\"color: #00af00; text-decoration-color: #00af00\">263,168</span> │ conv4_block3_2_relu[<span style=\"color: #00af00; text-decoration-color: #00af00\">0</span>… │\n",
              "│ (<span style=\"color: #0087ff; text-decoration-color: #0087ff\">Conv2D</span>)                  │                        │                │                        │\n",
              "├───────────────────────────┼────────────────────────┼────────────────┼────────────────────────┤\n",
              "│ conv4_block3_3_bn         │ (<span style=\"color: #00d7ff; text-decoration-color: #00d7ff\">None</span>, <span style=\"color: #00af00; text-decoration-color: #00af00\">16</span>, <span style=\"color: #00af00; text-decoration-color: #00af00\">16</span>, <span style=\"color: #00af00; text-decoration-color: #00af00\">1024</span>)   │          <span style=\"color: #00af00; text-decoration-color: #00af00\">4,096</span> │ conv4_block3_3_conv[<span style=\"color: #00af00; text-decoration-color: #00af00\">0</span>… │\n",
              "│ (<span style=\"color: #0087ff; text-decoration-color: #0087ff\">BatchNormalization</span>)      │                        │                │                        │\n",
              "├───────────────────────────┼────────────────────────┼────────────────┼────────────────────────┤\n",
              "│ conv4_block3_add (<span style=\"color: #0087ff; text-decoration-color: #0087ff\">Add</span>)    │ (<span style=\"color: #00d7ff; text-decoration-color: #00d7ff\">None</span>, <span style=\"color: #00af00; text-decoration-color: #00af00\">16</span>, <span style=\"color: #00af00; text-decoration-color: #00af00\">16</span>, <span style=\"color: #00af00; text-decoration-color: #00af00\">1024</span>)   │              <span style=\"color: #00af00; text-decoration-color: #00af00\">0</span> │ conv4_block2_out[<span style=\"color: #00af00; text-decoration-color: #00af00\">0</span>][<span style=\"color: #00af00; text-decoration-color: #00af00\">0</span>… │\n",
              "│                           │                        │                │ conv4_block3_3_bn[<span style=\"color: #00af00; text-decoration-color: #00af00\">0</span>][<span style=\"color: #00af00; text-decoration-color: #00af00\">…</span> │\n",
              "├───────────────────────────┼────────────────────────┼────────────────┼────────────────────────┤\n",
              "│ conv4_block3_out          │ (<span style=\"color: #00d7ff; text-decoration-color: #00d7ff\">None</span>, <span style=\"color: #00af00; text-decoration-color: #00af00\">16</span>, <span style=\"color: #00af00; text-decoration-color: #00af00\">16</span>, <span style=\"color: #00af00; text-decoration-color: #00af00\">1024</span>)   │              <span style=\"color: #00af00; text-decoration-color: #00af00\">0</span> │ conv4_block3_add[<span style=\"color: #00af00; text-decoration-color: #00af00\">0</span>][<span style=\"color: #00af00; text-decoration-color: #00af00\">0</span>] │\n",
              "│ (<span style=\"color: #0087ff; text-decoration-color: #0087ff\">Activation</span>)              │                        │                │                        │\n",
              "├───────────────────────────┼────────────────────────┼────────────────┼────────────────────────┤\n",
              "│ conv4_block4_1_conv       │ (<span style=\"color: #00d7ff; text-decoration-color: #00d7ff\">None</span>, <span style=\"color: #00af00; text-decoration-color: #00af00\">16</span>, <span style=\"color: #00af00; text-decoration-color: #00af00\">16</span>, <span style=\"color: #00af00; text-decoration-color: #00af00\">256</span>)    │        <span style=\"color: #00af00; text-decoration-color: #00af00\">262,400</span> │ conv4_block3_out[<span style=\"color: #00af00; text-decoration-color: #00af00\">0</span>][<span style=\"color: #00af00; text-decoration-color: #00af00\">0</span>] │\n",
              "│ (<span style=\"color: #0087ff; text-decoration-color: #0087ff\">Conv2D</span>)                  │                        │                │                        │\n",
              "├───────────────────────────┼────────────────────────┼────────────────┼────────────────────────┤\n",
              "│ conv4_block4_1_bn         │ (<span style=\"color: #00d7ff; text-decoration-color: #00d7ff\">None</span>, <span style=\"color: #00af00; text-decoration-color: #00af00\">16</span>, <span style=\"color: #00af00; text-decoration-color: #00af00\">16</span>, <span style=\"color: #00af00; text-decoration-color: #00af00\">256</span>)    │          <span style=\"color: #00af00; text-decoration-color: #00af00\">1,024</span> │ conv4_block4_1_conv[<span style=\"color: #00af00; text-decoration-color: #00af00\">0</span>… │\n",
              "│ (<span style=\"color: #0087ff; text-decoration-color: #0087ff\">BatchNormalization</span>)      │                        │                │                        │\n",
              "├───────────────────────────┼────────────────────────┼────────────────┼────────────────────────┤\n",
              "│ conv4_block4_1_relu       │ (<span style=\"color: #00d7ff; text-decoration-color: #00d7ff\">None</span>, <span style=\"color: #00af00; text-decoration-color: #00af00\">16</span>, <span style=\"color: #00af00; text-decoration-color: #00af00\">16</span>, <span style=\"color: #00af00; text-decoration-color: #00af00\">256</span>)    │              <span style=\"color: #00af00; text-decoration-color: #00af00\">0</span> │ conv4_block4_1_bn[<span style=\"color: #00af00; text-decoration-color: #00af00\">0</span>][<span style=\"color: #00af00; text-decoration-color: #00af00\">…</span> │\n",
              "│ (<span style=\"color: #0087ff; text-decoration-color: #0087ff\">Activation</span>)              │                        │                │                        │\n",
              "├───────────────────────────┼────────────────────────┼────────────────┼────────────────────────┤\n",
              "│ conv4_block4_2_conv       │ (<span style=\"color: #00d7ff; text-decoration-color: #00d7ff\">None</span>, <span style=\"color: #00af00; text-decoration-color: #00af00\">16</span>, <span style=\"color: #00af00; text-decoration-color: #00af00\">16</span>, <span style=\"color: #00af00; text-decoration-color: #00af00\">256</span>)    │        <span style=\"color: #00af00; text-decoration-color: #00af00\">590,080</span> │ conv4_block4_1_relu[<span style=\"color: #00af00; text-decoration-color: #00af00\">0</span>… │\n",
              "│ (<span style=\"color: #0087ff; text-decoration-color: #0087ff\">Conv2D</span>)                  │                        │                │                        │\n",
              "├───────────────────────────┼────────────────────────┼────────────────┼────────────────────────┤\n",
              "│ conv4_block4_2_bn         │ (<span style=\"color: #00d7ff; text-decoration-color: #00d7ff\">None</span>, <span style=\"color: #00af00; text-decoration-color: #00af00\">16</span>, <span style=\"color: #00af00; text-decoration-color: #00af00\">16</span>, <span style=\"color: #00af00; text-decoration-color: #00af00\">256</span>)    │          <span style=\"color: #00af00; text-decoration-color: #00af00\">1,024</span> │ conv4_block4_2_conv[<span style=\"color: #00af00; text-decoration-color: #00af00\">0</span>… │\n",
              "│ (<span style=\"color: #0087ff; text-decoration-color: #0087ff\">BatchNormalization</span>)      │                        │                │                        │\n",
              "├───────────────────────────┼────────────────────────┼────────────────┼────────────────────────┤\n",
              "│ conv4_block4_2_relu       │ (<span style=\"color: #00d7ff; text-decoration-color: #00d7ff\">None</span>, <span style=\"color: #00af00; text-decoration-color: #00af00\">16</span>, <span style=\"color: #00af00; text-decoration-color: #00af00\">16</span>, <span style=\"color: #00af00; text-decoration-color: #00af00\">256</span>)    │              <span style=\"color: #00af00; text-decoration-color: #00af00\">0</span> │ conv4_block4_2_bn[<span style=\"color: #00af00; text-decoration-color: #00af00\">0</span>][<span style=\"color: #00af00; text-decoration-color: #00af00\">…</span> │\n",
              "│ (<span style=\"color: #0087ff; text-decoration-color: #0087ff\">Activation</span>)              │                        │                │                        │\n",
              "├───────────────────────────┼────────────────────────┼────────────────┼────────────────────────┤\n",
              "│ conv4_block4_3_conv       │ (<span style=\"color: #00d7ff; text-decoration-color: #00d7ff\">None</span>, <span style=\"color: #00af00; text-decoration-color: #00af00\">16</span>, <span style=\"color: #00af00; text-decoration-color: #00af00\">16</span>, <span style=\"color: #00af00; text-decoration-color: #00af00\">1024</span>)   │        <span style=\"color: #00af00; text-decoration-color: #00af00\">263,168</span> │ conv4_block4_2_relu[<span style=\"color: #00af00; text-decoration-color: #00af00\">0</span>… │\n",
              "│ (<span style=\"color: #0087ff; text-decoration-color: #0087ff\">Conv2D</span>)                  │                        │                │                        │\n",
              "├───────────────────────────┼────────────────────────┼────────────────┼────────────────────────┤\n",
              "│ conv4_block4_3_bn         │ (<span style=\"color: #00d7ff; text-decoration-color: #00d7ff\">None</span>, <span style=\"color: #00af00; text-decoration-color: #00af00\">16</span>, <span style=\"color: #00af00; text-decoration-color: #00af00\">16</span>, <span style=\"color: #00af00; text-decoration-color: #00af00\">1024</span>)   │          <span style=\"color: #00af00; text-decoration-color: #00af00\">4,096</span> │ conv4_block4_3_conv[<span style=\"color: #00af00; text-decoration-color: #00af00\">0</span>… │\n",
              "│ (<span style=\"color: #0087ff; text-decoration-color: #0087ff\">BatchNormalization</span>)      │                        │                │                        │\n",
              "├───────────────────────────┼────────────────────────┼────────────────┼────────────────────────┤\n",
              "│ conv4_block4_add (<span style=\"color: #0087ff; text-decoration-color: #0087ff\">Add</span>)    │ (<span style=\"color: #00d7ff; text-decoration-color: #00d7ff\">None</span>, <span style=\"color: #00af00; text-decoration-color: #00af00\">16</span>, <span style=\"color: #00af00; text-decoration-color: #00af00\">16</span>, <span style=\"color: #00af00; text-decoration-color: #00af00\">1024</span>)   │              <span style=\"color: #00af00; text-decoration-color: #00af00\">0</span> │ conv4_block3_out[<span style=\"color: #00af00; text-decoration-color: #00af00\">0</span>][<span style=\"color: #00af00; text-decoration-color: #00af00\">0</span>… │\n",
              "│                           │                        │                │ conv4_block4_3_bn[<span style=\"color: #00af00; text-decoration-color: #00af00\">0</span>][<span style=\"color: #00af00; text-decoration-color: #00af00\">…</span> │\n",
              "├───────────────────────────┼────────────────────────┼────────────────┼────────────────────────┤\n",
              "│ conv4_block4_out          │ (<span style=\"color: #00d7ff; text-decoration-color: #00d7ff\">None</span>, <span style=\"color: #00af00; text-decoration-color: #00af00\">16</span>, <span style=\"color: #00af00; text-decoration-color: #00af00\">16</span>, <span style=\"color: #00af00; text-decoration-color: #00af00\">1024</span>)   │              <span style=\"color: #00af00; text-decoration-color: #00af00\">0</span> │ conv4_block4_add[<span style=\"color: #00af00; text-decoration-color: #00af00\">0</span>][<span style=\"color: #00af00; text-decoration-color: #00af00\">0</span>] │\n",
              "│ (<span style=\"color: #0087ff; text-decoration-color: #0087ff\">Activation</span>)              │                        │                │                        │\n",
              "├───────────────────────────┼────────────────────────┼────────────────┼────────────────────────┤\n",
              "│ conv4_block5_1_conv       │ (<span style=\"color: #00d7ff; text-decoration-color: #00d7ff\">None</span>, <span style=\"color: #00af00; text-decoration-color: #00af00\">16</span>, <span style=\"color: #00af00; text-decoration-color: #00af00\">16</span>, <span style=\"color: #00af00; text-decoration-color: #00af00\">256</span>)    │        <span style=\"color: #00af00; text-decoration-color: #00af00\">262,400</span> │ conv4_block4_out[<span style=\"color: #00af00; text-decoration-color: #00af00\">0</span>][<span style=\"color: #00af00; text-decoration-color: #00af00\">0</span>] │\n",
              "│ (<span style=\"color: #0087ff; text-decoration-color: #0087ff\">Conv2D</span>)                  │                        │                │                        │\n",
              "├───────────────────────────┼────────────────────────┼────────────────┼────────────────────────┤\n",
              "│ conv4_block5_1_bn         │ (<span style=\"color: #00d7ff; text-decoration-color: #00d7ff\">None</span>, <span style=\"color: #00af00; text-decoration-color: #00af00\">16</span>, <span style=\"color: #00af00; text-decoration-color: #00af00\">16</span>, <span style=\"color: #00af00; text-decoration-color: #00af00\">256</span>)    │          <span style=\"color: #00af00; text-decoration-color: #00af00\">1,024</span> │ conv4_block5_1_conv[<span style=\"color: #00af00; text-decoration-color: #00af00\">0</span>… │\n",
              "│ (<span style=\"color: #0087ff; text-decoration-color: #0087ff\">BatchNormalization</span>)      │                        │                │                        │\n",
              "├───────────────────────────┼────────────────────────┼────────────────┼────────────────────────┤\n",
              "│ conv4_block5_1_relu       │ (<span style=\"color: #00d7ff; text-decoration-color: #00d7ff\">None</span>, <span style=\"color: #00af00; text-decoration-color: #00af00\">16</span>, <span style=\"color: #00af00; text-decoration-color: #00af00\">16</span>, <span style=\"color: #00af00; text-decoration-color: #00af00\">256</span>)    │              <span style=\"color: #00af00; text-decoration-color: #00af00\">0</span> │ conv4_block5_1_bn[<span style=\"color: #00af00; text-decoration-color: #00af00\">0</span>][<span style=\"color: #00af00; text-decoration-color: #00af00\">…</span> │\n",
              "│ (<span style=\"color: #0087ff; text-decoration-color: #0087ff\">Activation</span>)              │                        │                │                        │\n",
              "├───────────────────────────┼────────────────────────┼────────────────┼────────────────────────┤\n",
              "│ conv4_block5_2_conv       │ (<span style=\"color: #00d7ff; text-decoration-color: #00d7ff\">None</span>, <span style=\"color: #00af00; text-decoration-color: #00af00\">16</span>, <span style=\"color: #00af00; text-decoration-color: #00af00\">16</span>, <span style=\"color: #00af00; text-decoration-color: #00af00\">256</span>)    │        <span style=\"color: #00af00; text-decoration-color: #00af00\">590,080</span> │ conv4_block5_1_relu[<span style=\"color: #00af00; text-decoration-color: #00af00\">0</span>… │\n",
              "│ (<span style=\"color: #0087ff; text-decoration-color: #0087ff\">Conv2D</span>)                  │                        │                │                        │\n",
              "├───────────────────────────┼────────────────────────┼────────────────┼────────────────────────┤\n",
              "│ conv4_block5_2_bn         │ (<span style=\"color: #00d7ff; text-decoration-color: #00d7ff\">None</span>, <span style=\"color: #00af00; text-decoration-color: #00af00\">16</span>, <span style=\"color: #00af00; text-decoration-color: #00af00\">16</span>, <span style=\"color: #00af00; text-decoration-color: #00af00\">256</span>)    │          <span style=\"color: #00af00; text-decoration-color: #00af00\">1,024</span> │ conv4_block5_2_conv[<span style=\"color: #00af00; text-decoration-color: #00af00\">0</span>… │\n",
              "│ (<span style=\"color: #0087ff; text-decoration-color: #0087ff\">BatchNormalization</span>)      │                        │                │                        │\n",
              "├───────────────────────────┼────────────────────────┼────────────────┼────────────────────────┤\n",
              "│ conv4_block5_2_relu       │ (<span style=\"color: #00d7ff; text-decoration-color: #00d7ff\">None</span>, <span style=\"color: #00af00; text-decoration-color: #00af00\">16</span>, <span style=\"color: #00af00; text-decoration-color: #00af00\">16</span>, <span style=\"color: #00af00; text-decoration-color: #00af00\">256</span>)    │              <span style=\"color: #00af00; text-decoration-color: #00af00\">0</span> │ conv4_block5_2_bn[<span style=\"color: #00af00; text-decoration-color: #00af00\">0</span>][<span style=\"color: #00af00; text-decoration-color: #00af00\">…</span> │\n",
              "│ (<span style=\"color: #0087ff; text-decoration-color: #0087ff\">Activation</span>)              │                        │                │                        │\n",
              "├───────────────────────────┼────────────────────────┼────────────────┼────────────────────────┤\n",
              "│ conv4_block5_3_conv       │ (<span style=\"color: #00d7ff; text-decoration-color: #00d7ff\">None</span>, <span style=\"color: #00af00; text-decoration-color: #00af00\">16</span>, <span style=\"color: #00af00; text-decoration-color: #00af00\">16</span>, <span style=\"color: #00af00; text-decoration-color: #00af00\">1024</span>)   │        <span style=\"color: #00af00; text-decoration-color: #00af00\">263,168</span> │ conv4_block5_2_relu[<span style=\"color: #00af00; text-decoration-color: #00af00\">0</span>… │\n",
              "│ (<span style=\"color: #0087ff; text-decoration-color: #0087ff\">Conv2D</span>)                  │                        │                │                        │\n",
              "├───────────────────────────┼────────────────────────┼────────────────┼────────────────────────┤\n",
              "│ conv4_block5_3_bn         │ (<span style=\"color: #00d7ff; text-decoration-color: #00d7ff\">None</span>, <span style=\"color: #00af00; text-decoration-color: #00af00\">16</span>, <span style=\"color: #00af00; text-decoration-color: #00af00\">16</span>, <span style=\"color: #00af00; text-decoration-color: #00af00\">1024</span>)   │          <span style=\"color: #00af00; text-decoration-color: #00af00\">4,096</span> │ conv4_block5_3_conv[<span style=\"color: #00af00; text-decoration-color: #00af00\">0</span>… │\n",
              "│ (<span style=\"color: #0087ff; text-decoration-color: #0087ff\">BatchNormalization</span>)      │                        │                │                        │\n",
              "├───────────────────────────┼────────────────────────┼────────────────┼────────────────────────┤\n",
              "│ conv4_block5_add (<span style=\"color: #0087ff; text-decoration-color: #0087ff\">Add</span>)    │ (<span style=\"color: #00d7ff; text-decoration-color: #00d7ff\">None</span>, <span style=\"color: #00af00; text-decoration-color: #00af00\">16</span>, <span style=\"color: #00af00; text-decoration-color: #00af00\">16</span>, <span style=\"color: #00af00; text-decoration-color: #00af00\">1024</span>)   │              <span style=\"color: #00af00; text-decoration-color: #00af00\">0</span> │ conv4_block4_out[<span style=\"color: #00af00; text-decoration-color: #00af00\">0</span>][<span style=\"color: #00af00; text-decoration-color: #00af00\">0</span>… │\n",
              "│                           │                        │                │ conv4_block5_3_bn[<span style=\"color: #00af00; text-decoration-color: #00af00\">0</span>][<span style=\"color: #00af00; text-decoration-color: #00af00\">…</span> │\n",
              "├───────────────────────────┼────────────────────────┼────────────────┼────────────────────────┤\n",
              "│ conv4_block5_out          │ (<span style=\"color: #00d7ff; text-decoration-color: #00d7ff\">None</span>, <span style=\"color: #00af00; text-decoration-color: #00af00\">16</span>, <span style=\"color: #00af00; text-decoration-color: #00af00\">16</span>, <span style=\"color: #00af00; text-decoration-color: #00af00\">1024</span>)   │              <span style=\"color: #00af00; text-decoration-color: #00af00\">0</span> │ conv4_block5_add[<span style=\"color: #00af00; text-decoration-color: #00af00\">0</span>][<span style=\"color: #00af00; text-decoration-color: #00af00\">0</span>] │\n",
              "│ (<span style=\"color: #0087ff; text-decoration-color: #0087ff\">Activation</span>)              │                        │                │                        │\n",
              "├───────────────────────────┼────────────────────────┼────────────────┼────────────────────────┤\n",
              "│ conv4_block6_1_conv       │ (<span style=\"color: #00d7ff; text-decoration-color: #00d7ff\">None</span>, <span style=\"color: #00af00; text-decoration-color: #00af00\">16</span>, <span style=\"color: #00af00; text-decoration-color: #00af00\">16</span>, <span style=\"color: #00af00; text-decoration-color: #00af00\">256</span>)    │        <span style=\"color: #00af00; text-decoration-color: #00af00\">262,400</span> │ conv4_block5_out[<span style=\"color: #00af00; text-decoration-color: #00af00\">0</span>][<span style=\"color: #00af00; text-decoration-color: #00af00\">0</span>] │\n",
              "│ (<span style=\"color: #0087ff; text-decoration-color: #0087ff\">Conv2D</span>)                  │                        │                │                        │\n",
              "├───────────────────────────┼────────────────────────┼────────────────┼────────────────────────┤\n",
              "│ conv4_block6_1_bn         │ (<span style=\"color: #00d7ff; text-decoration-color: #00d7ff\">None</span>, <span style=\"color: #00af00; text-decoration-color: #00af00\">16</span>, <span style=\"color: #00af00; text-decoration-color: #00af00\">16</span>, <span style=\"color: #00af00; text-decoration-color: #00af00\">256</span>)    │          <span style=\"color: #00af00; text-decoration-color: #00af00\">1,024</span> │ conv4_block6_1_conv[<span style=\"color: #00af00; text-decoration-color: #00af00\">0</span>… │\n",
              "│ (<span style=\"color: #0087ff; text-decoration-color: #0087ff\">BatchNormalization</span>)      │                        │                │                        │\n",
              "├───────────────────────────┼────────────────────────┼────────────────┼────────────────────────┤\n",
              "│ conv4_block6_1_relu       │ (<span style=\"color: #00d7ff; text-decoration-color: #00d7ff\">None</span>, <span style=\"color: #00af00; text-decoration-color: #00af00\">16</span>, <span style=\"color: #00af00; text-decoration-color: #00af00\">16</span>, <span style=\"color: #00af00; text-decoration-color: #00af00\">256</span>)    │              <span style=\"color: #00af00; text-decoration-color: #00af00\">0</span> │ conv4_block6_1_bn[<span style=\"color: #00af00; text-decoration-color: #00af00\">0</span>][<span style=\"color: #00af00; text-decoration-color: #00af00\">…</span> │\n",
              "│ (<span style=\"color: #0087ff; text-decoration-color: #0087ff\">Activation</span>)              │                        │                │                        │\n",
              "├───────────────────────────┼────────────────────────┼────────────────┼────────────────────────┤\n",
              "│ conv4_block6_2_conv       │ (<span style=\"color: #00d7ff; text-decoration-color: #00d7ff\">None</span>, <span style=\"color: #00af00; text-decoration-color: #00af00\">16</span>, <span style=\"color: #00af00; text-decoration-color: #00af00\">16</span>, <span style=\"color: #00af00; text-decoration-color: #00af00\">256</span>)    │        <span style=\"color: #00af00; text-decoration-color: #00af00\">590,080</span> │ conv4_block6_1_relu[<span style=\"color: #00af00; text-decoration-color: #00af00\">0</span>… │\n",
              "│ (<span style=\"color: #0087ff; text-decoration-color: #0087ff\">Conv2D</span>)                  │                        │                │                        │\n",
              "├───────────────────────────┼────────────────────────┼────────────────┼────────────────────────┤\n",
              "│ conv4_block6_2_bn         │ (<span style=\"color: #00d7ff; text-decoration-color: #00d7ff\">None</span>, <span style=\"color: #00af00; text-decoration-color: #00af00\">16</span>, <span style=\"color: #00af00; text-decoration-color: #00af00\">16</span>, <span style=\"color: #00af00; text-decoration-color: #00af00\">256</span>)    │          <span style=\"color: #00af00; text-decoration-color: #00af00\">1,024</span> │ conv4_block6_2_conv[<span style=\"color: #00af00; text-decoration-color: #00af00\">0</span>… │\n",
              "│ (<span style=\"color: #0087ff; text-decoration-color: #0087ff\">BatchNormalization</span>)      │                        │                │                        │\n",
              "├───────────────────────────┼────────────────────────┼────────────────┼────────────────────────┤\n",
              "│ conv4_block6_2_relu       │ (<span style=\"color: #00d7ff; text-decoration-color: #00d7ff\">None</span>, <span style=\"color: #00af00; text-decoration-color: #00af00\">16</span>, <span style=\"color: #00af00; text-decoration-color: #00af00\">16</span>, <span style=\"color: #00af00; text-decoration-color: #00af00\">256</span>)    │              <span style=\"color: #00af00; text-decoration-color: #00af00\">0</span> │ conv4_block6_2_bn[<span style=\"color: #00af00; text-decoration-color: #00af00\">0</span>][<span style=\"color: #00af00; text-decoration-color: #00af00\">…</span> │\n",
              "│ (<span style=\"color: #0087ff; text-decoration-color: #0087ff\">Activation</span>)              │                        │                │                        │\n",
              "├───────────────────────────┼────────────────────────┼────────────────┼────────────────────────┤\n",
              "│ conv4_block6_3_conv       │ (<span style=\"color: #00d7ff; text-decoration-color: #00d7ff\">None</span>, <span style=\"color: #00af00; text-decoration-color: #00af00\">16</span>, <span style=\"color: #00af00; text-decoration-color: #00af00\">16</span>, <span style=\"color: #00af00; text-decoration-color: #00af00\">1024</span>)   │        <span style=\"color: #00af00; text-decoration-color: #00af00\">263,168</span> │ conv4_block6_2_relu[<span style=\"color: #00af00; text-decoration-color: #00af00\">0</span>… │\n",
              "│ (<span style=\"color: #0087ff; text-decoration-color: #0087ff\">Conv2D</span>)                  │                        │                │                        │\n",
              "├───────────────────────────┼────────────────────────┼────────────────┼────────────────────────┤\n",
              "│ conv4_block6_3_bn         │ (<span style=\"color: #00d7ff; text-decoration-color: #00d7ff\">None</span>, <span style=\"color: #00af00; text-decoration-color: #00af00\">16</span>, <span style=\"color: #00af00; text-decoration-color: #00af00\">16</span>, <span style=\"color: #00af00; text-decoration-color: #00af00\">1024</span>)   │          <span style=\"color: #00af00; text-decoration-color: #00af00\">4,096</span> │ conv4_block6_3_conv[<span style=\"color: #00af00; text-decoration-color: #00af00\">0</span>… │\n",
              "│ (<span style=\"color: #0087ff; text-decoration-color: #0087ff\">BatchNormalization</span>)      │                        │                │                        │\n",
              "├───────────────────────────┼────────────────────────┼────────────────┼────────────────────────┤\n",
              "│ conv4_block6_add (<span style=\"color: #0087ff; text-decoration-color: #0087ff\">Add</span>)    │ (<span style=\"color: #00d7ff; text-decoration-color: #00d7ff\">None</span>, <span style=\"color: #00af00; text-decoration-color: #00af00\">16</span>, <span style=\"color: #00af00; text-decoration-color: #00af00\">16</span>, <span style=\"color: #00af00; text-decoration-color: #00af00\">1024</span>)   │              <span style=\"color: #00af00; text-decoration-color: #00af00\">0</span> │ conv4_block5_out[<span style=\"color: #00af00; text-decoration-color: #00af00\">0</span>][<span style=\"color: #00af00; text-decoration-color: #00af00\">0</span>… │\n",
              "│                           │                        │                │ conv4_block6_3_bn[<span style=\"color: #00af00; text-decoration-color: #00af00\">0</span>][<span style=\"color: #00af00; text-decoration-color: #00af00\">…</span> │\n",
              "├───────────────────────────┼────────────────────────┼────────────────┼────────────────────────┤\n",
              "│ conv4_block6_out          │ (<span style=\"color: #00d7ff; text-decoration-color: #00d7ff\">None</span>, <span style=\"color: #00af00; text-decoration-color: #00af00\">16</span>, <span style=\"color: #00af00; text-decoration-color: #00af00\">16</span>, <span style=\"color: #00af00; text-decoration-color: #00af00\">1024</span>)   │              <span style=\"color: #00af00; text-decoration-color: #00af00\">0</span> │ conv4_block6_add[<span style=\"color: #00af00; text-decoration-color: #00af00\">0</span>][<span style=\"color: #00af00; text-decoration-color: #00af00\">0</span>] │\n",
              "│ (<span style=\"color: #0087ff; text-decoration-color: #0087ff\">Activation</span>)              │                        │                │                        │\n",
              "├───────────────────────────┼────────────────────────┼────────────────┼────────────────────────┤\n",
              "│ conv5_block1_1_conv       │ (<span style=\"color: #00d7ff; text-decoration-color: #00d7ff\">None</span>, <span style=\"color: #00af00; text-decoration-color: #00af00\">8</span>, <span style=\"color: #00af00; text-decoration-color: #00af00\">8</span>, <span style=\"color: #00af00; text-decoration-color: #00af00\">512</span>)      │        <span style=\"color: #00af00; text-decoration-color: #00af00\">524,800</span> │ conv4_block6_out[<span style=\"color: #00af00; text-decoration-color: #00af00\">0</span>][<span style=\"color: #00af00; text-decoration-color: #00af00\">0</span>] │\n",
              "│ (<span style=\"color: #0087ff; text-decoration-color: #0087ff\">Conv2D</span>)                  │                        │                │                        │\n",
              "├───────────────────────────┼────────────────────────┼────────────────┼────────────────────────┤\n",
              "│ conv5_block1_1_bn         │ (<span style=\"color: #00d7ff; text-decoration-color: #00d7ff\">None</span>, <span style=\"color: #00af00; text-decoration-color: #00af00\">8</span>, <span style=\"color: #00af00; text-decoration-color: #00af00\">8</span>, <span style=\"color: #00af00; text-decoration-color: #00af00\">512</span>)      │          <span style=\"color: #00af00; text-decoration-color: #00af00\">2,048</span> │ conv5_block1_1_conv[<span style=\"color: #00af00; text-decoration-color: #00af00\">0</span>… │\n",
              "│ (<span style=\"color: #0087ff; text-decoration-color: #0087ff\">BatchNormalization</span>)      │                        │                │                        │\n",
              "├───────────────────────────┼────────────────────────┼────────────────┼────────────────────────┤\n",
              "│ conv5_block1_1_relu       │ (<span style=\"color: #00d7ff; text-decoration-color: #00d7ff\">None</span>, <span style=\"color: #00af00; text-decoration-color: #00af00\">8</span>, <span style=\"color: #00af00; text-decoration-color: #00af00\">8</span>, <span style=\"color: #00af00; text-decoration-color: #00af00\">512</span>)      │              <span style=\"color: #00af00; text-decoration-color: #00af00\">0</span> │ conv5_block1_1_bn[<span style=\"color: #00af00; text-decoration-color: #00af00\">0</span>][<span style=\"color: #00af00; text-decoration-color: #00af00\">…</span> │\n",
              "│ (<span style=\"color: #0087ff; text-decoration-color: #0087ff\">Activation</span>)              │                        │                │                        │\n",
              "├───────────────────────────┼────────────────────────┼────────────────┼────────────────────────┤\n",
              "│ conv5_block1_2_conv       │ (<span style=\"color: #00d7ff; text-decoration-color: #00d7ff\">None</span>, <span style=\"color: #00af00; text-decoration-color: #00af00\">8</span>, <span style=\"color: #00af00; text-decoration-color: #00af00\">8</span>, <span style=\"color: #00af00; text-decoration-color: #00af00\">512</span>)      │      <span style=\"color: #00af00; text-decoration-color: #00af00\">2,359,808</span> │ conv5_block1_1_relu[<span style=\"color: #00af00; text-decoration-color: #00af00\">0</span>… │\n",
              "│ (<span style=\"color: #0087ff; text-decoration-color: #0087ff\">Conv2D</span>)                  │                        │                │                        │\n",
              "├───────────────────────────┼────────────────────────┼────────────────┼────────────────────────┤\n",
              "│ conv5_block1_2_bn         │ (<span style=\"color: #00d7ff; text-decoration-color: #00d7ff\">None</span>, <span style=\"color: #00af00; text-decoration-color: #00af00\">8</span>, <span style=\"color: #00af00; text-decoration-color: #00af00\">8</span>, <span style=\"color: #00af00; text-decoration-color: #00af00\">512</span>)      │          <span style=\"color: #00af00; text-decoration-color: #00af00\">2,048</span> │ conv5_block1_2_conv[<span style=\"color: #00af00; text-decoration-color: #00af00\">0</span>… │\n",
              "│ (<span style=\"color: #0087ff; text-decoration-color: #0087ff\">BatchNormalization</span>)      │                        │                │                        │\n",
              "├───────────────────────────┼────────────────────────┼────────────────┼────────────────────────┤\n",
              "│ conv5_block1_2_relu       │ (<span style=\"color: #00d7ff; text-decoration-color: #00d7ff\">None</span>, <span style=\"color: #00af00; text-decoration-color: #00af00\">8</span>, <span style=\"color: #00af00; text-decoration-color: #00af00\">8</span>, <span style=\"color: #00af00; text-decoration-color: #00af00\">512</span>)      │              <span style=\"color: #00af00; text-decoration-color: #00af00\">0</span> │ conv5_block1_2_bn[<span style=\"color: #00af00; text-decoration-color: #00af00\">0</span>][<span style=\"color: #00af00; text-decoration-color: #00af00\">…</span> │\n",
              "│ (<span style=\"color: #0087ff; text-decoration-color: #0087ff\">Activation</span>)              │                        │                │                        │\n",
              "├───────────────────────────┼────────────────────────┼────────────────┼────────────────────────┤\n",
              "│ conv5_block1_0_conv       │ (<span style=\"color: #00d7ff; text-decoration-color: #00d7ff\">None</span>, <span style=\"color: #00af00; text-decoration-color: #00af00\">8</span>, <span style=\"color: #00af00; text-decoration-color: #00af00\">8</span>, <span style=\"color: #00af00; text-decoration-color: #00af00\">2048</span>)     │      <span style=\"color: #00af00; text-decoration-color: #00af00\">2,099,200</span> │ conv4_block6_out[<span style=\"color: #00af00; text-decoration-color: #00af00\">0</span>][<span style=\"color: #00af00; text-decoration-color: #00af00\">0</span>] │\n",
              "│ (<span style=\"color: #0087ff; text-decoration-color: #0087ff\">Conv2D</span>)                  │                        │                │                        │\n",
              "├───────────────────────────┼────────────────────────┼────────────────┼────────────────────────┤\n",
              "│ conv5_block1_3_conv       │ (<span style=\"color: #00d7ff; text-decoration-color: #00d7ff\">None</span>, <span style=\"color: #00af00; text-decoration-color: #00af00\">8</span>, <span style=\"color: #00af00; text-decoration-color: #00af00\">8</span>, <span style=\"color: #00af00; text-decoration-color: #00af00\">2048</span>)     │      <span style=\"color: #00af00; text-decoration-color: #00af00\">1,050,624</span> │ conv5_block1_2_relu[<span style=\"color: #00af00; text-decoration-color: #00af00\">0</span>… │\n",
              "│ (<span style=\"color: #0087ff; text-decoration-color: #0087ff\">Conv2D</span>)                  │                        │                │                        │\n",
              "├───────────────────────────┼────────────────────────┼────────────────┼────────────────────────┤\n",
              "│ conv5_block1_0_bn         │ (<span style=\"color: #00d7ff; text-decoration-color: #00d7ff\">None</span>, <span style=\"color: #00af00; text-decoration-color: #00af00\">8</span>, <span style=\"color: #00af00; text-decoration-color: #00af00\">8</span>, <span style=\"color: #00af00; text-decoration-color: #00af00\">2048</span>)     │          <span style=\"color: #00af00; text-decoration-color: #00af00\">8,192</span> │ conv5_block1_0_conv[<span style=\"color: #00af00; text-decoration-color: #00af00\">0</span>… │\n",
              "│ (<span style=\"color: #0087ff; text-decoration-color: #0087ff\">BatchNormalization</span>)      │                        │                │                        │\n",
              "├───────────────────────────┼────────────────────────┼────────────────┼────────────────────────┤\n",
              "│ conv5_block1_3_bn         │ (<span style=\"color: #00d7ff; text-decoration-color: #00d7ff\">None</span>, <span style=\"color: #00af00; text-decoration-color: #00af00\">8</span>, <span style=\"color: #00af00; text-decoration-color: #00af00\">8</span>, <span style=\"color: #00af00; text-decoration-color: #00af00\">2048</span>)     │          <span style=\"color: #00af00; text-decoration-color: #00af00\">8,192</span> │ conv5_block1_3_conv[<span style=\"color: #00af00; text-decoration-color: #00af00\">0</span>… │\n",
              "│ (<span style=\"color: #0087ff; text-decoration-color: #0087ff\">BatchNormalization</span>)      │                        │                │                        │\n",
              "├───────────────────────────┼────────────────────────┼────────────────┼────────────────────────┤\n",
              "│ conv5_block1_add (<span style=\"color: #0087ff; text-decoration-color: #0087ff\">Add</span>)    │ (<span style=\"color: #00d7ff; text-decoration-color: #00d7ff\">None</span>, <span style=\"color: #00af00; text-decoration-color: #00af00\">8</span>, <span style=\"color: #00af00; text-decoration-color: #00af00\">8</span>, <span style=\"color: #00af00; text-decoration-color: #00af00\">2048</span>)     │              <span style=\"color: #00af00; text-decoration-color: #00af00\">0</span> │ conv5_block1_0_bn[<span style=\"color: #00af00; text-decoration-color: #00af00\">0</span>][<span style=\"color: #00af00; text-decoration-color: #00af00\">…</span> │\n",
              "│                           │                        │                │ conv5_block1_3_bn[<span style=\"color: #00af00; text-decoration-color: #00af00\">0</span>][<span style=\"color: #00af00; text-decoration-color: #00af00\">…</span> │\n",
              "├───────────────────────────┼────────────────────────┼────────────────┼────────────────────────┤\n",
              "│ conv5_block1_out          │ (<span style=\"color: #00d7ff; text-decoration-color: #00d7ff\">None</span>, <span style=\"color: #00af00; text-decoration-color: #00af00\">8</span>, <span style=\"color: #00af00; text-decoration-color: #00af00\">8</span>, <span style=\"color: #00af00; text-decoration-color: #00af00\">2048</span>)     │              <span style=\"color: #00af00; text-decoration-color: #00af00\">0</span> │ conv5_block1_add[<span style=\"color: #00af00; text-decoration-color: #00af00\">0</span>][<span style=\"color: #00af00; text-decoration-color: #00af00\">0</span>] │\n",
              "│ (<span style=\"color: #0087ff; text-decoration-color: #0087ff\">Activation</span>)              │                        │                │                        │\n",
              "├───────────────────────────┼────────────────────────┼────────────────┼────────────────────────┤\n",
              "│ conv5_block2_1_conv       │ (<span style=\"color: #00d7ff; text-decoration-color: #00d7ff\">None</span>, <span style=\"color: #00af00; text-decoration-color: #00af00\">8</span>, <span style=\"color: #00af00; text-decoration-color: #00af00\">8</span>, <span style=\"color: #00af00; text-decoration-color: #00af00\">512</span>)      │      <span style=\"color: #00af00; text-decoration-color: #00af00\">1,049,088</span> │ conv5_block1_out[<span style=\"color: #00af00; text-decoration-color: #00af00\">0</span>][<span style=\"color: #00af00; text-decoration-color: #00af00\">0</span>] │\n",
              "│ (<span style=\"color: #0087ff; text-decoration-color: #0087ff\">Conv2D</span>)                  │                        │                │                        │\n",
              "├───────────────────────────┼────────────────────────┼────────────────┼────────────────────────┤\n",
              "│ conv5_block2_1_bn         │ (<span style=\"color: #00d7ff; text-decoration-color: #00d7ff\">None</span>, <span style=\"color: #00af00; text-decoration-color: #00af00\">8</span>, <span style=\"color: #00af00; text-decoration-color: #00af00\">8</span>, <span style=\"color: #00af00; text-decoration-color: #00af00\">512</span>)      │          <span style=\"color: #00af00; text-decoration-color: #00af00\">2,048</span> │ conv5_block2_1_conv[<span style=\"color: #00af00; text-decoration-color: #00af00\">0</span>… │\n",
              "│ (<span style=\"color: #0087ff; text-decoration-color: #0087ff\">BatchNormalization</span>)      │                        │                │                        │\n",
              "├───────────────────────────┼────────────────────────┼────────────────┼────────────────────────┤\n",
              "│ conv5_block2_1_relu       │ (<span style=\"color: #00d7ff; text-decoration-color: #00d7ff\">None</span>, <span style=\"color: #00af00; text-decoration-color: #00af00\">8</span>, <span style=\"color: #00af00; text-decoration-color: #00af00\">8</span>, <span style=\"color: #00af00; text-decoration-color: #00af00\">512</span>)      │              <span style=\"color: #00af00; text-decoration-color: #00af00\">0</span> │ conv5_block2_1_bn[<span style=\"color: #00af00; text-decoration-color: #00af00\">0</span>][<span style=\"color: #00af00; text-decoration-color: #00af00\">…</span> │\n",
              "│ (<span style=\"color: #0087ff; text-decoration-color: #0087ff\">Activation</span>)              │                        │                │                        │\n",
              "├───────────────────────────┼────────────────────────┼────────────────┼────────────────────────┤\n",
              "│ conv5_block2_2_conv       │ (<span style=\"color: #00d7ff; text-decoration-color: #00d7ff\">None</span>, <span style=\"color: #00af00; text-decoration-color: #00af00\">8</span>, <span style=\"color: #00af00; text-decoration-color: #00af00\">8</span>, <span style=\"color: #00af00; text-decoration-color: #00af00\">512</span>)      │      <span style=\"color: #00af00; text-decoration-color: #00af00\">2,359,808</span> │ conv5_block2_1_relu[<span style=\"color: #00af00; text-decoration-color: #00af00\">0</span>… │\n",
              "│ (<span style=\"color: #0087ff; text-decoration-color: #0087ff\">Conv2D</span>)                  │                        │                │                        │\n",
              "├───────────────────────────┼────────────────────────┼────────────────┼────────────────────────┤\n",
              "│ conv5_block2_2_bn         │ (<span style=\"color: #00d7ff; text-decoration-color: #00d7ff\">None</span>, <span style=\"color: #00af00; text-decoration-color: #00af00\">8</span>, <span style=\"color: #00af00; text-decoration-color: #00af00\">8</span>, <span style=\"color: #00af00; text-decoration-color: #00af00\">512</span>)      │          <span style=\"color: #00af00; text-decoration-color: #00af00\">2,048</span> │ conv5_block2_2_conv[<span style=\"color: #00af00; text-decoration-color: #00af00\">0</span>… │\n",
              "│ (<span style=\"color: #0087ff; text-decoration-color: #0087ff\">BatchNormalization</span>)      │                        │                │                        │\n",
              "├───────────────────────────┼────────────────────────┼────────────────┼────────────────────────┤\n",
              "│ conv5_block2_2_relu       │ (<span style=\"color: #00d7ff; text-decoration-color: #00d7ff\">None</span>, <span style=\"color: #00af00; text-decoration-color: #00af00\">8</span>, <span style=\"color: #00af00; text-decoration-color: #00af00\">8</span>, <span style=\"color: #00af00; text-decoration-color: #00af00\">512</span>)      │              <span style=\"color: #00af00; text-decoration-color: #00af00\">0</span> │ conv5_block2_2_bn[<span style=\"color: #00af00; text-decoration-color: #00af00\">0</span>][<span style=\"color: #00af00; text-decoration-color: #00af00\">…</span> │\n",
              "│ (<span style=\"color: #0087ff; text-decoration-color: #0087ff\">Activation</span>)              │                        │                │                        │\n",
              "├───────────────────────────┼────────────────────────┼────────────────┼────────────────────────┤\n",
              "│ conv5_block2_3_conv       │ (<span style=\"color: #00d7ff; text-decoration-color: #00d7ff\">None</span>, <span style=\"color: #00af00; text-decoration-color: #00af00\">8</span>, <span style=\"color: #00af00; text-decoration-color: #00af00\">8</span>, <span style=\"color: #00af00; text-decoration-color: #00af00\">2048</span>)     │      <span style=\"color: #00af00; text-decoration-color: #00af00\">1,050,624</span> │ conv5_block2_2_relu[<span style=\"color: #00af00; text-decoration-color: #00af00\">0</span>… │\n",
              "│ (<span style=\"color: #0087ff; text-decoration-color: #0087ff\">Conv2D</span>)                  │                        │                │                        │\n",
              "├───────────────────────────┼────────────────────────┼────────────────┼────────────────────────┤\n",
              "│ conv5_block2_3_bn         │ (<span style=\"color: #00d7ff; text-decoration-color: #00d7ff\">None</span>, <span style=\"color: #00af00; text-decoration-color: #00af00\">8</span>, <span style=\"color: #00af00; text-decoration-color: #00af00\">8</span>, <span style=\"color: #00af00; text-decoration-color: #00af00\">2048</span>)     │          <span style=\"color: #00af00; text-decoration-color: #00af00\">8,192</span> │ conv5_block2_3_conv[<span style=\"color: #00af00; text-decoration-color: #00af00\">0</span>… │\n",
              "│ (<span style=\"color: #0087ff; text-decoration-color: #0087ff\">BatchNormalization</span>)      │                        │                │                        │\n",
              "├───────────────────────────┼────────────────────────┼────────────────┼────────────────────────┤\n",
              "│ conv5_block2_add (<span style=\"color: #0087ff; text-decoration-color: #0087ff\">Add</span>)    │ (<span style=\"color: #00d7ff; text-decoration-color: #00d7ff\">None</span>, <span style=\"color: #00af00; text-decoration-color: #00af00\">8</span>, <span style=\"color: #00af00; text-decoration-color: #00af00\">8</span>, <span style=\"color: #00af00; text-decoration-color: #00af00\">2048</span>)     │              <span style=\"color: #00af00; text-decoration-color: #00af00\">0</span> │ conv5_block1_out[<span style=\"color: #00af00; text-decoration-color: #00af00\">0</span>][<span style=\"color: #00af00; text-decoration-color: #00af00\">0</span>… │\n",
              "│                           │                        │                │ conv5_block2_3_bn[<span style=\"color: #00af00; text-decoration-color: #00af00\">0</span>][<span style=\"color: #00af00; text-decoration-color: #00af00\">…</span> │\n",
              "├───────────────────────────┼────────────────────────┼────────────────┼────────────────────────┤\n",
              "│ conv5_block2_out          │ (<span style=\"color: #00d7ff; text-decoration-color: #00d7ff\">None</span>, <span style=\"color: #00af00; text-decoration-color: #00af00\">8</span>, <span style=\"color: #00af00; text-decoration-color: #00af00\">8</span>, <span style=\"color: #00af00; text-decoration-color: #00af00\">2048</span>)     │              <span style=\"color: #00af00; text-decoration-color: #00af00\">0</span> │ conv5_block2_add[<span style=\"color: #00af00; text-decoration-color: #00af00\">0</span>][<span style=\"color: #00af00; text-decoration-color: #00af00\">0</span>] │\n",
              "│ (<span style=\"color: #0087ff; text-decoration-color: #0087ff\">Activation</span>)              │                        │                │                        │\n",
              "├───────────────────────────┼────────────────────────┼────────────────┼────────────────────────┤\n",
              "│ conv5_block3_1_conv       │ (<span style=\"color: #00d7ff; text-decoration-color: #00d7ff\">None</span>, <span style=\"color: #00af00; text-decoration-color: #00af00\">8</span>, <span style=\"color: #00af00; text-decoration-color: #00af00\">8</span>, <span style=\"color: #00af00; text-decoration-color: #00af00\">512</span>)      │      <span style=\"color: #00af00; text-decoration-color: #00af00\">1,049,088</span> │ conv5_block2_out[<span style=\"color: #00af00; text-decoration-color: #00af00\">0</span>][<span style=\"color: #00af00; text-decoration-color: #00af00\">0</span>] │\n",
              "│ (<span style=\"color: #0087ff; text-decoration-color: #0087ff\">Conv2D</span>)                  │                        │                │                        │\n",
              "├───────────────────────────┼────────────────────────┼────────────────┼────────────────────────┤\n",
              "│ conv5_block3_1_bn         │ (<span style=\"color: #00d7ff; text-decoration-color: #00d7ff\">None</span>, <span style=\"color: #00af00; text-decoration-color: #00af00\">8</span>, <span style=\"color: #00af00; text-decoration-color: #00af00\">8</span>, <span style=\"color: #00af00; text-decoration-color: #00af00\">512</span>)      │          <span style=\"color: #00af00; text-decoration-color: #00af00\">2,048</span> │ conv5_block3_1_conv[<span style=\"color: #00af00; text-decoration-color: #00af00\">0</span>… │\n",
              "│ (<span style=\"color: #0087ff; text-decoration-color: #0087ff\">BatchNormalization</span>)      │                        │                │                        │\n",
              "├───────────────────────────┼────────────────────────┼────────────────┼────────────────────────┤\n",
              "│ conv5_block3_1_relu       │ (<span style=\"color: #00d7ff; text-decoration-color: #00d7ff\">None</span>, <span style=\"color: #00af00; text-decoration-color: #00af00\">8</span>, <span style=\"color: #00af00; text-decoration-color: #00af00\">8</span>, <span style=\"color: #00af00; text-decoration-color: #00af00\">512</span>)      │              <span style=\"color: #00af00; text-decoration-color: #00af00\">0</span> │ conv5_block3_1_bn[<span style=\"color: #00af00; text-decoration-color: #00af00\">0</span>][<span style=\"color: #00af00; text-decoration-color: #00af00\">…</span> │\n",
              "│ (<span style=\"color: #0087ff; text-decoration-color: #0087ff\">Activation</span>)              │                        │                │                        │\n",
              "├───────────────────────────┼────────────────────────┼────────────────┼────────────────────────┤\n",
              "│ conv5_block3_2_conv       │ (<span style=\"color: #00d7ff; text-decoration-color: #00d7ff\">None</span>, <span style=\"color: #00af00; text-decoration-color: #00af00\">8</span>, <span style=\"color: #00af00; text-decoration-color: #00af00\">8</span>, <span style=\"color: #00af00; text-decoration-color: #00af00\">512</span>)      │      <span style=\"color: #00af00; text-decoration-color: #00af00\">2,359,808</span> │ conv5_block3_1_relu[<span style=\"color: #00af00; text-decoration-color: #00af00\">0</span>… │\n",
              "│ (<span style=\"color: #0087ff; text-decoration-color: #0087ff\">Conv2D</span>)                  │                        │                │                        │\n",
              "├───────────────────────────┼────────────────────────┼────────────────┼────────────────────────┤\n",
              "│ conv5_block3_2_bn         │ (<span style=\"color: #00d7ff; text-decoration-color: #00d7ff\">None</span>, <span style=\"color: #00af00; text-decoration-color: #00af00\">8</span>, <span style=\"color: #00af00; text-decoration-color: #00af00\">8</span>, <span style=\"color: #00af00; text-decoration-color: #00af00\">512</span>)      │          <span style=\"color: #00af00; text-decoration-color: #00af00\">2,048</span> │ conv5_block3_2_conv[<span style=\"color: #00af00; text-decoration-color: #00af00\">0</span>… │\n",
              "│ (<span style=\"color: #0087ff; text-decoration-color: #0087ff\">BatchNormalization</span>)      │                        │                │                        │\n",
              "├───────────────────────────┼────────────────────────┼────────────────┼────────────────────────┤\n",
              "│ conv5_block3_2_relu       │ (<span style=\"color: #00d7ff; text-decoration-color: #00d7ff\">None</span>, <span style=\"color: #00af00; text-decoration-color: #00af00\">8</span>, <span style=\"color: #00af00; text-decoration-color: #00af00\">8</span>, <span style=\"color: #00af00; text-decoration-color: #00af00\">512</span>)      │              <span style=\"color: #00af00; text-decoration-color: #00af00\">0</span> │ conv5_block3_2_bn[<span style=\"color: #00af00; text-decoration-color: #00af00\">0</span>][<span style=\"color: #00af00; text-decoration-color: #00af00\">…</span> │\n",
              "│ (<span style=\"color: #0087ff; text-decoration-color: #0087ff\">Activation</span>)              │                        │                │                        │\n",
              "├───────────────────────────┼────────────────────────┼────────────────┼────────────────────────┤\n",
              "│ conv5_block3_3_conv       │ (<span style=\"color: #00d7ff; text-decoration-color: #00d7ff\">None</span>, <span style=\"color: #00af00; text-decoration-color: #00af00\">8</span>, <span style=\"color: #00af00; text-decoration-color: #00af00\">8</span>, <span style=\"color: #00af00; text-decoration-color: #00af00\">2048</span>)     │      <span style=\"color: #00af00; text-decoration-color: #00af00\">1,050,624</span> │ conv5_block3_2_relu[<span style=\"color: #00af00; text-decoration-color: #00af00\">0</span>… │\n",
              "│ (<span style=\"color: #0087ff; text-decoration-color: #0087ff\">Conv2D</span>)                  │                        │                │                        │\n",
              "├───────────────────────────┼────────────────────────┼────────────────┼────────────────────────┤\n",
              "│ conv5_block3_3_bn         │ (<span style=\"color: #00d7ff; text-decoration-color: #00d7ff\">None</span>, <span style=\"color: #00af00; text-decoration-color: #00af00\">8</span>, <span style=\"color: #00af00; text-decoration-color: #00af00\">8</span>, <span style=\"color: #00af00; text-decoration-color: #00af00\">2048</span>)     │          <span style=\"color: #00af00; text-decoration-color: #00af00\">8,192</span> │ conv5_block3_3_conv[<span style=\"color: #00af00; text-decoration-color: #00af00\">0</span>… │\n",
              "│ (<span style=\"color: #0087ff; text-decoration-color: #0087ff\">BatchNormalization</span>)      │                        │                │                        │\n",
              "├───────────────────────────┼────────────────────────┼────────────────┼────────────────────────┤\n",
              "│ conv5_block3_add (<span style=\"color: #0087ff; text-decoration-color: #0087ff\">Add</span>)    │ (<span style=\"color: #00d7ff; text-decoration-color: #00d7ff\">None</span>, <span style=\"color: #00af00; text-decoration-color: #00af00\">8</span>, <span style=\"color: #00af00; text-decoration-color: #00af00\">8</span>, <span style=\"color: #00af00; text-decoration-color: #00af00\">2048</span>)     │              <span style=\"color: #00af00; text-decoration-color: #00af00\">0</span> │ conv5_block2_out[<span style=\"color: #00af00; text-decoration-color: #00af00\">0</span>][<span style=\"color: #00af00; text-decoration-color: #00af00\">0</span>… │\n",
              "│                           │                        │                │ conv5_block3_3_bn[<span style=\"color: #00af00; text-decoration-color: #00af00\">0</span>][<span style=\"color: #00af00; text-decoration-color: #00af00\">…</span> │\n",
              "├───────────────────────────┼────────────────────────┼────────────────┼────────────────────────┤\n",
              "│ conv5_block3_out          │ (<span style=\"color: #00d7ff; text-decoration-color: #00d7ff\">None</span>, <span style=\"color: #00af00; text-decoration-color: #00af00\">8</span>, <span style=\"color: #00af00; text-decoration-color: #00af00\">8</span>, <span style=\"color: #00af00; text-decoration-color: #00af00\">2048</span>)     │              <span style=\"color: #00af00; text-decoration-color: #00af00\">0</span> │ conv5_block3_add[<span style=\"color: #00af00; text-decoration-color: #00af00\">0</span>][<span style=\"color: #00af00; text-decoration-color: #00af00\">0</span>] │\n",
              "│ (<span style=\"color: #0087ff; text-decoration-color: #0087ff\">Activation</span>)              │                        │                │                        │\n",
              "└───────────────────────────┴────────────────────────┴────────────────┴────────────────────────┘\n",
              "</pre>\n"
            ]
          },
          "metadata": {}
        },
        {
          "output_type": "display_data",
          "data": {
            "text/plain": [
              "\u001b[1m Total params: \u001b[0m\u001b[38;5;34m23,587,712\u001b[0m (89.98 MB)\n"
            ],
            "text/html": [
              "<pre style=\"white-space:pre;overflow-x:auto;line-height:normal;font-family:Menlo,'DejaVu Sans Mono',consolas,'Courier New',monospace\"><span style=\"font-weight: bold\"> Total params: </span><span style=\"color: #00af00; text-decoration-color: #00af00\">23,587,712</span> (89.98 MB)\n",
              "</pre>\n"
            ]
          },
          "metadata": {}
        },
        {
          "output_type": "display_data",
          "data": {
            "text/plain": [
              "\u001b[1m Trainable params: \u001b[0m\u001b[38;5;34m23,534,592\u001b[0m (89.78 MB)\n"
            ],
            "text/html": [
              "<pre style=\"white-space:pre;overflow-x:auto;line-height:normal;font-family:Menlo,'DejaVu Sans Mono',consolas,'Courier New',monospace\"><span style=\"font-weight: bold\"> Trainable params: </span><span style=\"color: #00af00; text-decoration-color: #00af00\">23,534,592</span> (89.78 MB)\n",
              "</pre>\n"
            ]
          },
          "metadata": {}
        },
        {
          "output_type": "display_data",
          "data": {
            "text/plain": [
              "\u001b[1m Non-trainable params: \u001b[0m\u001b[38;5;34m53,120\u001b[0m (207.50 KB)\n"
            ],
            "text/html": [
              "<pre style=\"white-space:pre;overflow-x:auto;line-height:normal;font-family:Menlo,'DejaVu Sans Mono',consolas,'Courier New',monospace\"><span style=\"font-weight: bold\"> Non-trainable params: </span><span style=\"color: #00af00; text-decoration-color: #00af00\">53,120</span> (207.50 KB)\n",
              "</pre>\n"
            ]
          },
          "metadata": {}
        }
      ]
    },
    {
      "cell_type": "code",
      "source": [
        "model = Sequential()\n",
        "model.add(layers.UpSampling2D((2,2)))\n",
        "model.add(layers.UpSampling2D((2,2)))\n",
        "model.add(layers.UpSampling2D((2,2)))\n",
        "model.add(convolutional_base)\n",
        "model.add(Flatten())\n",
        "model.add(BatchNormalization())\n",
        "model.add(Dense(128, activation='relu'))\n",
        "model.add(Dropout(0.5))\n",
        "model.add(BatchNormalization())\n",
        "model.add(Dense(64, activation='relu'))\n",
        "model.add(Dropout(0.5))\n",
        "model.add(BatchNormalization())\n",
        "model.add(Dense(10, activation='softmax'))"
      ],
      "metadata": {
        "id": "KCxWdmpHG35L"
      },
      "execution_count": 52,
      "outputs": []
    },
    {
      "cell_type": "code",
      "source": [
        "model.compile(optimizer=optimizers.RMSprop(learning_rate=2e-5), loss='sparse_categorical_crossentropy', metrics=['acc'])"
      ],
      "metadata": {
        "id": "QTPBWeJrJ-ic"
      },
      "execution_count": 57,
      "outputs": []
    },
    {
      "cell_type": "code",
      "source": [
        "history = model.fit(X_train_scaled, Y_train, validation_split=0.1, epochs=10)"
      ],
      "metadata": {
        "colab": {
          "base_uri": "https://localhost:8080/"
        },
        "id": "n855HBSCLWad",
        "outputId": "f734c111-cbc2-4347-bb15-8291e488d971"
      },
      "execution_count": 58,
      "outputs": [
        {
          "output_type": "stream",
          "name": "stdout",
          "text": [
            "Epoch 1/10\n",
            "\u001b[1m1125/1125\u001b[0m \u001b[32m━━━━━━━━━━━━━━━━━━━━\u001b[0m\u001b[37m\u001b[0m \u001b[1m459s\u001b[0m 353ms/step - acc: 0.3285 - loss: 2.0431 - val_acc: 0.7063 - val_loss: 1.0302\n",
            "Epoch 2/10\n",
            "\u001b[1m1125/1125\u001b[0m \u001b[32m━━━━━━━━━━━━━━━━━━━━\u001b[0m\u001b[37m\u001b[0m \u001b[1m393s\u001b[0m 349ms/step - acc: 0.6573 - loss: 1.1096 - val_acc: 0.8813 - val_loss: 0.5013\n",
            "Epoch 3/10\n",
            "\u001b[1m1125/1125\u001b[0m \u001b[32m━━━━━━━━━━━━━━━━━━━━\u001b[0m\u001b[37m\u001b[0m \u001b[1m450s\u001b[0m 356ms/step - acc: 0.7962 - loss: 0.7698 - val_acc: 0.9172 - val_loss: 0.3512\n",
            "Epoch 4/10\n",
            "\u001b[1m1125/1125\u001b[0m \u001b[32m━━━━━━━━━━━━━━━━━━━━\u001b[0m\u001b[37m\u001b[0m \u001b[1m442s\u001b[0m 356ms/step - acc: 0.8612 - loss: 0.5897 - val_acc: 0.9323 - val_loss: 0.2890\n",
            "Epoch 5/10\n",
            "\u001b[1m1125/1125\u001b[0m \u001b[32m━━━━━━━━━━━━━━━━━━━━\u001b[0m\u001b[37m\u001b[0m \u001b[1m433s\u001b[0m 348ms/step - acc: 0.9022 - loss: 0.4601 - val_acc: 0.9330 - val_loss: 0.2750\n",
            "Epoch 6/10\n",
            "\u001b[1m1125/1125\u001b[0m \u001b[32m━━━━━━━━━━━━━━━━━━━━\u001b[0m\u001b[37m\u001b[0m \u001b[1m392s\u001b[0m 348ms/step - acc: 0.9329 - loss: 0.3583 - val_acc: 0.9375 - val_loss: 0.2413\n",
            "Epoch 7/10\n",
            "\u001b[1m1125/1125\u001b[0m \u001b[32m━━━━━━━━━━━━━━━━━━━━\u001b[0m\u001b[37m\u001b[0m \u001b[1m450s\u001b[0m 355ms/step - acc: 0.9506 - loss: 0.2923 - val_acc: 0.9420 - val_loss: 0.2252\n",
            "Epoch 8/10\n",
            "\u001b[1m1125/1125\u001b[0m \u001b[32m━━━━━━━━━━━━━━━━━━━━\u001b[0m\u001b[37m\u001b[0m \u001b[1m442s\u001b[0m 356ms/step - acc: 0.9622 - loss: 0.2425 - val_acc: 0.9402 - val_loss: 0.2243\n",
            "Epoch 9/10\n",
            "\u001b[1m1125/1125\u001b[0m \u001b[32m━━━━━━━━━━━━━━━━━━━━\u001b[0m\u001b[37m\u001b[0m \u001b[1m434s\u001b[0m 348ms/step - acc: 0.9737 - loss: 0.1982 - val_acc: 0.9405 - val_loss: 0.2196\n",
            "Epoch 10/10\n",
            "\u001b[1m1125/1125\u001b[0m \u001b[32m━━━━━━━━━━━━━━━━━━━━\u001b[0m\u001b[37m\u001b[0m \u001b[1m442s\u001b[0m 349ms/step - acc: 0.9770 - loss: 0.1698 - val_acc: 0.9423 - val_loss: 0.2267\n"
          ]
        }
      ]
    },
    {
      "cell_type": "code",
      "source": [
        "h = history\n",
        "\n",
        "#plot the loss value\n",
        "plt.plot(h.history['loss'],label='train loss')\n",
        "plt.plot(h.history['val_loss'], label='validation loss')\n",
        "plt.legend()\n",
        "plt.show()\n",
        "\n",
        "# plot the accuracy value\n",
        "plt.plot(h.history['acc'], label='train acc')\n",
        "plt.plot(h.history['val_acc'], label='validation acc')\n",
        "plt.legend()\n",
        "plt.show()"
      ],
      "metadata": {
        "colab": {
          "base_uri": "https://localhost:8080/",
          "height": 846
        },
        "id": "0bzANlYWMILI",
        "outputId": "def60fdd-6c5c-4e67-f6cd-f3b55360dc07"
      },
      "execution_count": 59,
      "outputs": [
        {
          "output_type": "display_data",
          "data": {
            "text/plain": [
              "<Figure size 640x480 with 1 Axes>"
            ],
            "image/png": "[encoded data removed]"
          },
          "metadata": {}
        },
        {
          "output_type": "display_data",
          "data": {
            "text/plain": [
              "<Figure size 640x480 with 1 Axes>"
            ],
            "image/png": "[encoded data removed]"
          },
          "metadata": {}
        }
      ]
    },
    {
      "cell_type": "code",
      "source": [
        "test_image = cv2.imread('/content/dog.png')\n",
        "test_image"
      ],
      "metadata": {
        "colab": {
          "base_uri": "https://localhost:8080/",
          "height": 209
        },
        "id": "o7839xfNcs8o",
        "outputId": "7e3cc528-fc40-44da-f9dd-009ded35f76c"
      },
      "execution_count": 62,
      "outputs": [
        {
          "output_type": "execute_result",
          "data": {
            "text/plain": [
              "array([[[  0,  58,  47],\n",
              "        [  0,  58,  47],\n",
              "        [  0,  57,  46],\n",
              "        ...,\n",
              "        [ 80, 129, 127],\n",
              "        [ 84, 133, 131],\n",
              "        [ 87, 136, 134]],\n",
              "\n",
              "       [[  0,  58,  47],\n",
              "        [  0,  58,  47],\n",
              "        [  0,  58,  47],\n",
              "        ...,\n",
              "        [ 80, 129, 127],\n",
              "        [ 83, 132, 130],\n",
              "        [ 86, 135, 133]],\n",
              "\n",
              "       [[  2,  58,  47],\n",
              "        [  2,  58,  47],\n",
              "        [  2,  58,  47],\n",
              "        ...,\n",
              "        [ 78, 127, 125],\n",
              "        [ 81, 130, 128],\n",
              "        [ 84, 133, 131]],\n",
              "\n",
              "       ...,\n",
              "\n",
              "       [[  9,  37,  31],\n",
              "        [  9,  37,  31],\n",
              "        [  8,  39,  32],\n",
              "        ...,\n",
              "        [113, 164, 220],\n",
              "        [113, 163, 221],\n",
              "        [110, 163, 220]],\n",
              "\n",
              "       [[  9,  37,  31],\n",
              "        [  9,  37,  31],\n",
              "        [  8,  39,  32],\n",
              "        ...,\n",
              "        [115, 166, 222],\n",
              "        [115, 165, 223],\n",
              "        [115, 165, 223]],\n",
              "\n",
              "       [[  9,  37,  31],\n",
              "        [  9,  37,  31],\n",
              "        [  8,  39,  32],\n",
              "        ...,\n",
              "        [119, 168, 224],\n",
              "        [117, 167, 225],\n",
              "        [117, 167, 225]]], dtype=uint8)"
            ],
            "text/html": [
              "<style>\n",
              "      .ndarray_repr .ndarray_raw_data {\n",
              "        display: none;\n",
              "      }\n",
              "      .ndarray_repr.show_array .ndarray_raw_data {\n",
              "        display: block;\n",
              "      }\n",
              "      .ndarray_repr.show_array .ndarray_image_preview {\n",
              "        display: none;\n",
              "      }\n",
              "      </style>\n",
              "      <div id=\"id-45bf1d35-6278-4daa-bb3f-53e07fea093a\" class=\"ndarray_repr\"><pre>ndarray (168, 300, 3) <button style=\"padding: 0 2px;\">show data</button></pre><img src=\"data:image/png;base64,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\" class=\"ndarray_image_preview\" /><pre class=\"ndarray_raw_data\">array([[[  0,  58,  47],\n",
              "        [  0,  58,  47],\n",
              "        [  0,  57,  46],\n",
              "        ...,\n",
              "        [ 80, 129, 127],\n",
              "        [ 84, 133, 131],\n",
              "        [ 87, 136, 134]],\n",
              "\n",
              "       [[  0,  58,  47],\n",
              "        [  0,  58,  47],\n",
              "        [  0,  58,  47],\n",
              "        ...,\n",
              "        [ 80, 129, 127],\n",
              "        [ 83, 132, 130],\n",
              "        [ 86, 135, 133]],\n",
              "\n",
              "       [[  2,  58,  47],\n",
              "        [  2,  58,  47],\n",
              "        [  2,  58,  47],\n",
              "        ...,\n",
              "        [ 78, 127, 125],\n",
              "        [ 81, 130, 128],\n",
              "        [ 84, 133, 131]],\n",
              "\n",
              "       ...,\n",
              "\n",
              "       [[  9,  37,  31],\n",
              "        [  9,  37,  31],\n",
              "        [  8,  39,  32],\n",
              "        ...,\n",
              "        [113, 164, 220],\n",
              "        [113, 163, 221],\n",
              "        [110, 163, 220]],\n",
              "\n",
              "       [[  9,  37,  31],\n",
              "        [  9,  37,  31],\n",
              "        [  8,  39,  32],\n",
              "        ...,\n",
              "        [115, 166, 222],\n",
              "        [115, 165, 223],\n",
              "        [115, 165, 223]],\n",
              "\n",
              "       [[  9,  37,  31],\n",
              "        [  9,  37,  31],\n",
              "        [  8,  39,  32],\n",
              "        ...,\n",
              "        [119, 168, 224],\n",
              "        [117, 167, 225],\n",
              "        [117, 167, 225]]], dtype=uint8)</pre></div><script>\n",
              "      (() => {\n",
              "      const titles = ['show data', 'hide data'];\n",
              "      let index = 0\n",
              "      document.querySelector('#id-45bf1d35-6278-4daa-bb3f-53e07fea093a button').onclick = (e) => {\n",
              "        document.querySelector('#id-45bf1d35-6278-4daa-bb3f-53e07fea093a').classList.toggle('show_array');\n",
              "        index = (++index) % 2;\n",
              "        document.querySelector('#id-45bf1d35-6278-4daa-bb3f-53e07fea093a button').textContent = titles[index];\n",
              "        e.preventDefault();\n",
              "        e.stopPropagation();\n",
              "      }\n",
              "      })();\n",
              "    </script>"
            ]
          },
          "metadata": {},
          "execution_count": 62
        }
      ]
    },
    {
      "cell_type": "code",
      "source": [
        "test_image = cv2.imread('/content/dog.png')  # Read the image\n",
        "test_img = cv2.resize(test_image, (32, 32))  # Resize to 256x256\n",
        "test_img = test_img.astype('float32') / 255.0  # Normalize to [0, 1]\n",
        "test_input = np.expand_dims(test_img, axis=0)  # Add batch dimension (1, 256, 256, 3)\n"
      ],
      "metadata": {
        "id": "pkHSA6DkeAvJ"
      },
      "execution_count": 72,
      "outputs": []
    },
    {
      "cell_type": "code",
      "source": [
        "op = model.predict(test_input)\n",
        "predicted_class = np.argmax(op)  # Get the class index with the highest probability\n",
        "key = [k for k, v in labels_dictionary.items() if v == predicted_class][0]\n",
        "print(f\"Predicted Image is of : {key}\")\n"
      ],
      "metadata": {
        "colab": {
          "base_uri": "https://localhost:8080/"
        },
        "id": "blC8vMQafkCx",
        "outputId": "8b6c2a43-97a7-49c8-cc96-cb6ce595dfb5"
      },
      "execution_count": 75,
      "outputs": [
        {
          "output_type": "stream",
          "name": "stdout",
          "text": [
            "\u001b[1m1/1\u001b[0m \u001b[32m━━━━━━━━━━━━━━━━━━━━\u001b[0m\u001b[37m\u001b[0m \u001b[1m0s\u001b[0m 24ms/step\n",
            "Predicted Image is of : dog\n"
          ]
        }
      ]
    },
    {
      "cell_type": "code",
      "source": [],
      "metadata": {
        "id": "XMyrgZ24fmS1"
      },
      "execution_count": null,
      "outputs": []
    }
  ]
}